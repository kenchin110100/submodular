{
 "cells": [
  {
   "cell_type": "code",
   "execution_count": 1,
   "metadata": {
    "collapsed": false
   },
   "outputs": [
    {
     "name": "stdout",
     "output_type": "stream",
     "text": [
      "Populating the interactive namespace from numpy and matplotlib\n"
     ]
    },
    {
     "name": "stderr",
     "output_type": "stream",
     "text": [
      "WARNING: pylab import has clobbered these variables: ['vstack', 'plt']\n",
      "`%matplotlib` prevents importing * from pylab and numpy\n"
     ]
    }
   ],
   "source": [
    "# coding: utf-8\n",
    "\"\"\"\n",
    "評価語が一番距離の短いところにあるということを証明するためのコード\n",
    "\"\"\"\n",
    "from filer2.filer2 import Filer\n",
    "from library.submodular import SubModular, Vector\n",
    "import collections\n",
    "import numpy as np\n",
    "from scipy.spatial.distance import cosine, sqeuclidean\n",
    "from scipy.sparse import csr_matrix, vstack, lil_matrix\n",
    "import matplotlib.pylab as plt\n",
    "% pylab inline"
   ]
  },
  {
   "cell_type": "markdown",
   "metadata": {},
   "source": [
    "### 動詞なしの場合\n",
    "* フロントの対応に関する文章"
   ]
  },
  {
   "cell_type": "code",
   "execution_count": 2,
   "metadata": {
    "collapsed": true
   },
   "outputs": [],
   "source": [
    "# ファイルの読み込み\n",
    "list_bag = Filer.readtsv('./files/classifiedfile/type11/bigram/morpho/n_adj/classified-1238_0.tsv')\n",
    "list_edgelist = Filer.readtsv('./files/classifiedfile/type11/bigram/syntax/non_verb/classified-1238_0.tsv')"
   ]
  },
  {
   "cell_type": "code",
   "execution_count": 3,
   "metadata": {
    "collapsed": false
   },
   "outputs": [
    {
     "name": "stdout",
     "output_type": "stream",
     "text": [
      "num word:  4150\n",
      "num vocabulary:  1126\n",
      "Non dictionalized word:  0\n"
     ]
    },
    {
     "name": "stderr",
     "output_type": "stream",
     "text": [
      "library/submodular.py:192: RuntimeWarning: Couldn't reach some vertices at structural_properties.c:4482\n",
      "  output='epath')\n"
     ]
    }
   ],
   "source": [
    "# SM1: 構文, SM2: bigram, SM3: cor, V: 分散表現\n",
    "SM1 = SubModular(list_bag=list_bag, list_edgelist=list_edgelist, directed=True, inverse_flag=True)\n",
    "SM2 = SubModular(list_bag=list_bag, list_edgelist=None, directed=True, inverse_flag=True)\n",
    "SM3 = SubModular(list_bag=list_bag, list_edgelist=None, directed=False, inverse_flag=True)\n",
    "V = Vector(list_bag=list_bag, dict_path='./files/wordvectorfile/list_word_vec_s300_w5_m0_neologd_proto.tsv')"
   ]
  },
  {
   "cell_type": "code",
   "execution_count": 4,
   "metadata": {
    "collapsed": false
   },
   "outputs": [],
   "source": [
    "matrix_SM1 = SM1._cal_matrix_path_out(inverse_flag=True, weight=5)\n",
    "matrix_SM2 = SM2._cal_matrix_path_out(inverse_flag=True, weight=5)\n",
    "matrix_SM3 = SM3._cal_matrix_path_out(inverse_flag=True, weight=5)\n",
    "matrix_V = V._cal_matrix()"
   ]
  },
  {
   "cell_type": "code",
   "execution_count": 7,
   "metadata": {
    "collapsed": false,
    "scrolled": true
   },
   "outputs": [],
   "source": [
    "dm1 = matrix_SM1[[SM1._dict_word_id[word] for word in SM1._list_all_word]]\n",
    "dm2 = matrix_SM2[[SM2._dict_word_id[word] for word in SM2._list_all_word]]\n",
    "dm3 = matrix_SM3[[SM3._dict_word_id[word] for word in SM3._list_all_word]]\n",
    "dm4 = matrix_V[[V._dict_word_id[word] for word in V._list_all_word]]"
   ]
  },
  {
   "cell_type": "code",
   "execution_count": 19,
   "metadata": {
    "collapsed": false
   },
   "outputs": [],
   "source": [
    "dict_id_word1 = {value: key for key, value in SM1._dict_word_id.items()}\n",
    "dict_id_word2 = {value: key for key, value in SM2._dict_word_id.items()}\n",
    "dict_id_word3 = {value: key for key, value in SM3._dict_word_id.items()}\n",
    "dict_id_word4 = {value: key for key, value in V._dict_word_id.items()}\n",
    "\n",
    "list_word_score1 = [[dict_id_word1[i], sum(dm1[:,i])] for i in range(len(dm1[0]))]\n",
    "list_word_score2 = [[dict_id_word2[i], sum(dm2[:,i])] for i in range(len(dm2[0]))]\n",
    "list_word_score3 = [[dict_id_word3[i], sum(dm3[:,i])] for i in range(len(dm3[0]))]\n",
    "list_word_score4 = [[dict_id_word4[i], sum(dm4[:,i])] for i in range(len(dm4[0]))]"
   ]
  },
  {
   "cell_type": "code",
   "execution_count": 21,
   "metadata": {
    "collapsed": false
   },
   "outputs": [
    {
     "name": "stdout",
     "output_type": "stream",
     "text": [
      "=======SM1=======\n",
      "部屋 16015.8333333\n",
      "対応 16105.0\n",
      "チェックイン 16375.5\n",
      "ない 16478.3333333\n",
      "よい 16482.5\n",
      "利用 16708.0\n",
      "良い 16736.5\n",
      "案内 16815.5\n",
      "お願い 17016.0\n",
      "スタッフ 17056.3333333\n",
      "ほしい 17204.8333333\n",
      "宿泊 17241.0\n",
      "遅い 17293.5\n",
      "やすい 17358.5\n",
      "残念 17483.0\n",
      "設備 17530.0\n",
      "人 17535.0\n",
      "予約 17548.8333333\n",
      "悪い 17555.8333333\n",
      "準備 17610.3333333\n",
      "=================\n",
      "=======SM2=======\n",
      "ホテル 10808.3333333\n",
      "部屋 11130.8333333\n",
      "フロント 11389.5\n",
      "チェックイン 11501.8333333\n",
      "スタッフ 11615.3333333\n",
      "大変 11836.8333333\n",
      "対応 12004.0\n",
      "アウト 12048.8333333\n",
      "サービス 12056.8333333\n",
      "案内 12130.8333333\n",
      "良い 12140.0\n",
      "丁寧 12240.3333333\n",
      "利用 12344.1666667\n",
      "お願い 12458.8333333\n",
      "ない 12501.8333333\n",
      "荷物 12610.1666667\n",
      "駐車場 12624.5\n",
      "親切 12669.3333333\n",
      "コンビニ 12777.3333333\n",
      "よい 12808.8333333\n",
      "=================\n",
      "=======SM3=======\n",
      "必要 6807.5\n",
      "フロント 6862.33333333\n",
      "ホテル 6873.0\n",
      "部屋 6884.83333333\n",
      "要求 6909.5\n",
      "質 6909.5\n",
      "予測 6909.5\n",
      "バス 6925.5\n",
      "やすい 6953.5\n",
      "エレベーター 6958.0\n",
      "お蔭 7030.75\n",
      "お客 7032.0\n",
      "ママ 7042.0\n",
      "気持ち 7067.5\n",
      "サロン 7072.0\n",
      "おかげ 7080.5\n",
      "皆さん 7097.0\n",
      "従業員 7117.5\n",
      "自分 7121.5\n",
      "子供 7125.5\n",
      "=================\n",
      "========V========\n",
      "遺族 107673.919307\n",
      "キディルーム 107936.612909\n",
      "撒布 107939.994364\n",
      "アロマ 107952.444766\n",
      "グズリガチ 107967.54105\n",
      "キディスィート 107993.305331\n",
      "バゲ 108051.254607\n",
      "意見交換 108053.252819\n",
      "知性 108144.632114\n",
      "ッジ 108148.186112\n",
      "声かけ 108150.549187\n",
      "報・連・相 108155.056943\n",
      "ボン・ヴォヤージュ 108204.975878\n",
      "パーサー 108258.492679\n",
      "BABY'S 108289.513673\n",
      "嫌らしい 108343.308942\n",
      "あきお 108370.621031\n",
      "ポンチョ 108438.418894\n",
      "キディスイート 108457.775226\n",
      "オリエンタルホテル東京ベイ 108461.422772\n",
      "=================\n"
     ]
    }
   ],
   "source": [
    "print \"=======SM1=======\"\n",
    "for row in sorted(list_word_score1, key=lambda x:x[1])[0:20]:\n",
    "    print row[0], row[1]\n",
    "print \"=================\"\n",
    "print \"=======SM2=======\"\n",
    "for row in sorted(list_word_score2, key=lambda x:x[1])[0:20]:\n",
    "    print row[0], row[1]\n",
    "print \"=================\"\n",
    "print \"=======SM3=======\"\n",
    "for row in sorted(list_word_score3, key=lambda x:x[1])[0:20]:\n",
    "    print row[0], row[1]\n",
    "print \"=================\"\n",
    "print \"========V========\"\n",
    "for row in sorted(list_word_score4, key=lambda x:x[1])[0:20]:\n",
    "    print row[0], row[1]\n",
    "print \"=================\""
   ]
  },
  {
   "cell_type": "markdown",
   "metadata": {},
   "source": [
    "### 動詞なしの場合\n",
    "* 朝食の対応に関する文章"
   ]
  },
  {
   "cell_type": "code",
   "execution_count": 22,
   "metadata": {
    "collapsed": true
   },
   "outputs": [],
   "source": [
    "# ファイルの読み込み\n",
    "list_bag = Filer.readtsv('./files/classifiedfile/type11/bigram/morpho/n_adj/classified-1238_1.tsv')\n",
    "list_edgelist = Filer.readtsv('./files/classifiedfile/type11/bigram/syntax/non_verb/classified-1238_1.tsv')"
   ]
  },
  {
   "cell_type": "code",
   "execution_count": 23,
   "metadata": {
    "collapsed": false
   },
   "outputs": [
    {
     "name": "stdout",
     "output_type": "stream",
     "text": [
      "num word:  2585\n",
      "num vocabulary:  693\n",
      "Non dictionalized word:  0\n"
     ]
    }
   ],
   "source": [
    "# SM1: 構文, SM2: bigram, SM3: cor, V: 分散表現\n",
    "SM1 = SubModular(list_bag=list_bag, list_edgelist=list_edgelist, directed=True, inverse_flag=True)\n",
    "SM2 = SubModular(list_bag=list_bag, list_edgelist=None, directed=True, inverse_flag=True)\n",
    "SM3 = SubModular(list_bag=list_bag, list_edgelist=None, directed=False, inverse_flag=True)\n",
    "V = Vector(list_bag=list_bag, dict_path='./files/wordvectorfile/list_word_vec_s300_w5_m0_neologd_proto.tsv')"
   ]
  },
  {
   "cell_type": "code",
   "execution_count": 24,
   "metadata": {
    "collapsed": true
   },
   "outputs": [],
   "source": [
    "matrix_SM1 = SM1._cal_matrix_path_out(inverse_flag=True, weight=5)\n",
    "matrix_SM2 = SM2._cal_matrix_path_out(inverse_flag=True, weight=5)\n",
    "matrix_SM3 = SM3._cal_matrix_path_out(inverse_flag=True, weight=5)\n",
    "matrix_V = V._cal_matrix()"
   ]
  },
  {
   "cell_type": "code",
   "execution_count": 25,
   "metadata": {
    "collapsed": true
   },
   "outputs": [],
   "source": [
    "dm1 = matrix_SM1[[SM1._dict_word_id[word] for word in SM1._list_all_word]]\n",
    "dm2 = matrix_SM2[[SM2._dict_word_id[word] for word in SM2._list_all_word]]\n",
    "dm3 = matrix_SM3[[SM3._dict_word_id[word] for word in SM3._list_all_word]]\n",
    "dm4 = matrix_V[[V._dict_word_id[word] for word in V._list_all_word]]"
   ]
  },
  {
   "cell_type": "code",
   "execution_count": 26,
   "metadata": {
    "collapsed": true
   },
   "outputs": [],
   "source": [
    "dict_id_word1 = {value: key for key, value in SM1._dict_word_id.items()}\n",
    "dict_id_word2 = {value: key for key, value in SM2._dict_word_id.items()}\n",
    "dict_id_word3 = {value: key for key, value in SM3._dict_word_id.items()}\n",
    "dict_id_word4 = {value: key for key, value in V._dict_word_id.items()}\n",
    "\n",
    "list_word_score1 = [[dict_id_word1[i], sum(dm1[:,i])] for i in range(len(dm1[0]))]\n",
    "list_word_score2 = [[dict_id_word2[i], sum(dm2[:,i])] for i in range(len(dm2[0]))]\n",
    "list_word_score3 = [[dict_id_word3[i], sum(dm3[:,i])] for i in range(len(dm3[0]))]\n",
    "list_word_score4 = [[dict_id_word4[i], sum(dm4[:,i])] for i in range(len(dm4[0]))]"
   ]
  },
  {
   "cell_type": "code",
   "execution_count": 27,
   "metadata": {
    "collapsed": false
   },
   "outputs": [
    {
     "name": "stdout",
     "output_type": "stream",
     "text": [
      "=======SM1=======\n",
      "ない 9918.83333333\n",
      "満足 10199.1666667\n",
      "朝食 10206.8333333\n",
      "利用 10323.3333333\n",
      "多い 10415.0833333\n",
      "良い 10494.8333333\n",
      "残念 10533.3333333\n",
      "なかった 10545.8333333\n",
      "美味しい 10561.3333333\n",
      "よい 10640.3333333\n",
      "豊富 10707.1666667\n",
      "夜食 10919.0\n",
      "おいしい 11082.3333333\n",
      "レストラン 11086.3333333\n",
      "中華 11163.3333333\n",
      "ブッフェ 11164.8333333\n",
      "宿泊 11256.3333333\n",
      "味 11296.5\n",
      "和食 11324.8333333\n",
      "バイキング 11378.0\n",
      "=================\n",
      "=======SM2=======\n",
      "利用 6818.58333333\n",
      "朝食 6820.08333333\n",
      "良い 7261.08333333\n",
      "満足 7316.08333333\n",
      "食事 7579.58333333\n",
      "美味しい 7588.25\n",
      "子供 7600.58333333\n",
      "和食 7612.25\n",
      "おいしい 7635.08333333\n",
      "ホテル 7678.08333333\n",
      "レストラン 7716.08333333\n",
      "中華 7769.58333333\n",
      "部屋 7822.08333333\n",
      "料理 7838.08333333\n",
      "種類 7842.08333333\n",
      "品数 7892.58333333\n",
      "洋食 7925.58333333\n",
      "夕食 7968.58333333\n",
      "夜食 8002.08333333\n",
      "コンビニ 8033.08333333\n",
      "=================\n",
      "=======SM3=======\n",
      "値段 3896.0\n",
      "エレベータ 3978.0\n",
      "コーヒー 4017.5\n",
      "是非 4049.5\n",
      "無い 4081.16666667\n",
      "様々 4158.5\n",
      "予定 4161.5\n",
      "よい 4174.0\n",
      "遅い 4175.5\n",
      "朝食 4223.83333333\n",
      "いい 4230.0\n",
      "モーニング 4238.5\n",
      "リーズナブル 4264.5\n",
      "コース 4282.5\n",
      "メニュー 4285.0\n",
      "充実 4285.5\n",
      "十分 4288.5\n",
      "ランチ 4294.5\n",
      "広い 4296.0\n",
      "不便 4296.0\n",
      "=================\n",
      "========V========\n",
      "オージー・ビーフ 65368.0604643\n",
      "ドリア 65460.2912144\n",
      "モーニングビッフェ 65760.6898115\n",
      "メープル 65782.1495099\n",
      "ブローニュの森 65814.7897422\n",
      "エコキュート 65818.4255701\n",
      "メープルパイ 65853.9422031\n",
      "グランサンク 65869.2227391\n",
      "クロージング 65883.1982062\n",
      "メニューバリエ 65903.6523423\n",
      "煜実 65914.5449827\n",
      "グレンサンク 65930.6693466\n",
      "ぁっておもったがおいしくてよかったです 65938.6680542\n",
      "ンテンテラスホテル 65950.5534803\n",
      "ブローニュ 65998.5121588\n",
      "中国茶 66018.4341628\n",
      "PowerofMusic 66020.103395\n",
      "ーム 66137.9855869\n",
      "Maple 66248.2738632\n",
      "点心 66730.5417894\n",
      "=================\n"
     ]
    }
   ],
   "source": [
    "print \"=======SM1=======\"\n",
    "for row in sorted(list_word_score1, key=lambda x:x[1])[0:20]:\n",
    "    print row[0], row[1]\n",
    "print \"=================\"\n",
    "print \"=======SM2=======\"\n",
    "for row in sorted(list_word_score2, key=lambda x:x[1])[0:20]:\n",
    "    print row[0], row[1]\n",
    "print \"=================\"\n",
    "print \"=======SM3=======\"\n",
    "for row in sorted(list_word_score3, key=lambda x:x[1])[0:20]:\n",
    "    print row[0], row[1]\n",
    "print \"=================\"\n",
    "print \"========V========\"\n",
    "for row in sorted(list_word_score4, key=lambda x:x[1])[0:20]:\n",
    "    print row[0], row[1]\n",
    "print \"=================\""
   ]
  },
  {
   "cell_type": "markdown",
   "metadata": {},
   "source": [
    "### 動詞ありの場合\n",
    "* フロントの対応に関する文章"
   ]
  },
  {
   "cell_type": "code",
   "execution_count": 28,
   "metadata": {
    "collapsed": false
   },
   "outputs": [
    {
     "name": "stdout",
     "output_type": "stream",
     "text": [
      "num word:  5958\n",
      "num vocabulary:  1478\n",
      "Non dictionalized word:  0\n",
      "=======SM1=======\n",
      "する 13025.7083333\n",
      "ある 14386.5416667\n",
      "利用 15061.0416667\n",
      "思う 15530.5416667\n",
      "できる 15577.5416667\n",
      "なる 15584.7083333\n",
      "部屋 15640.875\n",
      "いう 15685.0416667\n",
      "ない 15715.5416667\n",
      "悪い 15724.5416667\n",
      "残念 15733.5416667\n",
      "対応 15796.5416667\n",
      "満足 15800.0416667\n",
      "助かる 15804.5416667\n",
      "お願い 16047.0416667\n",
      "よい 16097.0416667\n",
      "入れる 16108.0416667\n",
      "来る 16126.5416667\n",
      "ほしい 16168.5416667\n",
      "乗れる 16231.0416667\n",
      "=================\n",
      "=======SM2=======\n",
      "する 12374.2916667\n",
      "ある 13252.625\n",
      "部屋 13340.7916667\n",
      "対応 13572.4583333\n",
      "ホテル 13822.4583333\n",
      "子供 13835.7916667\n",
      "利用 13881.9583333\n",
      "フロント 14043.2916667\n",
      "案内 14311.9583333\n",
      "なる 14553.7916667\n",
      "大変 14558.9583333\n",
      "チェックイン 14626.9583333\n",
      "行く 14859.2916667\n",
      "宿泊 14873.7916667\n",
      "好感 14944.5833333\n",
      "ない 14972.4583333\n",
      "残念 14991.9583333\n",
      "待つ 15000.4583333\n",
      "言う 15181.4583333\n",
      "どうでしょう 15261.7916667\n",
      "=================\n",
      "=======SM3=======\n",
      "予測 8776.5\n",
      "欲する 8776.5\n",
      "質 8776.5\n",
      "要求 8776.5\n",
      "お蔭 8975.0\n",
      "個人 9302.0\n",
      "ＷＩＦＩ 9302.0\n",
      "使い方 9315.0\n",
      "相手 9454.16666667\n",
      "カラオケ 9527.5\n",
      "夜遅く 9645.5\n",
      "わかる 9751.5\n",
      "する 9797.33333333\n",
      "一言 9800.0\n",
      "リゾート 9873.5\n",
      "ホテル 9967.5\n",
      "いる 9984.0\n",
      "渡す 9989.0\n",
      "バス 9999.5\n",
      "F 10001.5\n",
      "=================\n",
      "========V========\n",
      "遺族 158090.101477\n",
      "グズリガチ 158202.773176\n",
      "キディルーム 158218.067494\n",
      "アロマ 158241.846582\n",
      "撒布 158242.198276\n",
      "キディスィート 158257.659722\n",
      "引きあげる 158303.408054\n",
      "意見交換 158400.032704\n",
      "バゲ 158456.011134\n",
      "脱がせる 158480.007998\n",
      "ボン・ヴォヤージュ 158521.47071\n",
      "ッジ 158576.654103\n",
      "BABY'S 158683.900737\n",
      "声かけ 158729.334717\n",
      "あきお 158741.78414\n",
      "パーサー 158752.011842\n",
      "知性 158753.261125\n",
      "さしのべる 158798.980484\n",
      "オリエンタルホテル東京ベイ 158800.615499\n",
      "嫌らしい 158804.185512\n",
      "=================\n"
     ]
    }
   ],
   "source": [
    "# ファイルの読み込み\n",
    "list_bag = Filer.readtsv('./files/classifiedfile/type11/bigram/morpho/n_adj_verb/classified-1238_0.tsv')\n",
    "list_edgelist = Filer.readtsv('./files/classifiedfile/type11/bigram/syntax/verb/classified-1238_0.tsv')\n",
    "# SM1: 構文, SM2: bigram, SM3: cor, V: 分散表現\n",
    "SM1 = SubModular(list_bag=list_bag, list_edgelist=list_edgelist, directed=True, inverse_flag=True)\n",
    "SM2 = SubModular(list_bag=list_bag, list_edgelist=None, directed=True, inverse_flag=True)\n",
    "SM3 = SubModular(list_bag=list_bag, list_edgelist=None, directed=False, inverse_flag=True)\n",
    "V = Vector(list_bag=list_bag, dict_path='./files/wordvectorfile/list_word_vec_s300_w5_m0_neologd_proto.tsv')\n",
    "\n",
    "matrix_SM1 = SM1._cal_matrix_path_out(inverse_flag=True, weight=5)\n",
    "matrix_SM2 = SM2._cal_matrix_path_out(inverse_flag=True, weight=5)\n",
    "matrix_SM3 = SM3._cal_matrix_path_out(inverse_flag=True, weight=5)\n",
    "matrix_V = V._cal_matrix()\n",
    "\n",
    "dm1 = matrix_SM1[[SM1._dict_word_id[word] for word in SM1._list_all_word]]\n",
    "dm2 = matrix_SM2[[SM2._dict_word_id[word] for word in SM2._list_all_word]]\n",
    "dm3 = matrix_SM3[[SM3._dict_word_id[word] for word in SM3._list_all_word]]\n",
    "dm4 = matrix_V[[V._dict_word_id[word] for word in V._list_all_word]]\n",
    "\n",
    "dict_id_word1 = {value: key for key, value in SM1._dict_word_id.items()}\n",
    "dict_id_word2 = {value: key for key, value in SM2._dict_word_id.items()}\n",
    "dict_id_word3 = {value: key for key, value in SM3._dict_word_id.items()}\n",
    "dict_id_word4 = {value: key for key, value in V._dict_word_id.items()}\n",
    "\n",
    "list_word_score1 = [[dict_id_word1[i], sum(dm1[:,i])] for i in range(len(dm1[0]))]\n",
    "list_word_score2 = [[dict_id_word2[i], sum(dm2[:,i])] for i in range(len(dm2[0]))]\n",
    "list_word_score3 = [[dict_id_word3[i], sum(dm3[:,i])] for i in range(len(dm3[0]))]\n",
    "list_word_score4 = [[dict_id_word4[i], sum(dm4[:,i])] for i in range(len(dm4[0]))]\n",
    "\n",
    "print \"=======SM1=======\"\n",
    "for row in sorted(list_word_score1, key=lambda x:x[1])[0:20]:\n",
    "    print row[0], row[1]\n",
    "print \"=================\"\n",
    "print \"=======SM2=======\"\n",
    "for row in sorted(list_word_score2, key=lambda x:x[1])[0:20]:\n",
    "    print row[0], row[1]\n",
    "print \"=================\"\n",
    "print \"=======SM3=======\"\n",
    "for row in sorted(list_word_score3, key=lambda x:x[1])[0:20]:\n",
    "    print row[0], row[1]\n",
    "print \"=================\"\n",
    "print \"========V========\"\n",
    "for row in sorted(list_word_score4, key=lambda x:x[1])[0:20]:\n",
    "    print row[0], row[1]\n",
    "print \"=================\""
   ]
  },
  {
   "cell_type": "markdown",
   "metadata": {},
   "source": [
    "### 動詞ありの場合\n",
    "* 朝食に関する文章"
   ]
  },
  {
   "cell_type": "code",
   "execution_count": 29,
   "metadata": {
    "collapsed": false
   },
   "outputs": [
    {
     "name": "stdout",
     "output_type": "stream",
     "text": [
      "num word:  5958\n",
      "num vocabulary:  1478\n",
      "Non dictionalized word:  0\n",
      "=======SM1=======\n",
      "する 13025.7083333\n",
      "ある 14386.5416667\n",
      "利用 15061.0416667\n",
      "思う 15530.5416667\n",
      "できる 15577.5416667\n",
      "なる 15584.7083333\n",
      "部屋 15640.875\n",
      "いう 15685.0416667\n",
      "ない 15715.5416667\n",
      "悪い 15724.5416667\n",
      "残念 15733.5416667\n",
      "対応 15796.5416667\n",
      "満足 15800.0416667\n",
      "助かる 15804.5416667\n",
      "お願い 16047.0416667\n",
      "よい 16097.0416667\n",
      "入れる 16108.0416667\n",
      "来る 16126.5416667\n",
      "ほしい 16168.5416667\n",
      "乗れる 16231.0416667\n",
      "=================\n",
      "=======SM2=======\n",
      "する 12374.2916667\n",
      "ある 13252.625\n",
      "部屋 13340.7916667\n",
      "対応 13572.4583333\n",
      "ホテル 13822.4583333\n",
      "子供 13835.7916667\n",
      "利用 13881.9583333\n",
      "フロント 14043.2916667\n",
      "案内 14311.9583333\n",
      "なる 14553.7916667\n",
      "大変 14558.9583333\n",
      "チェックイン 14626.9583333\n",
      "行く 14859.2916667\n",
      "宿泊 14873.7916667\n",
      "好感 14944.5833333\n",
      "ない 14972.4583333\n",
      "残念 14991.9583333\n",
      "待つ 15000.4583333\n",
      "言う 15181.4583333\n",
      "どうでしょう 15261.7916667\n",
      "=================\n",
      "=======SM3=======\n",
      "予測 8776.5\n",
      "欲する 8776.5\n",
      "質 8776.5\n",
      "要求 8776.5\n",
      "お蔭 8975.0\n",
      "個人 9302.0\n",
      "ＷＩＦＩ 9302.0\n",
      "使い方 9315.0\n",
      "相手 9454.16666667\n",
      "カラオケ 9527.5\n",
      "夜遅く 9645.5\n",
      "わかる 9751.5\n",
      "する 9797.33333333\n",
      "一言 9800.0\n",
      "リゾート 9873.5\n",
      "ホテル 9967.5\n",
      "いる 9984.0\n",
      "渡す 9989.0\n",
      "バス 9999.5\n",
      "F 10001.5\n",
      "=================\n",
      "========V========\n",
      "遺族 158090.101477\n",
      "グズリガチ 158202.773176\n",
      "キディルーム 158218.067494\n",
      "アロマ 158241.846582\n",
      "撒布 158242.198276\n",
      "キディスィート 158257.659722\n",
      "引きあげる 158303.408054\n",
      "意見交換 158400.032704\n",
      "バゲ 158456.011134\n",
      "脱がせる 158480.007998\n",
      "ボン・ヴォヤージュ 158521.47071\n",
      "ッジ 158576.654103\n",
      "BABY'S 158683.900737\n",
      "声かけ 158729.334717\n",
      "あきお 158741.78414\n",
      "パーサー 158752.011842\n",
      "知性 158753.261125\n",
      "さしのべる 158798.980484\n",
      "オリエンタルホテル東京ベイ 158800.615499\n",
      "嫌らしい 158804.185512\n",
      "=================\n"
     ]
    }
   ],
   "source": [
    "# ファイルの読み込み\n",
    "list_bag = Filer.readtsv('./files/classifiedfile/type11/bigram/morpho/n_adj_verb/classified-1238_0.tsv')\n",
    "list_edgelist = Filer.readtsv('./files/classifiedfile/type11/bigram/syntax/verb/classified-1238_0.tsv')\n",
    "# SM1: 構文, SM2: bigram, SM3: cor, V: 分散表現\n",
    "SM1 = SubModular(list_bag=list_bag, list_edgelist=list_edgelist, directed=True, inverse_flag=True)\n",
    "SM2 = SubModular(list_bag=list_bag, list_edgelist=None, directed=True, inverse_flag=True)\n",
    "SM3 = SubModular(list_bag=list_bag, list_edgelist=None, directed=False, inverse_flag=True)\n",
    "V = Vector(list_bag=list_bag, dict_path='./files/wordvectorfile/list_word_vec_s300_w5_m0_neologd_proto.tsv')\n",
    "\n",
    "matrix_SM1 = SM1._cal_matrix_path_out(inverse_flag=True, weight=5)\n",
    "matrix_SM2 = SM2._cal_matrix_path_out(inverse_flag=True, weight=5)\n",
    "matrix_SM3 = SM3._cal_matrix_path_out(inverse_flag=True, weight=5)\n",
    "matrix_V = V._cal_matrix()\n",
    "\n",
    "dm1 = matrix_SM1[[SM1._dict_word_id[word] for word in SM1._list_all_word]]\n",
    "dm2 = matrix_SM2[[SM2._dict_word_id[word] for word in SM2._list_all_word]]\n",
    "dm3 = matrix_SM3[[SM3._dict_word_id[word] for word in SM3._list_all_word]]\n",
    "dm4 = matrix_V[[V._dict_word_id[word] for word in V._list_all_word]]\n",
    "\n",
    "dict_id_word1 = {value: key for key, value in SM1._dict_word_id.items()}\n",
    "dict_id_word2 = {value: key for key, value in SM2._dict_word_id.items()}\n",
    "dict_id_word3 = {value: key for key, value in SM3._dict_word_id.items()}\n",
    "dict_id_word4 = {value: key for key, value in V._dict_word_id.items()}\n",
    "\n",
    "list_word_score1 = [[dict_id_word1[i], sum(dm1[:,i])] for i in range(len(dm1[0]))]\n",
    "list_word_score2 = [[dict_id_word2[i], sum(dm2[:,i])] for i in range(len(dm2[0]))]\n",
    "list_word_score3 = [[dict_id_word3[i], sum(dm3[:,i])] for i in range(len(dm3[0]))]\n",
    "list_word_score4 = [[dict_id_word4[i], sum(dm4[:,i])] for i in range(len(dm4[0]))]\n",
    "\n",
    "print \"=======SM1=======\"\n",
    "for row in sorted(list_word_score1, key=lambda x:x[1])[0:20]:\n",
    "    print row[0], row[1]\n",
    "print \"=================\"\n",
    "print \"=======SM2=======\"\n",
    "for row in sorted(list_word_score2, key=lambda x:x[1])[0:20]:\n",
    "    print row[0], row[1]\n",
    "print \"=================\"\n",
    "print \"=======SM3=======\"\n",
    "for row in sorted(list_word_score3, key=lambda x:x[1])[0:20]:\n",
    "    print row[0], row[1]\n",
    "print \"=================\"\n",
    "print \"========V========\"\n",
    "for row in sorted(list_word_score4, key=lambda x:x[1])[0:20]:\n",
    "    print row[0], row[1]\n",
    "print \"=================\""
   ]
  },
  {
   "cell_type": "code",
   "execution_count": null,
   "metadata": {
    "collapsed": true
   },
   "outputs": [],
   "source": []
  }
 ],
 "metadata": {
  "kernelspec": {
   "display_name": "Python 2",
   "language": "python",
   "name": "python2"
  },
  "language_info": {
   "codemirror_mode": {
    "name": "ipython",
    "version": 2
   },
   "file_extension": ".py",
   "mimetype": "text/x-python",
   "name": "python",
   "nbconvert_exporter": "python",
   "pygments_lexer": "ipython2",
   "version": "2.7.10"
  }
 },
 "nbformat": 4,
 "nbformat_minor": 0
}
