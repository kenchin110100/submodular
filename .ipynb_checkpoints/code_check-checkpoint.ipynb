{
 "cells": [
  {
   "cell_type": "code",
   "execution_count": 2,
   "metadata": {
    "collapsed": false
   },
   "outputs": [],
   "source": [
    "# coding: utf-8\n",
    "\"\"\"\n",
    "作ったライブラリの評価\n",
    "\"\"\"\n",
    "from filer2.filer2 import Filer\n",
    "from library.submodular import *\n",
    "from library.graphsubmodular import *\n",
    "from library.vector import *\n",
    "from library.rouge import *\n",
    "import numpy as np\n",
    "import collections\n",
    "from scipy.sparse import csr_matrix, lil_matrix"
   ]
  },
  {
   "cell_type": "markdown",
   "metadata": {
    "collapsed": true
   },
   "source": [
    "### 英語版(Opinosis)"
   ]
  },
  {
   "cell_type": "code",
   "execution_count": 2,
   "metadata": {
    "collapsed": true
   },
   "outputs": [],
   "source": [
    "# ファイルの読み込み\n",
    "dict_test = Filer.readdump('./files/OpinosisDataset1.0/preprocessed1/test/accuracy_garmin_nuvi_255W_gps.dump')\n",
    "dict_ans = Filer.readdump('./files/OpinosisDataset1.0/preprocessed1/test/accuracy_garmin_nuvi_255W_gps.dump')"
   ]
  },
  {
   "cell_type": "code",
   "execution_count": 3,
   "metadata": {
    "collapsed": false
   },
   "outputs": [],
   "source": [
    "# テスト用ファイルの作成\n",
    "# １００単語以上ある文は除く\n",
    "list_sentence = []\n",
    "list_sep = []\n",
    "list_sep_all = []\n",
    "list_edgelist = []\n",
    "for sen, sep, sepall, edge in zip(dict_test['sentence'],\n",
    "                                  dict_test['sep_njv'],\n",
    "                                  dict_test['sep_all'],\n",
    "                                  dict_test['edge_njv']):\n",
    "    if len(sepall) <= 100 and len(sep) != 0:\n",
    "        list_sentence.append(sen)\n",
    "        list_sep.append(sep)\n",
    "        list_sep_all.append(sepall)\n",
    "        list_edgelist.append(edge)\n",
    "        \n",
    "list_edgelist = [[row1[0], row1[1]] for row in list_edgelist for row1 in row]"
   ]
  },
  {
   "cell_type": "code",
   "execution_count": 4,
   "metadata": {
    "collapsed": false
   },
   "outputs": [
    {
     "name": "stdout",
     "output_type": "stream",
     "text": [
      "num word:  869\n",
      "num vocabulary:  336\n",
      "Non dictionalized word: "
     ]
    },
    {
     "name": "stderr",
     "output_type": "stream",
     "text": [
      "library/graphsubmodular.py:160: RuntimeWarning: Couldn't reach some vertices at structural_properties.c:4482\n",
      "  output='epath')\n",
      "library/graphsubmodular.py:637: RuntimeWarning: invalid value encountered in divide\n",
      "  G = G / np.sum(G, axis=1, dtype=float)[:,np.newaxis]\n"
     ]
    },
    {
     "name": "stdout",
     "output_type": "stream",
     "text": [
      " 0\n",
      "num_sentence:  89\n",
      "num word:  869\n",
      "num vocabulary:  336\n",
      "num word:  869\n",
      "num vocabulary:  336\n",
      "Non dictionalized word:  0\n"
     ]
    }
   ],
   "source": [
    "# インスタンス化\n",
    "GM = GraphSubModular(list_sep_all=list_sep_all,\n",
    "                     list_sep=list_sep,\n",
    "                     list_edgelist=list_edgelist,\n",
    "                     directed=True,\n",
    "                     inverse_flag=True)\n",
    "V = Vector(list_sep_all=list_sep_all,\n",
    "           list_sep=list_sep,\n",
    "           dict_path = './files/OpinosisDataset1.0/w2v/model_lemmas/model_cbow_s300_w5_m0/dict_word_vec_3')\n",
    "\n",
    "SM = SubModular(list_sep_all=list_sep_all,\n",
    "                list_sep=list_sep)\n",
    "\n",
    "MGSM = Modified_GraphSubModular(list_sep_all=list_sep_all,\n",
    "                                list_sep=list_sep,\n",
    "                                list_edgelist=list_edgelist,\n",
    "                                directed=False,\n",
    "                                simrank_flag=True,\n",
    "                                weighted=False,\n",
    "                                log_flag=True)"
   ]
  },
  {
   "cell_type": "code",
   "execution_count": 14,
   "metadata": {
    "collapsed": false
   },
   "outputs": [
    {
     "name": "stdout",
     "output_type": "stream",
     "text": [
      "(0, 0, 1, 1)\n",
      "(0, 1, 0, 2)\n",
      "(0.3333333333333333, 0.6666666666666666, 0.5, 0.5)\n",
      "[2 1 1]\n",
      "  (0, 0)\t0.333333333333\n",
      "  (0, 1)\t1.12876478704\n",
      "  (1, 0)\t0.5\n",
      "  (1, 2)\t0.84657359028\n"
     ]
    }
   ],
   "source": [
    "list_bag = [[0,1,1], [0,2]]\n",
    "dict_word_id = {i: i for i in range(0,3)}\n",
    "dict_id_word = {i: i for i in range(0,3)}\n",
    "num_row = 2\n",
    "num_col = 3\n",
    "def _cal_tfidf(list_bag, dict_word_id, dict_id_word, num_row, num_col):\n",
    "        \"\"\"\n",
    "        bag of wordsからtfidfのmatrixを計算する\n",
    "        :return: matrix(ただし、スパースマトリックス形式, csr_matrix)\n",
    "        \"\"\"\n",
    "        # sparse_matrixのrow, col, dataを計算\n",
    "        row_col_data = [[i, dict_word_id[word], float(j)/len(row)]\n",
    "                        for i, row in enumerate(list_bag)\n",
    "                        for word, j in collections.Counter(row).items()]\n",
    "\n",
    "        row, col, data = zip(*row_col_data)\n",
    "        print row\n",
    "        print col\n",
    "        print data\n",
    "        # csr_matrixの初期化（この段階でtfになっている）\n",
    "        matrix = csr_matrix((list(data), (list(row), list(col))),\n",
    "                            shape=(num_row, num_col))\n",
    "        # idfの辞書を作成\n",
    "        list_idf = matrix.getnnz(axis=0)\n",
    "        list_idf = [np.log(float(len(list_bag))/num)+1 for num in list_idf]\n",
    "        dict_word_idf = {dict_id_word[i]: idf for i, idf in enumerate(list_idf)}\n",
    "        print dict_word_idf\n",
    "\n",
    "        # idfの辞書をもとにもう一度matrixを作成\n",
    "        row_col_data = [[i, dict_word_id[word], float(j)/len(row)*dict_word_idf[word]]\n",
    "                        for i, row in enumerate(list_bag)\n",
    "                        for word, j in collections.Counter(row).items()]\n",
    "        row, col, data = zip(*row_col_data)\n",
    "        # csr_matrixの初期化（この段階でtf-idfになっている）\n",
    "        matrix = csr_matrix((list(data), (list(row), list(col))),\n",
    "                            shape=(num_row, num_col))\n",
    "\n",
    "        return matrix\n",
    "    \n",
    "matrix = _cal_tfidf(list_bag, dict_word_id, dict_id_word, num_row, num_col)\n",
    "print matrix"
   ]
  },
  {
   "cell_type": "code",
   "execution_count": 11,
   "metadata": {
    "collapsed": false
   },
   "outputs": [
    {
     "data": {
      "text/plain": [
       "array([ 0.12180492,  0.15405949,  0.29235702,  0.13073232,  0.11850699,\n",
       "        0.        ,  0.05192445,  0.1461128 ,  0.19851756,  0.11687081,\n",
       "        0.24712786,  0.07795421,  0.08211778,  0.21526539,  0.19018383,\n",
       "        0.25675494,  0.40855494,  0.05587365,  0.10803109,  0.25430521,\n",
       "        0.28237903,  2.48371549,  0.13455989,  0.24243437,  0.77960315,\n",
       "        0.10720115,  0.19019141,  0.29768314,  0.14623485,  0.35639692,\n",
       "        0.33420713,  0.21418807,  0.34145964,  0.05550448,  0.8338242 ,\n",
       "        0.11561448,  0.71607706,  0.11586389,  0.44671162,  0.14013941,\n",
       "        0.11019452,  0.35920555,  0.25094782,  0.13170807,  0.38802774,\n",
       "        1.04732639,  0.06213008,  0.62378373,  0.45707771,  0.36942516,\n",
       "        0.21660273,  0.11878524,  0.22306744,  0.20160136,  0.30768407,\n",
       "        0.4796671 ,  0.39243892,  0.33794624,  0.46774642,  0.5522479 ,\n",
       "        0.47598567,  0.3854414 ,  0.21971446,  0.23872495,  0.22975168,\n",
       "        0.10790528,  0.71571209,  0.30301481,  0.6536806 ,  0.5224181 ,\n",
       "        0.12242037,  0.20938571,  0.97392512,  0.06409456,  0.28324762,\n",
       "        0.12889133,  0.77537353,  0.19045613,  0.07676617,  0.54340007,\n",
       "        0.49535935,  0.24810342,  0.24884742,  0.16025329,  0.28800283,\n",
       "        0.83001191,  1.00405812,  0.06789389,  0.89471258])"
      ]
     },
     "execution_count": 11,
     "metadata": {},
     "output_type": "execute_result"
    }
   ],
   "source": [
    "MV._d_matrix[5]"
   ]
  },
  {
   "cell_type": "code",
   "execution_count": 5,
   "metadata": {
    "collapsed": false,
    "scrolled": true
   },
   "outputs": [
    {
     "name": "stdout",
     "output_type": "stream",
     "text": [
      "計算が終了しました\n",
      "計算が終了しました\n"
     ]
    }
   ],
   "source": [
    "# 学習\n",
    "GM.m_greedy(num_w=100, r=1, scale=0)\n",
    "V.m_greedy(num_w=100, r=1, scale=0)"
   ]
  },
  {
   "cell_type": "code",
   "execution_count": 6,
   "metadata": {
    "collapsed": false,
    "scrolled": true
   },
   "outputs": [
    {
     "name": "stdout",
     "output_type": "stream",
     "text": [
      "計算が終了しました\n"
     ]
    }
   ],
   "source": [
    "SM.m_greedy(num_w=100, alpha=0.1, lamda=6, n_cluster=10)"
   ]
  },
  {
   "cell_type": "code",
   "execution_count": 7,
   "metadata": {
    "collapsed": false
   },
   "outputs": [
    {
     "name": "stdout",
     "output_type": "stream",
     "text": [
      "計算が終了しました\n",
      "計算が終了しました\n"
     ]
    }
   ],
   "source": [
    "MGSM.m_greedy(num_w=100, r=1, scale=0)\n",
    "MV.m_greedy(num_w=100, r=1, scale=0)"
   ]
  },
  {
   "cell_type": "code",
   "execution_count": 8,
   "metadata": {
    "collapsed": false,
    "scrolled": true
   },
   "outputs": [
    {
     "name": "stdout",
     "output_type": "stream",
     "text": [
      "GM:\n",
      "sentence:  property: list_C\n",
      "5\n",
      "property: list_C\n",
      "52\n",
      "7\n",
      "9\n",
      "22\n",
      "8\n",
      "V:\n",
      "sentence:  property: list_C\n",
      "9\n",
      "property: list_C\n",
      "30\n",
      "5\n",
      "7\n",
      "10\n",
      "15\n",
      "9\n",
      "7\n",
      "11\n",
      "5\n",
      "SM:\n",
      "sentence:  property: list_C\n",
      "12\n",
      "property: list_C\n",
      "6\n",
      "6\n",
      "5\n",
      "5\n",
      "8\n",
      "5\n",
      "10\n",
      "11\n",
      "9\n",
      "12\n",
      "9\n",
      "9\n",
      "MGSM:\n",
      "sentence:  property: list_C\n",
      "9\n",
      "property: list_C\n",
      "5\n",
      "6\n",
      "10\n",
      "9\n",
      "12\n",
      "7\n",
      "11\n",
      "22\n",
      "16\n",
      "MV:\n",
      "sentence:  property: list_C\n",
      "8\n",
      "property: list_C\n",
      "52\n",
      "5\n",
      "5\n",
      "5\n",
      "6\n",
      "11\n",
      "9\n",
      "7\n"
     ]
    }
   ],
   "source": [
    "# 文書数のチェック\n",
    "print 'GM:'\n",
    "print 'sentence: ', len(GM.list_C)\n",
    "for row in GM.list_C:\n",
    "    print len(row[2])\n",
    "print 'V:'\n",
    "print 'sentence: ', len(V.list_C)\n",
    "for row in V.list_C:\n",
    "    print len(row[2])\n",
    "print 'SM:'\n",
    "print 'sentence: ', len(SM.list_C)\n",
    "for row in SM.list_C:\n",
    "    print len(row[2])\n",
    "print 'MGSM:'\n",
    "print 'sentence: ', len(MGSM.list_C)\n",
    "for row in MGSM.list_C:\n",
    "    print len(row[2])\n",
    "print 'MV:'\n",
    "print 'sentence: ', len(MV.list_C)\n",
    "for row in MV.list_C:\n",
    "    print len(row[2])"
   ]
  },
  {
   "cell_type": "code",
   "execution_count": 9,
   "metadata": {
    "collapsed": false
   },
   "outputs": [
    {
     "name": "stdout",
     "output_type": "stream",
     "text": [
      "property: list_C\n",
      "11\n",
      "66\n",
      "88\n",
      "18\n",
      "85\n",
      "property: list_C\n",
      "87\n",
      "86\n",
      "66\n",
      "57\n",
      "30\n",
      "45\n",
      "36\n",
      "24\n",
      "21\n",
      "property: list_C\n",
      "76\n",
      "34\n",
      "86\n",
      "21\n",
      "85\n",
      "15\n",
      "57\n",
      "61\n",
      "45\n",
      "41\n",
      "55\n",
      "88\n",
      "property: list_C\n",
      "86\n",
      "34\n",
      "57\n",
      "45\n",
      "26\n",
      "36\n",
      "29\n",
      "18\n",
      "56\n",
      "property: list_C\n",
      "5\n",
      "86\n",
      "15\n",
      "21\n",
      "34\n",
      "29\n",
      "45\n",
      "36\n"
     ]
    }
   ],
   "source": [
    "for row in GM.list_C:\n",
    "    print row[0]\n",
    "for row in V.list_C:\n",
    "    print row[0]\n",
    "for row in SM.list_C:\n",
    "    print row[0]\n",
    "for row in MGSM.list_C:\n",
    "    print row[0]\n",
    "for row in MV.list_C:\n",
    "    print row[0]"
   ]
  },
  {
   "cell_type": "code",
   "execution_count": 36,
   "metadata": {
    "collapsed": false
   },
   "outputs": [
    {
     "name": "stdout",
     "output_type": "stream",
     "text": [
      "property: list_C\n",
      "100\n"
     ]
    }
   ],
   "source": [
    "# 単語数のチェック\n",
    "counter = 0\n",
    "for row in SM.list_C:\n",
    "    counter += len(row[2])\n",
    "print counter"
   ]
  },
  {
   "cell_type": "code",
   "execution_count": 13,
   "metadata": {
    "collapsed": false
   },
   "outputs": [
    {
     "name": "stdout",
     "output_type": "stream",
     "text": [
      "property: list_C\n",
      "property: list_C\n",
      "property: list_C\n",
      "property: list_C\n",
      "property: list_C\n"
     ]
    }
   ],
   "source": [
    "# Rougeを計算するようにbag_of_wordsを作成する\n",
    "list_gm_test = [row[2] for row in GM.list_C]\n",
    "list_v_test = [row[2] for row in V.list_C]\n",
    "list_sm_test = [row[2] for row in SM.list_C]\n",
    "list_mgm_test = [row[2] for row in MGM.list_C]\n",
    "list_mv_test = [row[2] for row in GM.list_C]"
   ]
  },
  {
   "cell_type": "code",
   "execution_count": 19,
   "metadata": {
    "collapsed": false
   },
   "outputs": [
    {
     "name": "stdout",
     "output_type": "stream",
     "text": [
      "0.68\n",
      "0.64\n",
      "0.6\n",
      "0.68\n",
      "0.68\n"
     ]
    }
   ],
   "source": [
    "num=4\n",
    "print Rouge_N.rouge(list_gm_test, dict_ans['sep_all'][num], N=1)\n",
    "print Rouge_N.rouge(list_v_test, dict_ans['sep_all'][num], N=1)\n",
    "print Rouge_N.rouge(list_sm_test, dict_ans['sep_all'][num], N=1)\n",
    "print Rouge_N.rouge(list_mgm_test, dict_ans['sep_all'][num], N=1)\n",
    "print Rouge_N.rouge(list_mv_test, dict_ans['sep_all'][num], N=1)"
   ]
  },
  {
   "cell_type": "code",
   "execution_count": 41,
   "metadata": {
    "collapsed": false
   },
   "outputs": [
    {
     "name": "stdout",
     "output_type": "stream",
     "text": [
      "[[2 1 1 1 1 1 1 1]\n",
      " [3 2 2 2 2 2 2 2]\n",
      " [4 3 3 3 3 3 3 3]\n",
      " [5 4 4 4 4 4 4 4]]\n"
     ]
    }
   ],
   "source": [
    "b = np.array([1,2,3,4])\n",
    "#a = np.array([2,3,4,5])\n",
    "a = np.c_[a,b]\n",
    "print a"
   ]
  },
  {
   "cell_type": "code",
   "execution_count": 7,
   "metadata": {
    "collapsed": false
   },
   "outputs": [
    {
     "data": {
      "text/plain": [
       "array([], dtype=float64)"
      ]
     },
     "execution_count": 7,
     "metadata": {},
     "output_type": "execute_result"
    }
   ],
   "source": [
    "a"
   ]
  },
  {
   "cell_type": "code",
   "execution_count": null,
   "metadata": {
    "collapsed": true
   },
   "outputs": [],
   "source": []
  }
 ],
 "metadata": {
  "kernelspec": {
   "display_name": "Python 2",
   "language": "python",
   "name": "python2"
  },
  "language_info": {
   "codemirror_mode": {
    "name": "ipython",
    "version": 2
   },
   "file_extension": ".py",
   "mimetype": "text/x-python",
   "name": "python",
   "nbconvert_exporter": "python",
   "pygments_lexer": "ipython2",
   "version": "2.7.10"
  }
 },
 "nbformat": 4,
 "nbformat_minor": 0
}
