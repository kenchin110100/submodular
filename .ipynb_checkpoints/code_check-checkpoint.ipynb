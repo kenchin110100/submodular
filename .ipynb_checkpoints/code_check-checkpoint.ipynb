{
 "cells": [
  {
   "cell_type": "code",
   "execution_count": null,
   "metadata": {
    "collapsed": false
   },
   "outputs": [],
   "source": [
    "# coding: utf-8\n",
    "\"\"\"\n",
    "作ったライブラリの評価\n",
    "\"\"\"\n",
    "from filer2.filer2 import Filer\n",
    "from library.submodular import *\n",
    "from library.graphsubmodular import *\n",
    "from library.vector import *\n",
    "from library.rouge import *\n",
    "import numpy as np\n",
    "import collections\n",
    "from scipy.sparse import csr_matrix, lil_matrix"
   ]
  },
  {
   "cell_type": "markdown",
   "metadata": {
    "collapsed": true
   },
   "source": [
    "### 英語版(Opinosis)"
   ]
  },
  {
   "cell_type": "code",
   "execution_count": null,
   "metadata": {
    "collapsed": true
   },
   "outputs": [],
   "source": [
    "# ファイルの読み込み\n",
    "dict_test = Filer.readdump('./files/OpinosisDataset1.0/preprocessed1/test/accuracy_garmin_nuvi_255W_gps.dump')\n",
    "dict_ans = Filer.readdump('./files/OpinosisDataset1.0/preprocessed1/test/accuracy_garmin_nuvi_255W_gps.dump')"
   ]
  },
  {
   "cell_type": "code",
   "execution_count": null,
   "metadata": {
    "collapsed": false
   },
   "outputs": [],
   "source": [
    "# テスト用ファイルの作成\n",
    "# １００単語以上ある文は除く\n",
    "list_sentence = []\n",
    "list_sep = []\n",
    "list_sep_all = []\n",
    "list_edgelist = []\n",
    "for sen, sep, sepall, edge in zip(dict_test['sentence'],\n",
    "                                  dict_test['sep_njv'],\n",
    "                                  dict_test['sep_all'],\n",
    "                                  dict_test['edge_njv']):\n",
    "    if len(sepall) <= 100 and len(sep) != 0:\n",
    "        list_sentence.append(sen)\n",
    "        list_sep.append(sep)\n",
    "        list_sep_all.append(sepall)\n",
    "        list_edgelist.append(edge)\n",
    "        \n",
    "list_edgelist = [[row1[0], row1[1]] for row in list_edgelist for row1 in row]"
   ]
  },
  {
   "cell_type": "code",
   "execution_count": null,
   "metadata": {
    "collapsed": false
   },
   "outputs": [],
   "source": [
    "# インスタンス化\n",
    "GM = GraphSubModular(list_sep_all=list_sep_all,\n",
    "                     list_sep=list_sep,\n",
    "                     list_edgelist=list_edgelist,\n",
    "                     directed=True,\n",
    "                     inverse_flag=True)\n",
    "V = Vector(list_sep_all=list_sep_all,\n",
    "           list_sep=list_sep,\n",
    "           dict_path = './files/OpinosisDataset1.0/w2v/model_lemmas/model_cbow_s300_w5_m0/dict_word_vec_3')\n",
    "\n",
    "SM = SubModular(list_sep_all=list_sep_all,\n",
    "                list_sep=list_sep)\n",
    "\n",
    "MGSM = Modified_GraphSubModular(list_sep_all=list_sep_all,\n",
    "                                list_sep=list_sep,\n",
    "                                list_edgelist=list_edgelist,\n",
    "                                directed=False,\n",
    "                                simrank_flag=True,\n",
    "                                weighted=False,\n",
    "                                log_flag=True)\n",
    "\n",
    "MV = Modified_Vector(list_sep_all=list_sep_all,\n",
    "                     list_sep=list_sep,\n",
    "                     dict_path='./files/OpinosisDataset1.0/w2v/model_tokens/model_cbow_s300_w5_m0/dict_word_vec_3')"
   ]
  },
  {
   "cell_type": "code",
   "execution_count": null,
   "metadata": {
    "collapsed": false,
    "scrolled": true
   },
   "outputs": [],
   "source": [
    "# 学習\n",
    "GM.m_greedy(num_w=100, r=1, scale=0)\n",
    "V.m_greedy(num_w=100, r=1, scale=0)"
   ]
  },
  {
   "cell_type": "code",
   "execution_count": null,
   "metadata": {
    "collapsed": false,
    "scrolled": true
   },
   "outputs": [],
   "source": [
    "SM.m_greedy(num_w=100, alpha=0.1, lamda=6, n_cluster=10)"
   ]
  },
  {
   "cell_type": "code",
   "execution_count": null,
   "metadata": {
    "collapsed": false
   },
   "outputs": [],
   "source": [
    "MGSM.m_greedy(num_w=100, r=1, scale=0)\n",
    "MV.m_greedy(num_w=100, r=1, scale=0)"
   ]
  },
  {
   "cell_type": "code",
   "execution_count": null,
   "metadata": {
    "collapsed": false,
    "scrolled": true
   },
   "outputs": [],
   "source": [
    "# 文書数のチェック\n",
    "print 'GM:'\n",
    "print 'sentence: ', len(GM.list_C)\n",
    "for row in GM.list_C:\n",
    "    print len(row[2])\n",
    "print 'V:'\n",
    "print 'sentence: ', len(V.list_C)\n",
    "for row in V.list_C:\n",
    "    print len(row[2])\n",
    "print 'SM:'\n",
    "print 'sentence: ', len(SM.list_C)\n",
    "for row in SM.list_C:\n",
    "    print len(row[2])\n",
    "print 'MGSM:'\n",
    "print 'sentence: ', len(MGSM.list_C)\n",
    "for row in MGSM.list_C:\n",
    "    print len(row[2])\n",
    "print 'MV:'\n",
    "print 'sentence: ', len(MV.list_C)\n",
    "for row in MV.list_C:\n",
    "    print len(row[2])"
   ]
  },
  {
   "cell_type": "code",
   "execution_count": null,
   "metadata": {
    "collapsed": false
   },
   "outputs": [],
   "source": [
    "for row in GM.list_C:\n",
    "    print row[0]\n",
    "for row in V.list_C:\n",
    "    print row[0]\n",
    "for row in SM.list_C:\n",
    "    print row[0]\n",
    "for row in MGSM.list_C:\n",
    "    print row[0]\n",
    "for row in MV.list_C:\n",
    "    print row[0]"
   ]
  },
  {
   "cell_type": "code",
   "execution_count": null,
   "metadata": {
    "collapsed": false
   },
   "outputs": [],
   "source": [
    "# 単語数のチェック\n",
    "counter = 0\n",
    "for row in SM.list_C:\n",
    "    counter += len(row[2])\n",
    "print counter"
   ]
  },
  {
   "cell_type": "code",
   "execution_count": null,
   "metadata": {
    "collapsed": false
   },
   "outputs": [],
   "source": [
    "# Rougeを計算するようにbag_of_wordsを作成する\n",
    "list_gm_test = [row[2] for row in GM.list_C]\n",
    "list_v_test = [row[2] for row in V.list_C]\n",
    "list_sm_test = [row[2] for row in SM.list_C]\n",
    "list_mgm_test = [row[2] for row in MGM.list_C]\n",
    "list_mv_test = [row[2] for row in GM.list_C]"
   ]
  },
  {
   "cell_type": "code",
   "execution_count": null,
   "metadata": {
    "collapsed": false
   },
   "outputs": [],
   "source": [
    "num=4\n",
    "print Rouge_N.rouge(list_gm_test, dict_ans['sep_all'][num], N=1)\n",
    "print Rouge_N.rouge(list_v_test, dict_ans['sep_all'][num], N=1)\n",
    "print Rouge_N.rouge(list_sm_test, dict_ans['sep_all'][num], N=1)\n",
    "print Rouge_N.rouge(list_mgm_test, dict_ans['sep_all'][num], N=1)\n",
    "print Rouge_N.rouge(list_mv_test, dict_ans['sep_all'][num], N=1)"
   ]
  },
  {
   "cell_type": "markdown",
   "metadata": {},
   "source": [
    "### 品詞ごとに最適化"
   ]
  },
  {
   "cell_type": "code",
   "execution_count": 1,
   "metadata": {
    "collapsed": false
   },
   "outputs": [],
   "source": [
    "from filer2.filer2 import Filer\n",
    "from library.submodular import *\n",
    "from library.graphsubmodular import *\n",
    "from library.vector import *\n",
    "from library.rouge import *\n",
    "import numpy as np\n",
    "import collections\n",
    "from scipy.sparse import csr_matrix, lil_matrix"
   ]
  },
  {
   "cell_type": "code",
   "execution_count": 2,
   "metadata": {
    "collapsed": true
   },
   "outputs": [],
   "source": [
    "# ファイルの読み込み\n",
    "dict_test = Filer.readdump('./files/OpinosisDataset1.0/preprocessed3/accuracy_garmin_nuvi_255W_gps.dump')\n",
    "dict_ans = Filer.readdump('./files/OpinosisDataset1.0/preprocessed1/test/accuracy_garmin_nuvi_255W_gps.dump')"
   ]
  },
  {
   "cell_type": "code",
   "execution_count": 3,
   "metadata": {
    "collapsed": false
   },
   "outputs": [],
   "source": [
    "# テスト用ファイルの作成\n",
    "# １００単語以上ある文は除く\n",
    "list_sentence = []\n",
    "list_sep = []\n",
    "list_sep_all = []\n",
    "list_pos = []\n",
    "list_edgelist = []\n",
    "for sen, sep, sepall, pos, edge in zip(dict_test['sentence'],\n",
    "                                       dict_test['sep_all'],\n",
    "                                       dict_test['sep_all'],\n",
    "                                       dict_test['pos_all'],\n",
    "                                       dict_test['edge_all']):\n",
    "    if len(sepall) <= 100 and len(sep) != 0:\n",
    "        list_sentence.append(sen)\n",
    "        list_sep.append(sep)\n",
    "        list_sep_all.append(sepall)\n",
    "        list_pos.append(pos)\n",
    "        list_edgelist.append(edge)\n",
    "        \n",
    "list_edgelist = [[row1[0], row1[1]] for row in list_edgelist for row1 in row]"
   ]
  },
  {
   "cell_type": "code",
   "execution_count": 4,
   "metadata": {
    "collapsed": false
   },
   "outputs": [
    {
     "name": "stderr",
     "output_type": "stream",
     "text": [
      "library/graphsubmodular.py:637: RuntimeWarning: invalid value encountered in divide\n",
      "  G = G / np.sum(G, axis=1, dtype=float)[:,np.newaxis]\n"
     ]
    }
   ],
   "source": [
    "PGSM = Partition_GraphSubModular(list_sep_all=list_sep_all,\n",
    "                                 list_sep=list_sep,\n",
    "                                 list_pos=list_pos,\n",
    "                                 list_edgelist=list_edgelist,\n",
    "                                 directed=False,\n",
    "                                 simrank_flag=True,\n",
    "                                 weighted=False,\n",
    "                                 log_flag=True)"
   ]
  },
  {
   "cell_type": "code",
   "execution_count": 5,
   "metadata": {
    "collapsed": false
   },
   "outputs": [
    {
     "name": "stdout",
     "output_type": "stream",
     "text": [
      "計算が終了しました\n"
     ]
    }
   ],
   "source": [
    "PGSM.m_greedy(num_w = 100,\n",
    "              r=1,\n",
    "              scale=0,\n",
    "              n=0.2,\n",
    "              j=0.2,\n",
    "              v=0.2,\n",
    "              o=0.2)"
   ]
  },
  {
   "cell_type": "code",
   "execution_count": 9,
   "metadata": {
    "collapsed": false
   },
   "outputs": [
    {
     "name": "stdout",
     "output_type": "stream",
     "text": [
      "property: list_C\n",
      "0.0297341737462\n"
     ]
    }
   ],
   "source": [
    "list_C = PGSM.list_C\n",
    "list_pgsm_test = [list_sentence[row[0]].replace(',', '').replace('.', '').lower().split(' ') for row in list_C]\n",
    "list_pgsm_ans = [[sen.replace(',', '').replace('.', '').lower().split(' ') for sen in row] for row in dict_ans['sentence']]\n",
    "R1 = Rouge_N.rouge(list_pgsm_test, list_pgsm_ans, N=1)\n",
    "list_pgsm_test[0]\n",
    "print R1"
   ]
  },
  {
   "cell_type": "code",
   "execution_count": null,
   "metadata": {
    "collapsed": true
   },
   "outputs": [],
   "source": []
  },
  {
   "cell_type": "code",
   "execution_count": 6,
   "metadata": {
    "collapsed": false
   },
   "outputs": [
    {
     "name": "stdout",
     "output_type": "stream",
     "text": [
      "(1191, 436)\n",
      "(248, 436)\n",
      "(129, 436)\n",
      "(224, 436)\n",
      "(590, 436)\n",
      "45.1255534475\n",
      "7.52334787\n",
      "4.46805478063\n",
      "7.97308542162\n",
      "25.1610653753\n"
     ]
    }
   ],
   "source": [
    "num = 100\n",
    "\n",
    "print PGSM._d_matrix.shape\n",
    "print PGSM._d_matrix_n.shape\n",
    "print PGSM._d_matrix_j.shape\n",
    "print PGSM._d_matrix_v.shape\n",
    "print PGSM._d_matrix_o.shape\n",
    "\n",
    "print PGSM._d_matrix[:,num].sum()\n",
    "print PGSM._d_matrix_n[:,num].sum()\n",
    "print PGSM._d_matrix_j[:,num].sum()\n",
    "print PGSM._d_matrix_v[:,num].sum()\n",
    "print PGSM._d_matrix_o[:,num].sum()"
   ]
  },
  {
   "cell_type": "code",
   "execution_count": null,
   "metadata": {
    "collapsed": true
   },
   "outputs": [],
   "source": []
  }
 ],
 "metadata": {
  "kernelspec": {
   "display_name": "Python 2",
   "language": "python",
   "name": "python2"
  },
  "language_info": {
   "codemirror_mode": {
    "name": "ipython",
    "version": 2
   },
   "file_extension": ".py",
   "mimetype": "text/x-python",
   "name": "python",
   "nbconvert_exporter": "python",
   "pygments_lexer": "ipython2",
   "version": "2.7.10"
  }
 },
 "nbformat": 4,
 "nbformat_minor": 0
}
