{
 "cells": [
  {
   "cell_type": "code",
   "execution_count": 1,
   "metadata": {
    "collapsed": false
   },
   "outputs": [],
   "source": [
    "# coding: utf-8\n",
    "\"\"\"\n",
    "作ったライブラリの評価\n",
    "\"\"\"\n",
    "from filer2.filer2 import Filer\n",
    "from library.submodular import *\n",
    "from library.graphsubmodular import *\n",
    "from library.vector import *\n",
    "from library.rouge import *\n",
    "import numpy as np\n",
    "import collections\n",
    "from scipy.sparse import csr_matrix, lil_matrix"
   ]
  },
  {
   "cell_type": "markdown",
   "metadata": {
    "collapsed": true
   },
   "source": [
    "### 英語版(Opinosis)"
   ]
  },
  {
   "cell_type": "code",
   "execution_count": 2,
   "metadata": {
    "collapsed": true
   },
   "outputs": [],
   "source": [
    "# ファイルの読み込み\n",
    "dict_test = Filer.readdump('./files/OpinosisDataset1.0/preprocessed1/test/accuracy_garmin_nuvi_255W_gps.dump')\n",
    "dict_ans = Filer.readdump('./files/OpinosisDataset1.0/preprocessed1/ans/accuracy_garmin_nuvi_255W_gps.dump')"
   ]
  },
  {
   "cell_type": "code",
   "execution_count": 3,
   "metadata": {
    "collapsed": false
   },
   "outputs": [],
   "source": [
    "# テスト用ファイルの作成\n",
    "# １００単語以上ある文は除く\n",
    "list_sentence = []\n",
    "list_sep = []\n",
    "list_sep_all = []\n",
    "list_edgelist = []\n",
    "for sen, sep, sepall, edge in zip(dict_test['sentence'],\n",
    "                                  dict_test['sep_all'],\n",
    "                                  dict_test['sep_all'],\n",
    "                                  dict_test['edge_all']):\n",
    "    if len(sepall) <= 100 and len(sep) != 0:\n",
    "        list_sentence.append(sen)\n",
    "        list_sep.append(sep)\n",
    "        list_sep_all.append(sepall)\n",
    "        list_edgelist.append(edge)\n",
    "        \n",
    "list_edgelist = [[row1[0], row1[1]] for row in list_edgelist for row1 in row]"
   ]
  },
  {
   "cell_type": "code",
   "execution_count": null,
   "metadata": {
    "collapsed": false
   },
   "outputs": [],
   "source": [
    "# インスタンス化\n",
    "GM = GraphSubModular(list_sep_all=list_sep_all,\n",
    "                     list_sep=list_sep,\n",
    "                     list_edgelist=list_edgelist,\n",
    "                     directed=True,\n",
    "                     inverse_flag=True)\n",
    "V = Vector(list_sep_all=list_sep_all,\n",
    "           list_sep=list_sep,\n",
    "           dict_path = './files/OpinosisDataset1.0/w2v/model_lemmas/model_cbow_s300_w5_m0/dict_word_vec_3')\n",
    "\n",
    "SM = SubModular(list_sep_all=list_sep_all,\n",
    "                list_sep=list_sep)\n",
    "\n",
    "MGSM = Modified_GraphSubModular(list_sep_all=list_sep_all,\n",
    "                                list_sep=list_sep,\n",
    "                                list_edgelist=list_edgelist,\n",
    "                                directed=False,\n",
    "                                simrank_flag=True,\n",
    "                                weighted=False,\n",
    "                                log_flag=True)\n",
    "\n",
    "MV = Modified_Vector(list_sep_all=list_sep_all,\n",
    "                     list_sep=list_sep,\n",
    "                     dict_path='./files/OpinosisDataset1.0/w2v/model_tokens/model_cbow_s300_w5_m0/dict_word_vec_3')"
   ]
  },
  {
   "cell_type": "code",
   "execution_count": 4,
   "metadata": {
    "collapsed": true
   },
   "outputs": [],
   "source": [
    "MGSM = Multiplex_GraphSubModular(list_sep_all=list_sep_all,\n",
    "                                 list_sep=list_sep,\n",
    "                                 weighted=False)"
   ]
  },
  {
   "cell_type": "code",
   "execution_count": null,
   "metadata": {
    "collapsed": false,
    "scrolled": true
   },
   "outputs": [],
   "source": [
    "# 学習\n",
    "GM.m_greedy(num_w=100, r=1, scale=0)\n",
    "V.m_greedy(num_w=100, r=1, scale=0)"
   ]
  },
  {
   "cell_type": "code",
   "execution_count": null,
   "metadata": {
    "collapsed": false,
    "scrolled": true
   },
   "outputs": [],
   "source": [
    "SM.m_greedy(num_w=100, alpha=0.1, lamda=6, n_cluster=10)"
   ]
  },
  {
   "cell_type": "code",
   "execution_count": null,
   "metadata": {
    "collapsed": false
   },
   "outputs": [],
   "source": [
    "MGSM.m_greedy(num_w=100, r=1, scale=0)\n",
    "MV.m_greedy(num_w=100, r=1, scale=0)"
   ]
  },
  {
   "cell_type": "code",
   "execution_count": 7,
   "metadata": {
    "collapsed": false
   },
   "outputs": [
    {
     "name": "stdout",
     "output_type": "stream",
     "text": [
      "計算が終了しました\n"
     ]
    }
   ],
   "source": [
    "MGSM.m_greedy(num_w=100,\n",
    "              r=1,\n",
    "              scale=0,\n",
    "              a=0.5,\n",
    "              b=0.5)"
   ]
  },
  {
   "cell_type": "code",
   "execution_count": null,
   "metadata": {
    "collapsed": false,
    "scrolled": true
   },
   "outputs": [],
   "source": [
    "# 文書数のチェック\n",
    "print 'GM:'\n",
    "print 'sentence: ', len(GM.list_C)\n",
    "for row in GM.list_C:\n",
    "    print len(row[2])\n",
    "print 'V:'\n",
    "print 'sentence: ', len(V.list_C)\n",
    "for row in V.list_C:\n",
    "    print len(row[2])\n",
    "print 'SM:'\n",
    "print 'sentence: ', len(SM.list_C)\n",
    "for row in SM.list_C:\n",
    "    print len(row[2])\n",
    "print 'MGSM:'\n",
    "print 'sentence: ', len(MGSM.list_C)\n",
    "for row in MGSM.list_C:\n",
    "    print len(row[2])\n",
    "print 'MV:'\n",
    "print 'sentence: ', len(MV.list_C)\n",
    "for row in MV.list_C:\n",
    "    print len(row[2])"
   ]
  },
  {
   "cell_type": "code",
   "execution_count": 8,
   "metadata": {
    "collapsed": false
   },
   "outputs": [
    {
     "name": "stdout",
     "output_type": "stream",
     "text": [
      "MGSM:\n",
      "sentence:  property: list_C\n",
      "9\n",
      "property: list_C\n",
      "5\n",
      "15\n",
      "9\n",
      "15\n",
      "8\n",
      "14\n",
      "15\n",
      "11\n",
      "6\n"
     ]
    }
   ],
   "source": [
    "print 'MGSM:'\n",
    "print 'sentence: ', len(MGSM.list_C)\n",
    "for row in MGSM.list_C:\n",
    "    print len(row[2])"
   ]
  },
  {
   "cell_type": "code",
   "execution_count": null,
   "metadata": {
    "collapsed": false
   },
   "outputs": [],
   "source": [
    "for row in GM.list_C:\n",
    "    print row[0]\n",
    "for row in V.list_C:\n",
    "    print row[0]\n",
    "for row in SM.list_C:\n",
    "    print row[0]\n",
    "for row in MGSM.list_C:\n",
    "    print row[0]\n",
    "for row in MV.list_C:\n",
    "    print row[0]"
   ]
  },
  {
   "cell_type": "code",
   "execution_count": null,
   "metadata": {
    "collapsed": false
   },
   "outputs": [],
   "source": [
    "# 単語数のチェック\n",
    "counter = 0\n",
    "for row in SM.list_C:\n",
    "    counter += len(row[2])\n",
    "print counter"
   ]
  },
  {
   "cell_type": "code",
   "execution_count": null,
   "metadata": {
    "collapsed": false
   },
   "outputs": [],
   "source": [
    "# Rougeを計算するようにbag_of_wordsを作成する\n",
    "list_gm_test = [row[2] for row in GM.list_C]\n",
    "list_v_test = [row[2] for row in V.list_C]\n",
    "list_sm_test = [row[2] for row in SM.list_C]\n",
    "list_mgm_test = [row[2] for row in MGM.list_C]\n",
    "list_mv_test = [row[2] for row in GM.list_C]"
   ]
  },
  {
   "cell_type": "code",
   "execution_count": null,
   "metadata": {
    "collapsed": false
   },
   "outputs": [],
   "source": [
    "num=4\n",
    "print Rouge_N.rouge(list_gm_test, dict_ans['sep_all'][num], N=1)\n",
    "print Rouge_N.rouge(list_v_test, dict_ans['sep_all'][num], N=1)\n",
    "print Rouge_N.rouge(list_sm_test, dict_ans['sep_all'][num], N=1)\n",
    "print Rouge_N.rouge(list_mgm_test, dict_ans['sep_all'][num], N=1)\n",
    "print Rouge_N.rouge(list_mv_test, dict_ans['sep_all'][num], N=1)"
   ]
  },
  {
   "cell_type": "markdown",
   "metadata": {},
   "source": [
    "### 品詞ごとに最適化"
   ]
  },
  {
   "cell_type": "code",
   "execution_count": 1,
   "metadata": {
    "collapsed": false
   },
   "outputs": [],
   "source": [
    "from filer2.filer2 import Filer\n",
    "from library.submodular import *\n",
    "from library.graphsubmodular import *\n",
    "from library.vector import *\n",
    "from library.rouge import *\n",
    "import numpy as np\n",
    "import collections\n",
    "from scipy.sparse import csr_matrix, lil_matrix"
   ]
  },
  {
   "cell_type": "code",
   "execution_count": 13,
   "metadata": {
    "collapsed": true
   },
   "outputs": [],
   "source": [
    "# ファイルの読み込み\n",
    "dict_test = Filer.readdump('./files/OpinosisDataset1.0/preprocessed3/bathroom_bestwestern_hotel_sfo.dump')\n",
    "dict_ans = Filer.readdump('./files/OpinosisDataset1.0/preprocessed1/ans/bathroom_bestwestern_hotel_sfo.dump')"
   ]
  },
  {
   "cell_type": "code",
   "execution_count": 14,
   "metadata": {
    "collapsed": false
   },
   "outputs": [],
   "source": [
    "# テスト用ファイルの作成\n",
    "# １００単語以上ある文は除く\n",
    "list_sentence = []\n",
    "list_sep = []\n",
    "list_sep_all = []\n",
    "list_pos = []\n",
    "list_edgelist = []\n",
    "for sen, sep, sepall, pos, edge in zip(dict_test['sentence'],\n",
    "                                       dict_test['sep_all'],\n",
    "                                       dict_test['sep_all'],\n",
    "                                       dict_test['pos_all'],\n",
    "                                       dict_test['edge_all']):\n",
    "    if len(sepall) <= 100 and len(sep) != 0:\n",
    "        list_sentence.append(sen)\n",
    "        list_sep.append(sep)\n",
    "        list_sep_all.append(sepall)\n",
    "        list_pos.append(pos)\n",
    "        list_edgelist.append(edge)\n",
    "        \n",
    "list_edgelist = [[row1[0], row1[1]] for row in list_edgelist for row1 in row]"
   ]
  },
  {
   "cell_type": "code",
   "execution_count": 15,
   "metadata": {
    "collapsed": false
   },
   "outputs": [],
   "source": [
    "PGSM = Partition_GraphSubModular(list_sep_all=list_sep_all,\n",
    "                                 list_sep=list_sep,\n",
    "                                 list_pos=list_pos,\n",
    "                                 list_edgelist=list_edgelist,\n",
    "                                 directed=False,\n",
    "                                 simrank_flag=True,\n",
    "                                 weighted=False,\n",
    "                                 log_flag=True)"
   ]
  },
  {
   "cell_type": "code",
   "execution_count": 16,
   "metadata": {
    "collapsed": false
   },
   "outputs": [
    {
     "name": "stdout",
     "output_type": "stream",
     "text": [
      "計算が終了しました\n"
     ]
    }
   ],
   "source": [
    "PGSM.m_greedy(num_w = 100,\n",
    "              r=1,\n",
    "              scale=0,\n",
    "              n=0.2,\n",
    "              j=0.2,\n",
    "              v=0.2,\n",
    "              o=0.2)"
   ]
  },
  {
   "cell_type": "code",
   "execution_count": 17,
   "metadata": {
    "collapsed": false
   },
   "outputs": [
    {
     "name": "stdout",
     "output_type": "stream",
     "text": [
      "property: list_C\n",
      "[[u'bathroom', u'spotless', u'and', u'nicely', u'appointed'], [u'large', u'comfortable', u'room', u'wonderful', u'bathroom'], [u'the', u'rooms', u'are', u'exceptionally', u'clean', u'and', u'also', u'the', u'bathrooms'], [u'shower', u'bathroom', u'was', u'good', u'with', u'good', u'shower', u'and', u'plenty', u'of', u'space'], [u'hair', u'dryer', u'in', u'bathroom', u'constantly', u'fell', u'in', u'sink', u'from', u'it', u\"'s\", u'holder', u'when', u'anyone', u'used', u'the', u'door', u'to', u'our', u'room'], [u'bathrooms', u'though', u'are', u'plenty', u'big'], [u'amenities', u'while', u'this', u'hotel', u'is', u\"n't\", u'a', u'luxury', u'property', u'they', u'have', u'some', u'nice', u'touches', u'like', u'marble', u'bathrooms', u'mini', u'bar', u'room', u'service', u'and', u'an', u'evening', u'wine', u'reception', u'every', u'day'], [u'the', u'room', u'was', u'small', u'with', u'a', u'king', u'bed', u'and', u'a', u'truly', u'claustrophobic', u'bathroom']]\n",
      "[[[u'bathrooms', u'are', u'satisfactory'], [u'the', u'rooms', u'are', u'clean', u'generally', u'clean'], [u'the', u'lighting', u'in', u'the', u'bathroom', u'is', u'an', u'issue', u'for', u'many']], [[u'bathrooms', u'are', u'mostly', u'adequate', u'sized', u'and', u'clean', u'with', u'a', u'few', u'exceptions'], [u'amenities', u'such', u'as', u'shampoo', u'and', u'soap', u'are', u'provided'], [u'most', u'have', u'been', u'remodeled']], [[u'rooms', u'are', u'not', u'big', u'but', u'clean', u'and', u'with', u'comfortable', u'beds'], [u'bathroom', u'are', u'clean', u'with', u'shampoos', u'soaps', u'and', u'hairdryers']], [[u'the', u'rooms', u'were', u'not', u'large', u'but', u'were', u'clean', u'and', u'very', u'comfortable'], [u'the', u'bathroom', u'size', u'varied', u'but', u'generally', u'they', u'were', u'fully', u'stocked'], [u'there', u'were', u'some', u'isolated', u'problems', u'with', u'maintenance', u'issues']], [[u'people', u'were', u'most', u'impressesd', u'with', u'the', u'bathrooms'], [u'the', u'bathrooms', u'were', u'large', u'comfortably', u'sized', u'and', u'very', u'clean', u'and', u'well', u'maintained']]]\n",
      "0.490740740741\n"
     ]
    }
   ],
   "source": [
    "list_C = PGSM.list_C\n",
    "list_pgsm_test = [list_sentence[row[0]].replace(',', '').replace('.', '').lower().split(' ') for row in list_C]\n",
    "list_pgsm_ans = [[sen.replace(',', '').replace('.', '').lower().split(' ') for sen in row] for row in dict_ans['sentence']]\n",
    "R1 = Rouge_N.rouge(list_pgsm_test, list_pgsm_ans, N=1)\n",
    "print list_pgsm_test\n",
    "print list_pgsm_ans\n",
    "print R1"
   ]
  },
  {
   "cell_type": "code",
   "execution_count": null,
   "metadata": {
    "collapsed": true
   },
   "outputs": [],
   "source": []
  },
  {
   "cell_type": "code",
   "execution_count": 6,
   "metadata": {
    "collapsed": false
   },
   "outputs": [
    {
     "name": "stdout",
     "output_type": "stream",
     "text": [
      "(1191, 436)\n",
      "(248, 436)\n",
      "(129, 436)\n",
      "(224, 436)\n",
      "(590, 436)\n",
      "45.1255534475\n",
      "7.52334787\n",
      "4.46805478063\n",
      "7.97308542162\n",
      "25.1610653753\n"
     ]
    }
   ],
   "source": [
    "num = 100\n",
    "\n",
    "print PGSM._d_matrix.shape\n",
    "print PGSM._d_matrix_n.shape\n",
    "print PGSM._d_matrix_j.shape\n",
    "print PGSM._d_matrix_v.shape\n",
    "print PGSM._d_matrix_o.shape\n",
    "\n",
    "print PGSM._d_matrix[:,num].sum()\n",
    "print PGSM._d_matrix_n[:,num].sum()\n",
    "print PGSM._d_matrix_j[:,num].sum()\n",
    "print PGSM._d_matrix_v[:,num].sum()\n",
    "print PGSM._d_matrix_o[:,num].sum()"
   ]
  },
  {
   "cell_type": "markdown",
   "metadata": {},
   "source": [
    "### ポジネガのコード"
   ]
  },
  {
   "cell_type": "code",
   "execution_count": 14,
   "metadata": {
    "collapsed": false
   },
   "outputs": [],
   "source": [
    "list_file = Filer.readdump('./files/rakuten/for_questionnaire/54127/txt_sep_54127.dump')\n",
    "list_sep=[]\n",
    "list_sep_lemmas = []\n",
    "list_sentence = []\n",
    "for row in list_file:\n",
    "    if len(row['sep_all']) <= 100:\n",
    "        list_sentence.append(row['sentence'])\n",
    "        list_sep.append(row['sep_all'])\n",
    "        list_sep_lemmas.append(row['sep_all_lemmas'])\n",
    "\n",
    "list_sep = list_sep[0:100]\n",
    "list_sep_lemmas = list_sep_lemmas[0:100]"
   ]
  },
  {
   "cell_type": "code",
   "execution_count": 21,
   "metadata": {
    "collapsed": false
   },
   "outputs": [
    {
     "name": "stdout",
     "output_type": "stream",
     "text": [
      "num_sentence:  100\n",
      "num word:  1788\n",
      "num vocabulary:  566\n"
     ]
    }
   ],
   "source": [
    "SM = SubModular(list_sep_all=list_sep,\n",
    "                list_sep=list_sep)\n",
    "\n",
    "MGSM = Multiplex_GraphSubModular(list_sep_all=list_sep,\n",
    "                                 list_sep=list_sep,\n",
    "                                 weighted=True)\n",
    "\n",
    "PGSM = Polarity_GraphSubModular(list_sep=list_sep,\n",
    "                                list_sep_lemmas=list_sep_lemmas,\n",
    "                                dict_path='./files/dictionary/dict_word_pol.dump',\n",
    "                                weighted=True,\n",
    "                                threshold=0.95,\n",
    "                                identity=0.3,\n",
    "                                mode='cor')"
   ]
  },
  {
   "cell_type": "code",
   "execution_count": 22,
   "metadata": {
    "collapsed": false
   },
   "outputs": [
    {
     "name": "stdout",
     "output_type": "stream",
     "text": [
      "計算が終了しました\n",
      "計算が終了しました\n"
     ]
    }
   ],
   "source": [
    "SM.m_greedy(num_w=100, alpha=0.1, lamda=6, n_cluster=10)\n",
    "PGSM.m_greedy(num_w = 100, r=1, scale=0, a=0.9, b=0.1)"
   ]
  },
  {
   "cell_type": "code",
   "execution_count": 23,
   "metadata": {
    "collapsed": false
   },
   "outputs": [
    {
     "name": "stdout",
     "output_type": "stream",
     "text": [
      "property: list_C\n",
      " 残念\n",
      "お世話になりました\n",
      "  また利用したいと思います\n",
      "ホテル大変綺麗でした\n",
      "最終日は重宝しました\n",
      "かなり満足でしたよ\n",
      "スタッフの対応もとても良かったです\n",
      " またぜひ利用させていただきます\n",
      "と言うことで宿泊しました\n",
      "洗い場付きの風呂はとてもよかったです\n",
      "  その他は大変満足しています\n",
      "浴室に洗い場が有るのが嬉しかったです\n",
      "家族の良い思い出が増えました\n",
      "お部屋のお風呂は広くてやっぱり良かった\n",
      "property: list_C\n",
      "お世話になりました\n",
      "かなり満足でしたよ\n",
      "家族の良い思い出が増えました\n",
      " またぜひ利用させていただきます\n",
      "小さい子供がいるので特に\n",
      " ディズニーランドで疲れた体には、やっぱりお風呂が一番です\n",
      "  また利用したいと思います\n",
      " 残念\n",
      "あくびをしている方もいました\n",
      "連休なのにこのお値段\n",
      " ご利用の宿泊プラン】 【予約受付は７月８日まで\n",
      " ホテルは一番新しいだけあってよかったです\n",
      "スタッフの対応もとても良かったです\n"
     ]
    }
   ],
   "source": [
    "for row in SM.list_C:\n",
    "    print list_sentence[row[0]]\n",
    "\n",
    "for row in PGSM.list_C:\n",
    "    print list_sentence[row[0]]"
   ]
  },
  {
   "cell_type": "code",
   "execution_count": 25,
   "metadata": {
    "collapsed": true
   },
   "outputs": [],
   "source": [
    "PGSM = Polarity_GraphSubModular(list_sep=list_sep,\n",
    "                                list_sep_lemmas=list_sep_lemmas,\n",
    "                                dict_path='./files/dictionary/dict_word_pol.dump',\n",
    "                                weighted=True,\n",
    "                                threshold=0.95,\n",
    "                                identity=0.3,\n",
    "                                mode='cor')"
   ]
  },
  {
   "cell_type": "code",
   "execution_count": 26,
   "metadata": {
    "collapsed": false
   },
   "outputs": [
    {
     "name": "stdout",
     "output_type": "stream",
     "text": [
      "計算が終了しました\n"
     ]
    }
   ],
   "source": [
    "PGSM.m_greedy(num_w = 100, r=1, scale=0, a=0.1, b=0.9)"
   ]
  },
  {
   "cell_type": "code",
   "execution_count": 27,
   "metadata": {
    "collapsed": false
   },
   "outputs": [
    {
     "name": "stdout",
     "output_type": "stream",
     "text": [
      "property: list_C\n",
      "お世話になりました\n",
      "家族4人で利用しました\n",
      "洗い場付きのお風呂が気に入ってます\n",
      " 残念\n",
      " ホテルは一番新しいだけあってよかったです\n",
      "シーにも直通バスが出ると良いなと思いました\n",
      "今回ショートステイでしたがこの 価格なら大満足です\n",
      " ご利用の宿泊プラン】 【予約受付は７月８日まで\n",
      "小さい子供がいるので特に\n",
      " またぜひ利用させていただきます\n",
      "連休でディズニーを満喫しよう\n",
      "スタッフの対応もとても良かったです\n"
     ]
    }
   ],
   "source": [
    "for row in PGSM.list_C:\n",
    "    print list_sentence[row[0]]"
   ]
  },
  {
   "cell_type": "code",
   "execution_count": 12,
   "metadata": {
    "collapsed": false
   },
   "outputs": [
    {
     "name": "stdout",
     "output_type": "stream",
     "text": [
      "258\n",
      "ない 透け\n",
      "て 薄く\n",
      "にくい 分り\n",
      "です はかなきゃ\n",
      "つけ ない\n",
      "♪ 色\n",
      "が き\n",
      "ば 着れ\n",
      "ので 気\n",
      "れ 着\n",
      "が 付い\n",
      "全く 気\n",
      "色 違う\n",
      "ない 隠せ\n",
      "ながら 着る\n",
      "ので 何となく\n",
      "な 感じ\n",
      "ちょっと ソコ\n",
      "・ 足\n",
      "やら 気\n",
      "の 上\n",
      "さほど 気\n",
      "あたり の\n",
      "よう 隠れる\n",
      "にくい ので\n",
      "は 回り\n",
      "で 大人\n",
      "周り 腰\n",
      "結構 薄い\n",
      "ない 問題\n",
      "た なかっ\n",
      "あたり 付け根\n",
      "と 足\n",
      "… 気\n",
      "やすい よう\n",
      "でき ない\n",
      "ちょっと ので\n",
      "ただ 少し\n",
      "でき は\n",
      "なし ガードル\n",
      "きい の\n",
      "で 色\n",
      "ない なら\n",
      "きれい なく\n",
      "に 外\n",
      "に 薄く\n",
      "が 張っ\n",
      "が 細く\n",
      "て 家\n",
      "ば 痩せれ\n",
      "が 少し\n",
      "いけ ない\n",
      "し なきゃ\n",
      "おけ ば\n",
      "でき クリア\n",
      "くらい です\n",
      "の 着る\n",
      "感じ 見える\n",
      "よう 見える\n",
      "も 腰\n",
      "パーンッと 張り\n",
      "は 薄い\n",
      "と 外\n",
      "ので 色\n",
      "て 着\n",
      "ただ 薄い\n",
      "ない 見え\n",
      "は まわり\n",
      "ので 薄い\n",
      "あたり が\n",
      "なけれ ば\n",
      "くらい 長い\n",
      "が でき\n",
      "けど ちょっと\n",
      "ない の\n",
      "も 色\n",
      "ない 感じ\n",
      "少々 気\n",
      "いい まだ\n",
      "て 似\n",
      "を 少し\n",
      "き って\n",
      "が 出来\n",
      "ない 隠さ\n",
      "でも 暗め\n",
      "で 外\n",
      "の ほか\n",
      "だ 色\n",
      "な よう\n",
      "を 気\n",
      "ので 少し\n",
      "あたり は\n",
      "まわり も\n",
      "も 細く\n",
      "き に\n",
      "も 気\n",
      "か せい\n",
      "まわり 腰\n",
      "を 着\n",
      "多少 気\n",
      "少し 気\n",
      "の 落ち\n",
      "ない 出\n",
      "た 色\n",
      "ちょっと は\n",
      "な 色\n",
      "もう 一つ\n",
      "て はかなきゃ\n",
      "上 仕方がない\n",
      "だ 気\n",
      "の 色\n",
      "でき 着用\n",
      "良い 話\n",
      "ちょっと 薄い\n",
      "に 上\n",
      "を 難点\n",
      "き て\n",
      "に 身\n",
      "が 残念\n",
      "は まだ\n",
      "と 心配\n",
      "が 薄く\n",
      "少し 折り返し\n",
      "でし 残念\n",
      "あと お\n",
      "くる て\n",
      "なる 気\n",
      "を 着れ\n",
      "へ 外\n",
      "です ない\n",
      "な は\n",
      "すごく 着\n",
      "ワイド 薄く\n",
      "ただ ちょっと\n",
      "です 感じ\n",
      "ない もの\n",
      "によって 色\n",
      "が 気\n",
      "は 少し\n",
      "ので 上\n",
      "たり 着\n",
      "は 心配\n",
      "あと 意外と\n",
      "し ない\n",
      "の 圧迫\n",
      "に 行く\n",
      "か 心配\n",
      "から 出来\n",
      "き たら\n",
      "で ない\n",
      "の 大人\n",
      "で 細く\n",
      "回り 腰\n",
      "で なし\n",
      "でし 心配\n",
      "明るい 色\n",
      "でる 少し\n",
      "さらに 足\n",
      "つけ を\n",
      "ない れ\n",
      "に よう\n",
      "し 腰\n",
      "に 足\n",
      "ない 響か\n",
      "じゃ バッグ\n",
      "て 張っ\n",
      "か ない\n",
      "が ない\n",
      "きい た\n",
      "です 残念\n",
      "しまい 気\n",
      "で 着る\n",
      "は 厳し\n",
      "て なく\n",
      "で 歩く\n",
      "ない よう\n",
      "が 色\n",
      "ので 腰\n",
      "でき カバー\n",
      "おけ て\n",
      "一つ 上\n",
      "じゃ ない\n",
      "が 薄い\n",
      "ない 付け\n",
      "ある よう\n",
      "ない 着\n",
      "にくい 透け\n",
      "て 細く\n",
      "つけ て\n",
      "という 感じ\n",
      "ちょっと 気\n",
      "は 暗め\n",
      "心配 心配\n",
      "つけ なく\n",
      "まわり 尻\n",
      "出て 気\n",
      "です 話\n",
      "けど 薄い\n",
      "れる 気\n",
      "も 辺り\n",
      "つけ なけれ\n",
      "なかっ なら\n",
      "ちょっと ぽっこり\n",
      "心配 透ける\n",
      "せい の\n",
      "て 気\n",
      "しか 着\n",
      "を 着る\n",
      "とっても 薄く\n",
      "ない 履け\n",
      "にくい 響き\n",
      "なく 出\n",
      "を 色\n",
      "の 薄\n",
      "よう 要注意\n",
      "濃い 色\n",
      "残念 違い\n",
      "色 薄い\n",
      "が 足\n",
      "上 素材\n",
      "は 気\n",
      "ので もう\n",
      "に 気\n",
      "ので 外\n",
      "が ちょっと\n",
      "余り 気\n",
      "ちょっと で\n",
      "の 足\n",
      "ない インナー\n",
      "ない ので\n",
      "も 圧迫\n",
      "は 色\n",
      "ライン 気\n",
      "た 着\n",
      "き た\n",
      "でき 解決\n",
      "ので まだ\n",
      "ただ 難点\n",
      "に 似\n",
      "な なきゃ\n",
      "て 腰\n",
      "や 足\n",
      "濃 色\n",
      "そんなに 気\n",
      "から じゃ\n",
      "の 辺り\n",
      "へ 行く\n",
      "くる の\n",
      "し なく\n",
      "まで 外\n",
      "気 線が\n",
      "しれ ない\n",
      "なく 付け\n",
      "を 身\n",
      "ない は\n",
      "なく は\n",
      "ない 考え\n",
      "履き 腰\n"
     ]
    }
   ],
   "source": [
    "print len(PGSM._list_edge_n)\n",
    "for row in PGSM._list_edge_n:\n",
    "    print row[0], row[1]"
   ]
  },
  {
   "cell_type": "code",
   "execution_count": 13,
   "metadata": {
    "collapsed": false
   },
   "outputs": [
    {
     "data": {
      "text/plain": [
       "-0.983463"
      ]
     },
     "execution_count": 13,
     "metadata": {},
     "output_type": "execute_result"
    }
   ],
   "source": [
    "dict_word = Filer.readdump('./files/dictionary/dict_word_pol.dump')\n",
    "dict_word['色']"
   ]
  },
  {
   "cell_type": "code",
   "execution_count": null,
   "metadata": {
    "collapsed": true
   },
   "outputs": [],
   "source": []
  }
 ],
 "metadata": {
  "kernelspec": {
   "display_name": "Python 2",
   "language": "python",
   "name": "python2"
  },
  "language_info": {
   "codemirror_mode": {
    "name": "ipython",
    "version": 2
   },
   "file_extension": ".py",
   "mimetype": "text/x-python",
   "name": "python",
   "nbconvert_exporter": "python",
   "pygments_lexer": "ipython2",
   "version": "2.7.10"
  }
 },
 "nbformat": 4,
 "nbformat_minor": 0
}
