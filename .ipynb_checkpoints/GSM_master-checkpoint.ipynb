{
 "cells": [
  {
   "cell_type": "code",
   "execution_count": 2,
   "metadata": {
    "collapsed": false
   },
   "outputs": [],
   "source": [
    "# coding: utf-8\n",
    "\"\"\"\n",
    "提案手法を実験するためのコード\n",
    "\"\"\"\n",
    "from filer2.filer2 import Filer\n",
    "from library.graphsubmodular import GraphSubModular\n",
    "from library.rouge import Rouge_N\n",
    "import numpy as np\n",
    "import glob"
   ]
  },
  {
   "cell_type": "code",
   "execution_count": 3,
   "metadata": {
    "collapsed": true
   },
   "outputs": [],
   "source": [
    "start = 0\n",
    "end = 10\n",
    "\n",
    "list_test_path = glob.glob('./files/OpinosisDataset1.0/preprocessed/test/*')\n",
    "list_ans_path = glob.glob('./files/OpinosisDataset1.0/preprocessed/ans/*')\n",
    "\n",
    "list_test_path.sort()\n",
    "list_ans_path.sort()\n",
    "\n",
    "list_test_path = list_test_path[start:end]\n",
    "list_ans_path = list_ans_path[start:end]"
   ]
  },
  {
   "cell_type": "code",
   "execution_count": 4,
   "metadata": {
    "collapsed": false
   },
   "outputs": [
    {
     "name": "stdout",
     "output_type": "stream",
     "text": [
      "1\n",
      "計算が終了しました\n",
      "property: list_C\n"
     ]
    },
    {
     "name": "stderr",
     "output_type": "stream",
     "text": [
      "library/graphsubmodular.py:160: RuntimeWarning: Couldn't reach some vertices at structural_properties.c:4482\n",
      "  output='epath')\n"
     ]
    },
    {
     "ename": "KeyboardInterrupt",
     "evalue": "",
     "output_type": "error",
     "traceback": [
      "\u001b[1;31m---------------------------------------------------------------------------\u001b[0m",
      "\u001b[1;31mKeyboardInterrupt\u001b[0m                         Traceback (most recent call last)",
      "\u001b[1;32m<ipython-input-4-7539d68faff1>\u001b[0m in \u001b[0;36m<module>\u001b[1;34m()\u001b[0m\n\u001b[0;32m     36\u001b[0m         \u001b[1;32mfor\u001b[0m \u001b[0mr\u001b[0m \u001b[1;32min\u001b[0m \u001b[1;33m[\u001b[0m\u001b[1;36m0.1\u001b[0m\u001b[1;33m,\u001b[0m \u001b[1;36m0.5\u001b[0m\u001b[1;33m,\u001b[0m \u001b[1;36m1\u001b[0m\u001b[1;33m,\u001b[0m \u001b[1;36m2\u001b[0m\u001b[1;33m]\u001b[0m\u001b[1;33m:\u001b[0m\u001b[1;33m\u001b[0m\u001b[0m\n\u001b[0;32m     37\u001b[0m             \u001b[1;31m# 学習\u001b[0m\u001b[1;33m\u001b[0m\u001b[1;33m\u001b[0m\u001b[0m\n\u001b[1;32m---> 38\u001b[1;33m             \u001b[0mGM\u001b[0m\u001b[1;33m.\u001b[0m\u001b[0mm_greedy\u001b[0m\u001b[1;33m(\u001b[0m\u001b[0mnum_w\u001b[0m\u001b[1;33m=\u001b[0m\u001b[1;36m100\u001b[0m\u001b[1;33m,\u001b[0m \u001b[0mr\u001b[0m\u001b[1;33m=\u001b[0m\u001b[0mr\u001b[0m\u001b[1;33m,\u001b[0m \u001b[0mscale\u001b[0m\u001b[1;33m=\u001b[0m\u001b[0mscale\u001b[0m\u001b[1;33m)\u001b[0m\u001b[1;33m\u001b[0m\u001b[0m\n\u001b[0m\u001b[0;32m     39\u001b[0m             \u001b[1;31m# Rougeを計算するようにbag_of_wordsを作成する\u001b[0m\u001b[1;33m\u001b[0m\u001b[1;33m\u001b[0m\u001b[0m\n\u001b[0;32m     40\u001b[0m             \u001b[0mlist_C\u001b[0m \u001b[1;33m=\u001b[0m \u001b[0mGM\u001b[0m\u001b[1;33m.\u001b[0m\u001b[0mlist_C\u001b[0m\u001b[1;33m\u001b[0m\u001b[0m\n",
      "\u001b[1;32m/home/ikegami/documents/submodular/library/graphsubmodular.py\u001b[0m in \u001b[0;36mm_greedy\u001b[1;34m(self, num_w, r, scale)\u001b[0m\n\u001b[0;32m    271\u001b[0m             doc_id, sep, sepall = self._m_greedy_1(list_C=list_C,\n\u001b[0;32m    272\u001b[0m                                                    \u001b[0mlist_id_sep_sepall\u001b[0m\u001b[1;33m=\u001b[0m\u001b[0mlist_id_sep_sepall\u001b[0m\u001b[1;33m,\u001b[0m\u001b[1;33m\u001b[0m\u001b[0m\n\u001b[1;32m--> 273\u001b[1;33m                                                    r=r, scale=scale)\n\u001b[0m\u001b[0;32m    274\u001b[0m             \u001b[1;32mif\u001b[0m \u001b[0mC_word\u001b[0m \u001b[1;33m+\u001b[0m \u001b[0mlen\u001b[0m\u001b[1;33m(\u001b[0m\u001b[0msepall\u001b[0m\u001b[1;33m)\u001b[0m \u001b[1;33m<=\u001b[0m \u001b[0mnum_w\u001b[0m\u001b[1;33m:\u001b[0m\u001b[1;33m\u001b[0m\u001b[0m\n\u001b[0;32m    275\u001b[0m                 \u001b[1;31m# 採用したリストをappend\u001b[0m\u001b[1;33m\u001b[0m\u001b[1;33m\u001b[0m\u001b[0m\n",
      "\u001b[1;32m/home/ikegami/documents/submodular/library/graphsubmodular.py\u001b[0m in \u001b[0;36m_m_greedy_1\u001b[1;34m(self, list_C, list_id_sep_sepall, r, scale)\u001b[0m\n\u001b[0;32m    242\u001b[0m                 \u001b[1;31m# コストの計算\u001b[0m\u001b[1;33m\u001b[0m\u001b[1;33m\u001b[0m\u001b[0m\n\u001b[0;32m    243\u001b[0m                 f_C_s = self._cal_cost(list_c_word=list_c_word_s,\n\u001b[1;32m--> 244\u001b[1;33m                                        scale=scale)\n\u001b[0m\u001b[0;32m    245\u001b[0m                 \u001b[1;31m# スコアの増分を計算\u001b[0m\u001b[1;33m\u001b[0m\u001b[1;33m\u001b[0m\u001b[0m\n\u001b[0;32m    246\u001b[0m                 \u001b[0mdelta\u001b[0m \u001b[1;33m=\u001b[0m \u001b[1;33m(\u001b[0m\u001b[0mf_C_s\u001b[0m \u001b[1;33m-\u001b[0m \u001b[0mf_C\u001b[0m\u001b[1;33m)\u001b[0m \u001b[1;33m/\u001b[0m \u001b[0mnp\u001b[0m\u001b[1;33m.\u001b[0m\u001b[0mpower\u001b[0m\u001b[1;33m(\u001b[0m\u001b[0mlen\u001b[0m\u001b[1;33m(\u001b[0m\u001b[0msepall\u001b[0m\u001b[1;33m)\u001b[0m\u001b[1;33m,\u001b[0m \u001b[0mr\u001b[0m\u001b[1;33m)\u001b[0m\u001b[1;33m\u001b[0m\u001b[0m\n",
      "\u001b[1;32m/home/ikegami/documents/submodular/library/graphsubmodular.py\u001b[0m in \u001b[0;36m_cal_cost\u001b[1;34m(self, list_c_word, scale)\u001b[0m\n\u001b[0;32m    193\u001b[0m             \u001b[1;31m# スケーリング関数: e^x\u001b[0m\u001b[1;33m\u001b[0m\u001b[1;33m\u001b[0m\u001b[0m\n\u001b[0;32m    194\u001b[0m             \u001b[1;32mif\u001b[0m \u001b[0mscale\u001b[0m \u001b[1;33m==\u001b[0m \u001b[1;36m0\u001b[0m\u001b[1;33m:\u001b[0m\u001b[1;33m\u001b[0m\u001b[0m\n\u001b[1;32m--> 195\u001b[1;33m                 \u001b[0mf_C\u001b[0m \u001b[1;33m-=\u001b[0m \u001b[0mnp\u001b[0m\u001b[1;33m.\u001b[0m\u001b[0mexp\u001b[0m\u001b[1;33m(\u001b[0m\u001b[0mnp\u001b[0m\u001b[1;33m.\u001b[0m\u001b[0mamin\u001b[0m\u001b[1;33m(\u001b[0m\u001b[0mrow\u001b[0m\u001b[1;33m)\u001b[0m\u001b[1;33m)\u001b[0m\u001b[1;33m\u001b[0m\u001b[0m\n\u001b[0m\u001b[0;32m    196\u001b[0m             \u001b[1;31m# スケーリング関数: x\u001b[0m\u001b[1;33m\u001b[0m\u001b[1;33m\u001b[0m\u001b[0m\n\u001b[0;32m    197\u001b[0m             \u001b[1;32melif\u001b[0m \u001b[0mscale\u001b[0m \u001b[1;33m==\u001b[0m \u001b[1;36m1\u001b[0m\u001b[1;33m:\u001b[0m\u001b[1;33m\u001b[0m\u001b[0m\n",
      "\u001b[1;31mKeyboardInterrupt\u001b[0m: "
     ]
    }
   ],
   "source": [
    "directed = False\n",
    "\n",
    "counter = 1\n",
    "\n",
    "for test_path, ans_path in zip(list_test_path, list_ans_path):\n",
    "    dict_test = Filer.readdump(test_path)\n",
    "    dict_ans = Filer.readdump(ans_path)\n",
    "    filename = ans_path.replace('./files/OpinosisDataset1.0/preprocessed/ans/', '')\n",
    "    filename = filename.replace('.dump', '')\n",
    "    print counter\n",
    "    counter += 1\n",
    "    # テスト用ファイルの作成\n",
    "    # １００単語以上ある文は除く\n",
    "    list_sentence = []\n",
    "    list_sep = []\n",
    "    list_sep_all = []\n",
    "    list_edgelist = []\n",
    "    for sen, sep, sepall, edge in zip(dict_test['sentence'],\n",
    "                                      dict_test['sep_njv'],\n",
    "                                      dict_test['sep_all'],\n",
    "                                      dict_test['edge_njv']):\n",
    "        if len(sepall) <= 100 and len(sep) != 0:\n",
    "            list_sentence.append(sen)\n",
    "            list_sep.append(sep)\n",
    "            list_sep_all.append(sepall)\n",
    "            list_edgelist.append(edge)\n",
    "\n",
    "    list_edgelist = [[row1[0], row1[1]] for row in list_edgelist for row1 in row]\n",
    "    # インスタンス化\n",
    "    GM = GraphSubModular(list_sep_all=list_sep_all,\n",
    "                         list_sep=list_sep,\n",
    "                         list_edgelist=list_edgelist,\n",
    "                         directed=directed,\n",
    "                         inverse_flag=True)\n",
    "    for scale in [0,1,2]:\n",
    "        for r in [0.1, 0.5, 1, 2]:\n",
    "            # 学習\n",
    "            GM.m_greedy(num_w=100, r=r, scale=scale)\n",
    "            # Rougeを計算するようにbag_of_wordsを作成する\n",
    "            list_C = GM.list_C\n",
    "            list_gm_test = [list_sentence[row[0]].replace(',', '').replace('.', '').lower().split(' ') for row in list_C]\n",
    "            list_gm_ans = [[sen.replace(',', '').replace('.', '').lower().split(' ') for sen in row] for row in dict_ans['sentence']]\n",
    "            try:\n",
    "                R1 = Rouge_N.rouge(list_gm_test, list_gm_ans, N=1)\n",
    "            except:\n",
    "                R1 = 0\n",
    "            try:\n",
    "                R2 = Rouge_N.rouge(list_gm_test, list_gm_ans, N=2)\n",
    "            except:\n",
    "                R2 = 0\n",
    "            try:\n",
    "                R3 = Rouge_N.rouge(list_gm_test, list_gm_ans, N=3)\n",
    "            except:\n",
    "                R3 = 0\n",
    "            try:\n",
    "                R4 = Rouge_N.rouge(list_gm_test, list_gm_ans, N=4)\n",
    "            except:\n",
    "                R4 = 0\n",
    "            list_result = [[filename, scale, r, R1, R2, R3, R4]]\n",
    "            Filer.writecsv(list_result, './files/OpinosisDataset1.0/result/GSM/njv_rev1/njv_undirected_%s_%s.csv'%(scale, r))"
   ]
  },
  {
   "cell_type": "code",
   "execution_count": null,
   "metadata": {
    "collapsed": true
   },
   "outputs": [],
   "source": []
  }
 ],
 "metadata": {
  "kernelspec": {
   "display_name": "Python 2",
   "language": "python",
   "name": "python2"
  },
  "language_info": {
   "codemirror_mode": {
    "name": "ipython",
    "version": 2
   },
   "file_extension": ".py",
   "mimetype": "text/x-python",
   "name": "python",
   "nbconvert_exporter": "python",
   "pygments_lexer": "ipython2",
   "version": "2.7.10"
  }
 },
 "nbformat": 4,
 "nbformat_minor": 0
}
