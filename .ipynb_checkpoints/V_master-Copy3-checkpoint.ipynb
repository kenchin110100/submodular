{
 "cells": [
  {
   "cell_type": "code",
   "execution_count": 2,
   "metadata": {
    "collapsed": false
   },
   "outputs": [],
   "source": [
    "# coding: utf-8\n",
    "\"\"\"\n",
    "Vectorを実験するためのコード\n",
    "\"\"\"\n",
    "from filer2.filer2 import Filer\n",
    "from library.vector import Vector\n",
    "from library.rouge import Rouge_N\n",
    "import numpy as np\n",
    "import glob"
   ]
  },
  {
   "cell_type": "code",
   "execution_count": 3,
   "metadata": {
    "collapsed": false
   },
   "outputs": [
    {
     "name": "stdout",
     "output_type": "stream",
     "text": [
      "10\n",
      "10\n"
     ]
    }
   ],
   "source": [
    "start = 0\n",
    "end = 10\n",
    "\n",
    "list_test_path = glob.glob('./files/OpinosisDataset1.0/preprocessed/test/*')\n",
    "list_ans_path = glob.glob('./files/OpinosisDataset1.0/preprocessed/ans/*')\n",
    "\n",
    "list_test_path.sort()\n",
    "list_ans_path.sort()\n",
    "\n",
    "list_test_path = list_test_path[start:end]\n",
    "list_ans_path = list_ans_path[start:end]\n",
    "\n",
    "print len(list_test_path)\n",
    "print len(list_ans_path)"
   ]
  },
  {
   "cell_type": "code",
   "execution_count": null,
   "metadata": {
    "collapsed": false
   },
   "outputs": [
    {
     "name": "stdout",
     "output_type": "stream",
     "text": [
      "num word:  601\n",
      "num vocabulary:  254\n",
      "Non dictionalized word:  0\n",
      "計算が終了しました"
     ]
    }
   ],
   "source": [
    "for test_path, ans_path in zip(list_test_path, list_ans_path):\n",
    "    dict_test = Filer.readdump(test_path)\n",
    "    dict_ans = Filer.readdump(ans_path)\n",
    "    filename = ans_path.replace('./files/OpinosisDataset1.0/preprocessed/ans/', '')\n",
    "    filename = filename.replace('.dump', '')\n",
    "    # テスト用ファイルの作成\n",
    "    # １００単語以上ある文は除く\n",
    "    list_sentence = []\n",
    "    list_sep = []\n",
    "    list_sep_all = []\n",
    "    list_edgelist = []\n",
    "    for sen, sep, sepall, edge in zip(dict_test['sentence'],\n",
    "                                      dict_test['sep_njv'],\n",
    "                                      dict_test['sep_all'],\n",
    "                                      dict_test['edge_njv']):\n",
    "        if len(sepall) <= 100 and len(sep) != 0:\n",
    "            list_sentence.append(sen)\n",
    "            list_sep.append(sep)\n",
    "            list_sep_all.append(sepall)\n",
    "            list_edgelist.append(edge)\n",
    "\n",
    "    list_edgelist = [[row1[0], row1[1]] for row in list_edgelist for row1 in row]\n",
    "    # インスタンス化\n",
    "    V = Vector(list_sep_all=list_sep_all,\n",
    "               list_sep=list_sep,\n",
    "               dict_path = './files/OpinosisDataset1.0/w2v/model_lemmas/model_cbow_s300_w5_m0/dict_word_vec_3')\n",
    "    \n",
    "    for scale in [0, 1, 2]:\n",
    "        for r in [0.1, 0.5, 1, 2]:\n",
    "    \n",
    "            # 学習\n",
    "            V.m_greedy(num_w=100, r=r, scale=scale)\n",
    "            # Rougeを計算するようにbag_of_wordsを作成する\n",
    "            list_C = V.list_C\n",
    "            list_v_test = [list_sentence[row[0]].replace(',', '').replace('.', '').lower().split(' ') for row in list_C]\n",
    "            list_v_ans = [[sen.replace(',', '').replace('.', '').lower().split(' ') for sen in row] for row in dict_ans['sentence']]\n",
    "            try:\n",
    "                R1 = Rouge_N.rouge(list_v_test, list_v_ans, N=1)\n",
    "            except:\n",
    "                R1 = 0\n",
    "            try:\n",
    "                R2 = Rouge_N.rouge(list_v_test, list_v_ans, N=2)\n",
    "            except:\n",
    "                R2 = 0\n",
    "            try:\n",
    "                R3 = Rouge_N.rouge(list_v_test, list_v_ans, N=3)\n",
    "            except:\n",
    "                R3 = 0\n",
    "            try:\n",
    "                R4 = Rouge_N.rouge(list_v_test, list_v_ans, N=4)\n",
    "            except:\n",
    "                R4 = 0\n",
    "            list_result = [[filename, scale, r, R1, R2, R3, R4]]\n",
    "            Filer.writecsv(list_result, './files/OpinosisDataset1.0/result/V/njv_rev1/njv_%s_%s.csv'%(scale, r))"
   ]
  },
  {
   "cell_type": "code",
   "execution_count": null,
   "metadata": {
    "collapsed": true
   },
   "outputs": [],
   "source": []
  }
 ],
 "metadata": {
  "kernelspec": {
   "display_name": "Python 2",
   "language": "python",
   "name": "python2"
  },
  "language_info": {
   "codemirror_mode": {
    "name": "ipython",
    "version": 2
   },
   "file_extension": ".py",
   "mimetype": "text/x-python",
   "name": "python",
   "nbconvert_exporter": "python",
   "pygments_lexer": "ipython2",
   "version": "2.7.10"
  }
 },
 "nbformat": 4,
 "nbformat_minor": 0
}
