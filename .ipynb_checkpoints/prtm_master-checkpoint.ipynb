{
 "cells": [
  {
   "cell_type": "code",
   "execution_count": 2,
   "metadata": {
    "collapsed": false
   },
   "outputs": [],
   "source": [
    "# coding: utf-8\n",
    "\"\"\"\n",
    "サンプルの各文をPRTMで分類\n",
    "\"\"\"\n",
    "from library.prtm import PRTM\n",
    "from filer2.filer2 import Filer\n",
    "import glob\n",
    "import numpy as np\n",
    "import collections\n",
    "import itertools"
   ]
  },
  {
   "cell_type": "code",
   "execution_count": 4,
   "metadata": {
    "collapsed": false
   },
   "outputs": [
    {
     "data": {
      "text/plain": [
       "['./files/preprocessedfile/type11/wordlist/preprocessed-19191.dump',\n",
       " './files/preprocessedfile/type11/wordlist/preprocessed-76887.dump',\n",
       " './files/preprocessedfile/type11/wordlist/preprocessed-1238.dump',\n",
       " './files/preprocessedfile/type11/wordlist/preprocessed-51637.dump',\n",
       " './files/preprocessedfile/type11/wordlist/preprocessed-53171.dump']"
      ]
     },
     "execution_count": 4,
     "metadata": {},
     "output_type": "execute_result"
    }
   ],
   "source": [
    "# ファイルの読み込み\n",
    "list_filepath = glob.glob('./files/preprocessedfile/type11/bigram/*')\n",
    "list_edge = [Filer.readtsv(path) for path in list_filepath]\n",
    "list_edge = [edge for row in list_edge for edge in row]\n",
    "list_filepath = glob.glob('./files/preprocessedfile/type11/wordlist/*')\n",
    "list_sepwords = [Filer.readdump(path) for path in list_filepath]\n",
    "list_filepath"
   ]
  },
  {
   "cell_type": "code",
   "execution_count": 10,
   "metadata": {
    "collapsed": false
   },
   "outputs": [
    {
     "name": "stdout",
     "output_type": "stream",
     "text": [
      "クラスタ数:  12\n"
     ]
    }
   ],
   "source": [
    "# 学習、bigramをつかって、directed_trueで学習\n",
    "prtm = PRTM(inputpath = list_edge, directed_flag=False)\n",
    "prtm.fit(n=0, flag_louvain=True)"
   ]
  },
  {
   "cell_type": "code",
   "execution_count": 7,
   "metadata": {
    "collapsed": false
   },
   "outputs": [
    {
     "name": "stderr",
     "output_type": "stream",
     "text": [
      "library/prtm.py:251: FutureWarning: comparison to `None` will result in an elementwise object comparison in the future.\n",
      "  if self._list_topic_prob == None:\n"
     ]
    }
   ],
   "source": [
    "# 各ホテルごとにsentenceを分類\n",
    "list_master = []\n",
    "for list_sen_words in list_sepwords:\n",
    "    dict_tmp = {i:[] for i in range(12)}\n",
    "    for row in list_sen_words:\n",
    "        label = np.argmax(prtm.infer(row[1]))\n",
    "        dict_tmp[label].append(row[0])\n",
    "    list_master.append(dict_tmp)"
   ]
  },
  {
   "cell_type": "code",
   "execution_count": 8,
   "metadata": {
    "collapsed": false
   },
   "outputs": [
    {
     "name": "stdout",
     "output_type": "stream",
     "text": [
      "0 539\n",
      "1 207\n",
      "2 248\n",
      "3 428\n",
      "4 12\n",
      "5 0\n",
      "6 423\n",
      "7 904\n",
      "8 0\n",
      "9 91\n",
      "10 314\n",
      "11 379\n",
      "===================\n",
      "0 426\n",
      "1 143\n",
      "2 141\n",
      "3 330\n",
      "4 36\n",
      "5 0\n",
      "6 504\n",
      "7 976\n",
      "8 0\n",
      "9 92\n",
      "10 330\n",
      "11 239\n",
      "===================\n",
      "0 676\n",
      "1 446\n",
      "2 276\n",
      "3 455\n",
      "4 106\n",
      "5 0\n",
      "6 513\n",
      "7 804\n",
      "8 3\n",
      "9 319\n",
      "10 890\n",
      "11 282\n",
      "===================\n",
      "0 480\n",
      "1 268\n",
      "2 181\n",
      "3 280\n",
      "4 13\n",
      "5 3\n",
      "6 376\n",
      "7 1146\n",
      "8 0\n",
      "9 85\n",
      "10 333\n",
      "11 341\n",
      "===================\n",
      "0 512\n",
      "1 488\n",
      "2 114\n",
      "3 355\n",
      "4 6\n",
      "5 0\n",
      "6 303\n",
      "7 1198\n",
      "8 0\n",
      "9 130\n",
      "10 468\n",
      "11 320\n",
      "===================\n"
     ]
    }
   ],
   "source": [
    "for i in range(5):\n",
    "    for j in range(12):\n",
    "        print j, len(list_master[i][j])\n",
    "    print '==================='"
   ]
  },
  {
   "cell_type": "code",
   "execution_count": 80,
   "metadata": {
    "collapsed": false
   },
   "outputs": [],
   "source": [
    "for i, path in enumerate(['-19191', '-76887', '-1238', '-51637', '-53171']):\n",
    "    for j in range(12):\n",
    "        Filer.writetxt(list_master[i][j],\n",
    "                      './files/classifiedfile/type11/bigram/classified'+path+'_%s'%j+'.txt')"
   ]
  },
  {
   "cell_type": "code",
   "execution_count": 11,
   "metadata": {
    "collapsed": false
   },
   "outputs": [
    {
     "name": "stdout",
     "output_type": "stream",
     "text": [
      "トピック:  0\n",
      "==============\n",
      "フロント 0.0317438761555\n",
      "対応 0.0316370008767\n",
      "チェックイン 0.0292942948679\n",
      "スタッフ 0.0124238888228\n",
      "人 0.012012991992\n",
      "チェックアウト 0.01191877581\n",
      "荷物 0.0116053283325\n",
      "案内 0.0102525935931\n",
      "エレベーター 0.0100823814296\n",
      "遅い 0.00831562662606\n",
      "==============\n"
     ]
    }
   ],
   "source": [
    "prtm.show_topic(n=0)"
   ]
  },
  {
   "cell_type": "markdown",
   "metadata": {},
   "source": [
    "### 楽天市場のレビューを分類"
   ]
  },
  {
   "cell_type": "code",
   "execution_count": 133,
   "metadata": {
    "collapsed": false
   },
   "outputs": [
    {
     "name": "stdout",
     "output_type": "stream",
     "text": [
      "暖かい 3538\n",
      "購入 3016\n",
      "良い 1612\n",
      "商品 1271\n",
      "起毛 1167\n",
      "いい 1119\n",
      "生地 1098\n",
      "インナー 1060\n",
      "裏 1030\n",
      "安い 939\n"
     ]
    }
   ],
   "source": [
    "# ファイルの読み込み\n",
    "\n",
    "review_num = 19\n",
    "\n",
    "inputpath = './files/rakuten_ichiba/processedfile/morphofile/%s.dump' % review_num\n",
    "\n",
    "list_dict = Filer.readdump(inputpath)\n",
    "list_sentence = []\n",
    "list_sep = []\n",
    "list_sepall = []\n",
    "for row in list_dict:\n",
    "    list_sentence.append(row['sentence'])\n",
    "    list_sep.append(row['word_nj'])\n",
    "    list_sepall.append(row['word_all'])\n",
    "list_all_word = [word for row in list_sep for word in row]\n",
    "dict_count = collections.Counter(list_all_word)\n",
    "for word, count in sorted(dict_count.items(), key=lambda x:x[1], reverse=True)[0:10]:\n",
    "    print word, count"
   ]
  },
  {
   "cell_type": "code",
   "execution_count": 129,
   "metadata": {
    "collapsed": true
   },
   "outputs": [],
   "source": [
    "# stopwordの設定\n",
    "list_stopword = [word for word, count in dict_count.items() if count <= 2]\n",
    "list_stopword.extend(['購入'])\n",
    "# stopwordの除去\n",
    "list_sep = [[word for word in row if word not in list_stopword] for row in list_sep]\n",
    "# 2単語以下の文を削除\n",
    "list_sentence_rev = []\n",
    "list_sep_rev = []\n",
    "list_sepall_rev = []\n",
    "for sen, sep, sepall in zip(list_sentence, list_sep, list_sepall):\n",
    "    if len(sep) > 2:\n",
    "        list_sentence_rev.append(sen)\n",
    "        list_sep_rev.append(sep)\n",
    "        list_sepall_rev.append(sepall)"
   ]
  },
  {
   "cell_type": "code",
   "execution_count": 130,
   "metadata": {
    "collapsed": false
   },
   "outputs": [
    {
     "name": "stdout",
     "output_type": "stream",
     "text": [
      "7896\n",
      "プラセンタが含まれている量が少ないためか、これといった効果はないですが、私にとってお守りみたいな感じなので飲み続けたいと思っています\n",
      "プラセンタ 量 少ない お守り 感じ\n",
      "プラセンタ が 含ま れ て いる 量 が 少ない ため か これ といった 効果 は ない です が 私 にとって お守り みたい な 感じ な ので 飲み 続け たい と 思っ て い ます\n"
     ]
    }
   ],
   "source": [
    "# 確認\n",
    "num = 100\n",
    "print len(list_sentence_rev)\n",
    "print list_sentence_rev[num]\n",
    "print ' '.join(list_sep_rev[num])\n",
    "print ' '.join(list_sepall_rev[num])"
   ]
  },
  {
   "cell_type": "code",
   "execution_count": 131,
   "metadata": {
    "collapsed": false
   },
   "outputs": [
    {
     "name": "stdout",
     "output_type": "stream",
     "text": [
      "クラスタ数:  11\n"
     ]
    }
   ],
   "source": [
    "# エッジリストの作成\n",
    "list_edge = []\n",
    "for row in list_sep_rev:\n",
    "    list_com = list(itertools.combinations(row,2))\n",
    "    list_edge.extend(list_com)\n",
    "list_edge = [list(row) for row in list_edge]\n",
    "\n",
    "# 学習\n",
    "prtm = PRTM(inputpath = list_edge, directed_flag=False)\n",
    "prtm.fit(n=0, flag_louvain=True)"
   ]
  },
  {
   "cell_type": "code",
   "execution_count": 132,
   "metadata": {
    "collapsed": false
   },
   "outputs": [
    {
     "name": "stdout",
     "output_type": "stream",
     "text": [
      "クラスタ 0 :  3371\n",
      "クラスタ 1 :  78\n",
      "クラスタ 2 :  788\n",
      "クラスタ 3 :  46\n",
      "クラスタ 4 :  1143\n",
      "クラスタ 5 :  652\n",
      "クラスタ 6 :  819\n",
      "クラスタ 7 :  169\n",
      "クラスタ 8 :  369\n",
      "クラスタ 9 :  404\n",
      "クラスタ 10 :  57\n",
      "トピック:  0\n",
      "==============\n",
      "supli 0.0644896283202\n",
      "試し 0.0458421977109\n",
      "安い 0.0266802765718\n",
      "商品 0.0266278448083\n",
      "送料 0.0216437554272\n",
      "値段 0.0199075414178\n",
      "サプリメント 0.016321142956\n",
      "無料 0.0158031681709\n",
      "価格 0.0156527034705\n",
      "よい 0.0145871673084\n",
      "==============\n",
      "トピック:  1\n",
      "==============\n",
      "服用 0.0860429674755\n",
      "酸 0.0456743250184\n",
      "リポ 0.0398592812586\n",
      "薬 0.0396760845935\n",
      "カルニチン 0.0183354898546\n",
      "乳酸菌 0.012208901388\n",
      "追加 0.011566603158\n",
      "錠 0.0111671153835\n",
      "燃焼 0.0110620851165\n",
      "FORTH 0.0102324973453\n",
      "==============\n",
      "トピック:  2\n",
      "==============\n",
      "酵素 0.0815204456082\n",
      "野菜 0.0348351471923\n",
      "ダイエット 0.0250599462486\n",
      "マルチビタミン 0.0196905117557\n",
      "ビタミン 0.0185327160802\n",
      "やさい 0.0180959313444\n",
      "supli 0.0164660636012\n",
      "健康 0.015488777685\n",
      "手軽 0.0143863552695\n",
      "摂取 0.0139279270736\n",
      "==============\n",
      "トピック:  3\n",
      "==============\n",
      "ウコン 0.108148789744\n",
      "紫 0.0426313686692\n",
      "お酒 0.0380091378488\n",
      "知人 0.0133522586993\n",
      "ガジュツ 0.0112505893884\n",
      "肝臓 0.00902772087807\n",
      "良い 0.00852731202746\n",
      "試し 0.00557781414066\n",
      "supli 0.00549938466862\n",
      "酒飲み 0.00447752721551\n",
      "==============\n",
      "トピック:  4\n",
      "==============\n",
      "良い 0.0745803270727\n",
      "いい 0.0503731011594\n",
      "ない 0.0468337148984\n",
      "期待 0.0215583379511\n",
      "体 0.0172407157874\n",
      "supli 0.0149153880842\n",
      "実感 0.0140894918347\n",
      "変化 0.0139637349475\n",
      "リピ 0.0126990179029\n",
      "肌 0.0123465116202\n",
      "==============\n",
      "トピック:  5\n",
      "==============\n",
      "やすい 0.0923140737156\n",
      "カプセル 0.0269845953265\n",
      "粒 0.026401277701\n",
      "大きい 0.0199329436089\n",
      "味 0.0191723503954\n",
      "香 0.0186029653362\n",
      "にくい 0.0174720102783\n",
      "酢 0.016473641461\n",
      "錠剤 0.0164580461034\n",
      "小さい 0.0144281412875\n",
      "==============\n",
      "トピック:  6\n",
      "==============\n",
      "気 0.057805602277\n",
      "香り 0.0426071945428\n",
      "感じ 0.036422604512\n",
      "ローズ 0.0267916634458\n",
      "自分 0.0264080381239\n",
      "バラ 0.0197700397298\n",
      "supli 0.0163185728242\n",
      "匂い 0.0141998986243\n",
      "ローズサプリ 0.0141059138461\n",
      "笑 0.0126390600646\n",
      "==============\n",
      "トピック:  7\n",
      "==============\n",
      "成分 0.0456918749099\n",
      "他社 0.0331427086912\n",
      "残念 0.0251052981432\n",
      "少ない 0.0247103829864\n",
      "メーカー 0.0204323810954\n",
      "製品 0.017979694374\n",
      "比較 0.0144042902813\n",
      "効能 0.0140459753521\n",
      "含有量 0.0137943271762\n",
      "内容 0.013556434237\n",
      "==============\n",
      "トピック:  8\n",
      "==============\n",
      "使用 0.0428094871576\n",
      "目 0.039126398828\n",
      "ブルーベリー 0.0331797827364\n",
      "むくみ 0.0207971870392\n",
      "足 0.0166737871386\n",
      "長い 0.0153110369202\n",
      "回数 0.0141095708998\n",
      "疲れ 0.0139535118515\n",
      "仕事 0.0126560261707\n",
      "軽い 0.0122596138221\n",
      "==============\n",
      "トピック:  9\n",
      "==============\n",
      "ポイント 0.140901185058\n",
      "利用 0.0678741742649\n",
      "消化 0.048668776668\n",
      "消費 0.024659439587\n",
      "期間限定 0.0199745128096\n",
      "試し 0.0130758169698\n",
      "有効 0.0129259555389\n",
      "supli 0.0119702349159\n",
      "期限 0.0114275843292\n",
      "送料 0.0112761376528\n",
      "==============\n",
      "トピック:  10\n",
      "==============\n",
      "コラーゲン 0.106465993632\n",
      "ヒアルロン酸 0.0784988490236\n",
      "分子 0.0219160251635\n",
      "choice? 0.0168376380155\n",
      "関節 0.0143006723226\n",
      "W 0.0114584606006\n",
      "試し 0.0102791447283\n",
      "数量 0.00844769916742\n",
      "supli 0.00680063337373\n",
      "ダブル 0.00643266357777\n",
      "==============\n"
     ]
    }
   ],
   "source": [
    "# 文の分類\n",
    "num_cluster = 11\n",
    "\n",
    "list_cluster = [[] for i in range(num_cluster)]\n",
    "for sen, sep, sepall in zip(list_sentence_rev, list_sep_rev, list_sepall_rev):\n",
    "    label = np.argmax(prtm.infer(sep))\n",
    "    dict_sen_sepall = {'sentence': sen, 'word_all': sepall}\n",
    "    list_cluster[label].append(dict_sen_sepall)\n",
    "\n",
    "for i in range(num_cluster) :\n",
    "    Filer.writedump(list_cluster[i],\n",
    "                    './files/rakuten_ichiba/processedfile/classifiedfile/%s/cluster%s.dump'%(review_num, i))\n",
    "    \n",
    "# clusterの情報\n",
    "for i, row in enumerate(list_cluster):\n",
    "    print 'クラスタ', i, ': ', len(row)\n",
    "\n",
    "for i in range(num_cluster):\n",
    "    prtm.show_topic(n=i)"
   ]
  },
  {
   "cell_type": "code",
   "execution_count": null,
   "metadata": {
    "collapsed": true
   },
   "outputs": [],
   "source": []
  }
 ],
 "metadata": {
  "kernelspec": {
   "display_name": "Python 2",
   "language": "python",
   "name": "python2"
  },
  "language_info": {
   "codemirror_mode": {
    "name": "ipython",
    "version": 2
   },
   "file_extension": ".py",
   "mimetype": "text/x-python",
   "name": "python",
   "nbconvert_exporter": "python",
   "pygments_lexer": "ipython2",
   "version": "2.7.10"
  }
 },
 "nbformat": 4,
 "nbformat_minor": 0
}
