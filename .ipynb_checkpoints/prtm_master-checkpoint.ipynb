{
 "cells": [
  {
   "cell_type": "code",
   "execution_count": 249,
   "metadata": {
    "collapsed": false
   },
   "outputs": [],
   "source": [
    "# coding: utf-8\n",
    "\"\"\"\n",
    "サンプルの各文をPRTMで分類\n",
    "\"\"\"\n",
    "from library.prtm import PRTM\n",
    "from filer2.filer2 import Filer\n",
    "import glob\n",
    "import numpy as np\n",
    "import collections\n",
    "import itertools\n",
    "from scipy.sparse import lil_matrix\n",
    "from igraph import *\n",
    "import copy"
   ]
  },
  {
   "cell_type": "code",
   "execution_count": 30,
   "metadata": {
    "collapsed": false
   },
   "outputs": [
    {
     "data": {
      "text/plain": [
       "['./files/rakuten/preprocessedfile/type11/bigram/bigram-51637.tsv',\n",
       " './files/rakuten/preprocessedfile/type11/bigram/bigram-19191.tsv',\n",
       " './files/rakuten/preprocessedfile/type11/bigram/bigram-76887.tsv',\n",
       " './files/rakuten/preprocessedfile/type11/bigram/bigram-53171.tsv',\n",
       " './files/rakuten/preprocessedfile/type11/bigram/bigram-1238.tsv']"
      ]
     },
     "execution_count": 30,
     "metadata": {},
     "output_type": "execute_result"
    }
   ],
   "source": [
    "# ファイルの読み込み\n",
    "list_filepath = glob.glob('./files/rakuten/preprocessedfile/type11/bigram/*')\n",
    "list_edge = [Filer.readtsv(path) for path in list_filepath]\n",
    "list_edge = [edge for row in list_edge for edge in row]\n",
    "#list_filepath = glob.glob('./files/preprocessedfile/type11/')\n",
    "#list_sepwords = [Filer.readdump(path) for path in list_filepath]\n",
    "list_filepath"
   ]
  },
  {
   "cell_type": "code",
   "execution_count": 373,
   "metadata": {
    "collapsed": false
   },
   "outputs": [],
   "source": [
    "list_file = Filer.readdump('./files/rakuten/for_questionnaire/1238/txt_sep_1238.dump')"
   ]
  },
  {
   "cell_type": "code",
   "execution_count": 374,
   "metadata": {
    "collapsed": false
   },
   "outputs": [
    {
     "name": "stdout",
     "output_type": "stream",
     "text": [
      "部屋 1248\n",
      "利用 966\n",
      "ホテル 847\n",
      "宿泊 509\n",
      "良い 447\n",
      "子供 427\n",
      "便利 372\n",
      "満足 336\n",
      "広い 317\n",
      "ディズニー 290\n"
     ]
    }
   ],
   "source": [
    "list_all_word = [row['sep_nj'] for row in list_file]\n",
    "list_all_word = [word for row in list_all_word for word in row]\n",
    "list_word_freq = collections.Counter(list_all_word)\n",
    "for word, freq in sorted(list_word_freq.items(), key=lambda x:x[1], reverse=True)[0:10]:\n",
    "    print word, freq\n",
    "list_reject = [key for key, value in list_word_freq.items() if value <= 2]"
   ]
  },
  {
   "cell_type": "code",
   "execution_count": 375,
   "metadata": {
    "collapsed": true
   },
   "outputs": [],
   "source": [
    "list_reject.extend(['部屋', '利用', 'ホテル', '宿泊', 'ない'])"
   ]
  },
  {
   "cell_type": "code",
   "execution_count": 376,
   "metadata": {
    "collapsed": false
   },
   "outputs": [],
   "source": [
    "list_edge = []\n",
    "for i in range(len(list_file)):\n",
    "    list_tmp = [word for word in list_file[i]['sep_nj'] if word not in list_reject]\n",
    "    if len(list_tmp) >= 2:\n",
    "        edge_tmp = list(itertools.combinations(list_tmp,2))\n",
    "    list_edge.extend(edge_tmp)\n",
    "list_edge = [list(row) for row in list_edge]"
   ]
  },
  {
   "cell_type": "code",
   "execution_count": 377,
   "metadata": {
    "collapsed": false
   },
   "outputs": [
    {
     "name": "stdout",
     "output_type": "stream",
     "text": [
      "クラスタ数:  9\n"
     ]
    }
   ],
   "source": [
    "# 学習、bigramをつかって、directed_trueで学習\n",
    "prtm = PRTM(inputpath = list_edge, directed_flag=False)\n",
    "prtm.fit(n=0, flag_louvain=True)"
   ]
  },
  {
   "cell_type": "code",
   "execution_count": 378,
   "metadata": {
    "collapsed": false
   },
   "outputs": [
    {
     "name": "stdout",
     "output_type": "stream",
     "text": [
      "トピック:  0\n",
      "==============\n",
      "気 0.0787668166712\n",
      "エレベーター 0.0408700416512\n",
      "階 0.0277516808107\n",
      "客 0.026398562105\n",
      "廊下 0.0227503076135\n",
      "上 0.0210359067118\n",
      "音 0.0141324034002\n",
      "声 0.013059470409\n",
      "夜中 0.0117098154837\n",
      "水 0.0113292465156\n",
      "==============\n",
      "トピック:  1\n",
      "==============\n",
      "駐車場 0.0565630058256\n",
      "料金 0.0491777128778\n",
      "案内 0.0442653386238\n",
      "チェックアウト 0.0385877824231\n",
      "人 0.0333937687383\n",
      "高い 0.0224655072972\n",
      "泊 0.0211064787871\n",
      "車 0.0170945432394\n",
      "連 0.0167487000026\n",
      "場所 0.0151025452398\n",
      "==============\n",
      "トピック:  2\n",
      "==============\n",
      "我が家 0.0897298938531\n",
      "VERY 0.0306243365962\n",
      "and 0.0181140657647\n",
      "IS 0.0170593343732\n",
      "STAY 0.0143325181914\n",
      "WAS 0.0126082052474\n",
      "are 0.0110814074316\n",
      "of 0.0109008574428\n",
      "to 0.010056451563\n",
      "our 0.010056451563\n",
      "==============\n",
      "トピック:  3\n",
      "==============\n",
      "便利 0.0351253133283\n",
      "大変 0.0317099034504\n",
      "バス 0.0290276933629\n",
      "ディズニー 0.0266303262537\n",
      "コンビニ 0.0216648081592\n",
      "駅 0.0205221232752\n",
      "無料 0.0196238298706\n",
      "多い 0.0193285284965\n",
      "ディズニーランド 0.0171226254016\n",
      "シャトルバス 0.0160041734586\n",
      "==============\n",
      "トピック:  4\n",
      "==============\n",
      "良い 0.0722444230204\n",
      "よい 0.0447693321634\n",
      "対応 0.0343221773535\n",
      "フロント 0.034276239487\n",
      "スタッフ 0.0254963980867\n",
      "サービス 0.0238891501114\n",
      "いい 0.0185561739927\n",
      "感じ 0.0183488861312\n",
      "綺麗 0.0125094264837\n",
      "すごい 0.0113890652264\n",
      "==============\n",
      "トピック:  5\n",
      "==============\n",
      "子供 0.0421450647473\n",
      "広い 0.0238160022459\n",
      "残念 0.0177243786125\n",
      "予約 0.0169322709898\n",
      "ベッド 0.0166168342557\n",
      "風呂 0.012791247531\n",
      "家族 0.0113333058381\n",
      "良い 0.0109837340819\n",
      "快適 0.0106734219958\n",
      "なかった 0.00958622001916\n",
      "==============\n",
      "トピック:  6\n",
      "==============\n",
      "マッサージ 0.0640705149146\n",
      "足 0.0389687872173\n",
      "うれしい 0.038748338538\n",
      "Foot! 0.0365602153202\n",
      "フットマッサージャー 0.0331734978897\n",
      "加湿器 0.0244994629943\n",
      "急 0.0226185548709\n",
      "F 0.0223647860089\n",
      "疲れ 0.0173296396467\n",
      "隣接 0.0163203650716\n",
      "==============\n",
      "トピック:  7\n",
      "==============\n",
      "チェックイン 0.0875842534868\n",
      "荷物 0.045804422989\n",
      "予定 0.0204336806471\n",
      "ママ 0.0146093334829\n",
      "あと 0.0140060070498\n",
      "ロビー 0.0132423554229\n",
      "早い 0.0129348033291\n",
      "サロン 0.0124863932617\n",
      "子連れ 0.0116783274201\n",
      "到着 0.0114207108888\n",
      "==============\n",
      "トピック:  8\n",
      "==============\n",
      "満足 0.0439672035076\n",
      "朝食 0.0425465919595\n",
      "プラン 0.0225600258663\n",
      "食事 0.0220506469285\n",
      "安い 0.0203575863054\n",
      "値段 0.0187527423452\n",
      "バイキング 0.0175030439949\n",
      "美味しい 0.0133113361797\n",
      "レストラン 0.0125472247106\n",
      "夜食 0.010742311869\n",
      "==============\n"
     ]
    }
   ],
   "source": [
    "for n in range(9):\n",
    "    prtm.show_topic(n=n)"
   ]
  },
  {
   "cell_type": "code",
   "execution_count": 411,
   "metadata": {
    "collapsed": false
   },
   "outputs": [],
   "source": [
    "list_dump = Filer.readdump('./files/rakuten/for_questionnaire/1238/txt_sep_1238.dump')"
   ]
  },
  {
   "cell_type": "code",
   "execution_count": 410,
   "metadata": {
    "collapsed": false
   },
   "outputs": [],
   "source": [
    "# 各ホテルごとにsentenceを分類\n",
    "dict_tmp = {i:[] for i in range(8)}\n",
    "list_all = []\n",
    "for list_sen in list_dump:\n",
    "    try:\n",
    "        list_label_score = prtm.infer(list_sen['sep_nj'])\n",
    "        label = np.argmax(list_label_score)\n",
    "        if list_label_score[label] >= 0.8:\n",
    "            datetime = list_sen['date_time'].strftime('%Y-%m-%d %H:%M:%S')\n",
    "            list_tmp = [label, list_sen['sentence'], ' '.join(list_sen['sep_all']),\n",
    "                        ' '.join(list_sen['sep_nj']), list_sen['user_name'], datetime]\n",
    "            dict_tmp[label].append(list_sen)\n",
    "            list_all.append(list_tmp)\n",
    "    except KeyError:\n",
    "        pass\n",
    "    \n",
    "Filer.writetsv(list_all, './files/rakuten/for_questionnaire/1238/txt_sep_topic_1238_0.8.tsv')"
   ]
  },
  {
   "cell_type": "code",
   "execution_count": 412,
   "metadata": {
    "collapsed": false
   },
   "outputs": [
    {
     "data": {
      "text/plain": [
       "{'date_time': datetime.datetime(2011, 7, 21, 16, 15, 11),\n",
       " 'sentence': '\\xe3\\x83\\x81\\xe3\\x82\\xa7\\xe3\\x83\\x83\\xe3\\x82\\xaf\\xe3\\x82\\xa4\\xe3\\x83\\xb3\\xe5\\x89\\x8d\\xe3\\x81\\x8b\\xe3\\x82\\x89\\xe8\\x8d\\xb7\\xe7\\x89\\xa9\\xe3\\x82\\x82\\xe9\\xa0\\x90\\xe3\\x81\\x8b\\xe3\\x81\\xa3\\xe3\\x81\\xa6\\xe3\\x82\\x82\\xe3\\x82\\x89\\xe3\\x81\\x84\\xe3\\x80\\x81\\xe6\\x82\\xa0\\xe3\\x80\\x85\\xe3\\x81\\xa8TDR\\xe3\\x82\\x92\\xe6\\xba\\x80\\xe5\\x96\\xab\\xe3\\x81\\xa7\\xe3\\x81\\x8d\\xe3\\x81\\xbe\\xe3\\x81\\x97\\xe3\\x81\\x9f',\n",
       " 'sep_all': ['\\xe3\\x83\\x81\\xe3\\x82\\xa7\\xe3\\x83\\x83\\xe3\\x82\\xaf\\xe3\\x82\\xa4\\xe3\\x83\\xb3',\n",
       "  '\\xe5\\x89\\x8d',\n",
       "  '\\xe3\\x81\\x8b\\xe3\\x82\\x89',\n",
       "  '\\xe8\\x8d\\xb7\\xe7\\x89\\xa9',\n",
       "  '\\xe3\\x82\\x82',\n",
       "  '\\xe9\\xa0\\x90\\xe3\\x81\\x8b\\xe3\\x81\\xa3',\n",
       "  '\\xe3\\x81\\xa6',\n",
       "  '\\xe3\\x82\\x82\\xe3\\x82\\x89\\xe3\\x81\\x84',\n",
       "  '\\xe6\\x82\\xa0\\xe3\\x80\\x85',\n",
       "  '\\xe3\\x81\\xa8',\n",
       "  'TDR',\n",
       "  '\\xe3\\x82\\x92',\n",
       "  '\\xe6\\xba\\x80\\xe5\\x96\\xab',\n",
       "  '\\xe3\\x81\\xa7\\xe3\\x81\\x8d',\n",
       "  '\\xe3\\x81\\xbe\\xe3\\x81\\x97',\n",
       "  '\\xe3\\x81\\x9f'],\n",
       " 'sep_nj': ['\\xe3\\x83\\x81\\xe3\\x82\\xa7\\xe3\\x83\\x83\\xe3\\x82\\xaf\\xe3\\x82\\xa4\\xe3\\x83\\xb3',\n",
       "  '\\xe8\\x8d\\xb7\\xe7\\x89\\xa9',\n",
       "  'TDR',\n",
       "  '\\xe6\\xba\\x80\\xe5\\x96\\xab'],\n",
       " 'user_name': 'user549156'}"
      ]
     },
     "execution_count": 412,
     "metadata": {},
     "output_type": "execute_result"
    }
   ],
   "source": [
    "list_all = []\n",
    "for list_sen in list_dump:\n",
    "    list_tmp = [list_sen['sentence'], ' '.join(list_sen['sep_all']),\n",
    "                ' '.join(list_sen['sep_nj']), list_sen['user_name'], datetime]\n",
    "    list_all.append(list_tmp)\n",
    "    \n",
    "Filer.writetsv(list_all, './files/rakuten/for_questionnaire/1238/txt_sep_1238.tsv')"
   ]
  },
  {
   "cell_type": "code",
   "execution_count": 390,
   "metadata": {
    "collapsed": false,
    "scrolled": true
   },
   "outputs": [
    {
     "name": "stdout",
     "output_type": "stream",
     "text": [
      "===============\n",
      "0\n",
      "49\n",
      "0   一つだけ・・ 夜10時過ぎでもお子さまが廊下やお部屋で騒がしくしてるのが気になりました\n",
      "1 子供が味噌汁をこぼした際も、汚れも気にせず冷えピタとアイスノンを貸していただきありがとうございました\n",
      "2 水を流したあとなかなかたまらず水の音がずっとしていた\n",
      "3  全体的に部屋が汚く感じました（絨毯の汚れなど） レビューの中にフットマッサージャーがあったと皆さん言われていましたが、わたしたちの部屋にはありませんでした\n",
      "4  ただ、子連れ専用階なため、夜中でも子供の足音などが聞こえたので 夜遅くそれはきついなぁと思いました\n",
      "5  2.トイレにウオシュレットがあるのは嬉しいのですが、音がかなり大きくうるさい\n",
      "6 楽天で予約している場合には個人情報があらかじめ印刷されている場合が多いがすべてその場で住所　電話手書きなんで時間がかかる　③朝のエレベーター　が乗れない　規模の割りにエレベーターの数が少ない④個人のＷＩＦＩが　部屋では使用できないように　電波が流れていて　個人的なＷＩＦＩ機器が使用できないのには　びっくり　\n",
      "7 いつもホテルで泊まると外の音で眠れないことが多いのですが、今回は騒音も気にならずグッスリ眠れました\n",
      "8  築年数が経っているので仕方ないとは思ったのですが、バスルームの浴槽の水垢汚れが少し気になったこと、備え付けのドライヤーが古いものでパワー不足だったこと、マナーの問題もあると思いますが、上階からの夜間の騒音が気になったことが残念な点でした\n",
      "9 車の人は気がつきませんが、夜中にのどが渇いたときや小腹がすいたときの利用価値大です\n",
      "10 一人なのに、子供たちが喜びそうな階で廊下の飾りやお部屋もとても可愛くて嬉しくなりました\n",
      "11  お子さん連れの階にふさわしく、電子レンジや氷のサービスもその階にありました\n",
      "12  他の階だと、同じ階にはそういうサービスがない階もあるので、わざわざエレベーターで氷を貰いに上がり下がりをしなければならないので、羨ましいですね\n",
      "13  泊まった日にちょうど高校生の修学旅行の様な団体が来ていて、うるさくてとても迷惑でした\n",
      "14  チェックインの時に一言、今日は高校生の団体が来てるから少々騒がしくてご迷惑をかけてしまうかもしれません、と伝えておいてもらえてたら良かったなぁ、と思います\n",
      "15  ただ、修学旅行の団体が宿泊していたためか深夜近くまで大騒ぎが続き、フロントに注意してもらおうと電話を入れた際に３０回もコールを待たされた際には、正直残念な気持ちになりました\n",
      "16 先ず洗面所ですが汚い、多分ホテルの方も見てないと思いますが洗面所の作りが悪く屋根みたいにかぶっているので掃除ができておらず、いつから拭いてないのかなと思う程汚れがこびりついてます\n",
      "17  ひとつ・・・夜中（深夜1時頃）に隣の部屋がうるさかったので気になりましたが それ以外は満足です\n",
      "18  ただ、とても残念だったのは・・・薬を飲もうと思ったときに、手持ちに水が無かったので「お水をいただけませんか？」とフロントの方に訊いたら「？」という顔をされました\n",
      "19 仕方ないので「トイレの手洗いの水で薬は飲めますか？」と質問をかえたら「お水は最寄のお店で買ってください」と冷たくあしらわれたのが大変辛かったです\n",
      "===============\n",
      "1\n",
      "130\n",
      "0  駐車場も、歩いて５分の無料提携先を案内していただき、 その分をホテル内の夕食に回すことができましたし（笑）ちょうどいい散策になりました\n",
      "1  とても綺麗なホテルで、ディズニーランドまで無料のバスもあり、小さい子供がいるのでとても助かりました!!駐車場も近くのパーキングに２日停めさせていただきましたが無料で、宿泊の料金もも格安だったため、こんな料金でいいの？と思うほどでした!! スタッフの方も皆温かく、子供も喜んでいました!! ホテル内にコンビニもありとても助かりました!! 今度は連泊でお願いしたいです♪\n",
      "2 通常では２名で宿泊できないお部屋でしたので連泊したかったです\n",
      "3 以前は近くのホテルを利用しましたが二泊連泊でしたので駐車料金の安いこちらを今回利用しました\n",
      "4   駐車場も、ホテル内のではなく、提携先のところだと、チェックアウト後も無料になるので、TDLでおもいっきり遊ぶことができました\n",
      "5  駐車場もたいてい駐車料金をとられますが、近くに無料のがあり助かりました\n",
      "6  いつも車での旅行ですので駐車場の裏技的な無料が嬉しかったです\n",
      "7 駐車場も提携の所を使わせていただき、無料◎\n",
      "8 提携駐車場の場所を教えてもらいに直ホテルについて、荷物とこども達をそのままホテルで待機させてもらい、主人と駐車場へ行きました\n",
      "9  会員ですので、割引券があって助かりましたが、残念ながら次回からは利用しないと思います\n",
      "10  駐車場代がかからないというのも魅力でした\n",
      "11  車で行き、近くの無料駐車場を利用\n",
      "12  ちょっと離れてます（それほどでもないですが）が、提携の無料駐車場があるのもいいですね\n",
      "13 ホテルの駐車場の他、無料の提携駐車場が近くにあり よかったです\n",
      "14 連泊させてもらいました\n",
      "15  到着時刻が遅かったせいなのか、ホテル駐車場は満車でしたが、提携駐車場へ止めるように案内されました\n",
      "16 この提携駐車場は無料にて利用することができ、得した気分になりました\n",
      "17 ホテルからもそれほど遠くないので次回からは、満車でなくても提携駐車場を希望します\n",
      "18  車で行きましたが、駐車場の予約なしでも利用させていただけました\n",
      "19 ごはんを安価に済ませたい場合は、駅反対側のダイエーやアトレを利用するなどが可能です\n",
      "===============\n",
      "2\n",
      "5\n",
      "0 エコキュートの我が家と比べても2/3程度の水圧\n",
      "1 Very convenient location. The Baby sweet was amazing for our baby.  We really enjoyed staying here and would stay here again.  Everything was very convenient for us, including the shuttle bus to Disney.  The staff was very friendly and helpful.   Dan and Amy Capps  我が家のゲスト、彼らはアメリカから来日していますが、１１か月の坊やを連れて所用で東京に行った帰りディズニーシーに行きました\n",
      "2 TDRを歩き回って疲れた足を揉み解してくれ、あまりの気持ちよさに我が家での購入も考えたほどです\n",
      "3 Our impression to the Oriental Hotel is very impressive. Their location is very good and their sevice is very considerate. All of our family are very satisfied with it.  \n",
      "4 Our impression to the Oriental Hotel is very impressive. Their location is very good and their sevice is very considerate. All of our family are very satisfied with it.  \n",
      "===============\n",
      "3\n",
      "871\n",
      "0  妻が独身時代によく利用していたことと、帰りのシャトルバスが 混むのが苦手だったので駅に隣接しているという点でこちらに決 めました\n",
      "1 駐車場まで少し歩きましたが無料でしたし、パークとホテルを行き来するシャトルバスも大変助かりました\n",
      "2  ありがとうございました☆ 近くに救急病院もあるので、その点でも安心です♪  朝食の品数が少し少なかったですが、レストランを変えれば、もうちょっと量が多かったのかな？  でも、ディズニーリゾートにも近いし、コストパフォーマンスは◎だと思うので、またぜひ利用したいと思います☆\n",
      "3 ディズニーランドのバス乗り場から無料のシャトルバスが出ているので、荷物が多くても全然大丈夫でした\n",
      "4 またバスの運転手さんのおしゃべりもおもしろくてよかったです\n",
      "5 ホテルにローソンが直結しているのも便利で、お土産の買い忘れもありましたがＳＨＯＰがあったのでたいへん助かりました\n",
      "6  ホテルで早朝にチケットが買えるし、シャトルバスも出ているので便利です\n",
      "7 子供を連れてのディズニーが目的で宿泊しました\n",
      "8 立地は新浦安駅の改札を出て１００Ｍも歩くことなくホテルのチェックインができるところです\n",
      "9 ディズニーの往復には専用バスありますし、困ることなく過ごせました\n",
      "10 羽田空港やボンボヤージュから荷物も運んでもらえるし、TDRへのシャトルバスの便数もたくさんあり、駅と直結してるのでTDR他へのお出かけにも便利ですよ\n",
      "11 ディズニーリゾート行きのバスも頻繁に出ていて交通の便での不便さは感じませんでした\n",
      "12 今回，ディズニーリゾートに行くため，初めて利用させていただきました\n",
      "13  ランド周辺のホテルはよく使いますが、ここが一番コストパホーマンスが良いと思います\n",
      "14  あの立地で、この条件（９８００円）  タイミングさえ合えば、最高の条件で泊まれます\n",
      "15   当日、結婚式があった友人のために北海道から行きましたが、大変気持ち良くとまることができました\n",
      "16 駅からすぐ、シーまでのバスも無料で運行していて、とても便利でした\n",
      "17 7月1日〜3日でディズニーランド、シーの観光目的で宿泊しました\n",
      "18  【良かった点】 ・直行バスの本数も多く、快適に移動できます\n",
      "19  　利用時は30℃前後の暑い日でしたが、バスが涼しく移動も快適でした\n",
      "===============\n",
      "4\n",
      "350\n",
      "0 ホテル内は雰囲気の良いとても素敵なホテルでした\n",
      "1 　フロントで「会社から通達でているから」と断れたが、お客からしたらフロントパーサーも会社の人なんですけと？\n",
      "2  　まずフロントで対応してくださった方がとても親切にしてくだ さり、部屋もリーズナブルなプランにしたにもかかわらず、とて もよい部屋にしてくださり、暑さで疲れていた心がリフレッシュ できました\n",
      "3 お部屋もとても綺麗で本当に良いホテルでした\n",
      "4  欲を言えば、部屋にあったサービスのお茶類に、インスタントでもいいのでコーヒーがあったら尚◎でした\n",
      "5 全体的に対応が冷たく、特に一部のスタッフの方の対応に苛立ちを覚えました\n",
      "6  スタッフの方々はアロハシャツみたいなものを着用していましたが、それがまた親しみやすくて質問も気軽に出来ました\n",
      "7 そして、従業員の方の対応もプロフェッショナルで、既にディズニーランドにいるかのような錯覚を感じたぐらいです\n",
      "8 （ベルガールの方のさり気ない気遣い＆笑顔＆ゲストを迎え入れる姿勢に感動しました\n",
      "9 来年も皆さんの笑顔に逢えますように\n",
      "10 フロントの方の対応もよく、いい思い出になりました\n",
      "11  平日だったせいかフロントのスタッフが少なく、チェックインに時間がかかりましたが丁寧にご案内していただけたので満足です\n",
      "12   ・ホテル従業員の方の対応も丁寧でした\n",
      "13 部屋も広くてすごくよかったです\n",
      "14 ホテルのロビーやレストランの雰囲気は素晴らしかったです\n",
      "15 スタッフの方々もとても親切でした\n",
      "16  残念だったのはスタッフの接客\n",
      "17 いい人もいればう〜ん・・・な人も(苦笑) 特に11Fのベビーサロンのスタッフの方はめちゃめちゃ感じが悪く　夫と呆れました\n",
      "18  車でホテルにつき若いスタッフの皆さんのサービスにとても気持ちよく滞在することができました\n",
      "19  朝食は数がおもったよりすくなかったですが味はよくスタッフの（ハウスキーパーさん達の挨拶も素敵でした）対応がすばらしかったです\n",
      "===============\n",
      "5\n",
      "943\n",
      "0 大人4名子供3名で、2部屋利用させて頂きました\n",
      "1  ファミリータイプの部屋で、とても広く、洗面所も2つあり(結局1つしか使いませんでしたが(^_^;))みんな大満足でした☆ 子供が夜に熱っぽくて、フロントに電話をしたら、すぐに体温計とアイスノンを持ってきてくれました\n",
      "2  広さはそれほどでもなかったですが、値段を思えば十分な雰囲気で、夜は静かでゆっくり休むことができました\n",
      "3  チェックインが早くなり、お部屋の変更を余儀なくされましたが逆に広くてベッドも二人で４台あり、広々と眠ることが出来たので大満足です\n",
      "4 今年で2回目の利用となりますが、今回はお部屋が空いているということで、キディスイートにアップグレードしていただきました\n",
      "5 ）今年は、特別な思いで旅行に来たのですが、私たち家族にとっての貴重な思い出ができました\n",
      "6 部屋はベビーズスイート（マロン）に宿泊しましたが、間取り・形状、家具配置・サイズ（幅・高さ）が配慮されていて、２歳になる子供ですが走り回ったりとのびのびと過ごしていました\n",
      "7 ベッドはキングサイズでしたが、想像以上に広いです\n",
      "8 大人２人子供１人だと十分すぎる広さです\n",
      "9 大人2人子供2人で適度かもしれません\n",
      "10 アメニティや貸出備品も子供や女性中心に考えられていて、妻はフェイシャルなんとかを借りて、顔にイオン霧をかぶっていました\n",
      "11 トイレは子供用便座を借りられるし、お風呂には子供用石鹸もあります\n",
      "12 駅から近くすごく良かったです ３人泊まりなのにベッドが５ベッドでビックリ\n",
      "13  部屋は初め、スタンダードだったんですが、口コミに部屋をグレードアップしたと沢山あったので、家も乳児が居るし…ベビースィートに泊まれればと期待していたのですが…\n",
      "14  土曜泊だし、超格安な金額だから、仕方ないのかな〜と思ったのですが、ダメ元で聞いたら、キディースィートなら空きがあると言う事で、差額を払い変更しました\n",
      "15   部屋はスッゴク可愛くて、子供達も大喜び\n",
      "16  差額も大した金額では無いし、変更して正解でした♪ただ、口コミにもありましたが、お風呂はとても使いづらかったです\n",
      "17 ”お部屋おまかせ”プランだったのですが、とても広いお部屋を用意してくれてました\n",
      "18 小さい子供連れには強い味方です\n",
      "19 グランデ6が思ったより広くて使いやすかったです\n",
      "===============\n",
      "6\n",
      "100\n",
      "0  お部屋も広く、マッサージ機もさりげなく置いてあり、1日中歩き疲れた足も癒されました♪朝食も、ディズニーの音楽に浸りながらおいしくいただき、子ども達も大満足でした\n",
      "1   脚のマッサージ器とても助かりました、歩き疲れて脚がパンパンだったので マッサージ器で楽になりました\n",
      "2  足用のマッサージ器や空気清浄機などとても親切\n",
      "3  ディズニーで歩き疲れて、部屋に戻るとフットマッサージ機があり、それでかなり 足の疲れもとれました\n",
      "4  きれいなのをはじめ、文句のつけようがありませんでした\n",
      "5  　フットマッサージが部屋にあり疲れを和らげてくれた\n",
      "6  部屋は広めでキレイだし、足のマッサージ器と空気清浄機が置いてありました\n",
      "7 フットマッサージ機もよかったです\n",
      "8  館内にローソンがあるのも使いやすいし、部屋にフットマッサージ機があるのもうれしい♪ ディズニーランドに行く時は、コスパ1番のホテルだと思います\n",
      "9 ディズニーホテル・オフィシャル・パートナーズ、いろいろ 宿泊してきましたが、その中でもオリエンタルはとても満足 しています\n",
      "10  フットマッサージ器がとても助かりました\n",
      "11 ディズニーホテル、オフィシャル、パートナー、ほぼ宿泊しましたが、フットマッサージャーや加湿器完備、2Fにローソン、食事や急な買い物には、ホテル内や浦安駅に隣接する商業施設で選択肢も豊富に全て賄えます\n",
      "12  備え付けのフットマッサージゃーは非常に嬉しいものですが、経年劣化でへたっていたせいか、あたりが出ていて痛かったのも残念でした\n",
      "13 疲れた足に部屋のフットマッサージ機は気持ち良かったです\n",
      "14  フットマッサージも利用させてもらい、快適に過ごさせてもらいました\n",
      "15 足のマッサージ器や空気清浄器も置いてあり、重宝しました\n",
      "16 フロントの方の対応もとてもよく、部屋もキレイで足のマッサージ機がありとてもうれしかったです\n",
      "17 お部屋の設備も、マッサージ機や加湿器など充実してました\n",
      "18  アメニティの歯ブラシが、使い捨てとは思えない使いやすさで、そのまま持って帰って使ってます（笑） 製氷機の場所を探すのに部屋にある本には２Fと書いてあるのに、エレベーターに２Fがなくてあせりました\n",
      "19 フットマッサージャーが部屋にあったので、疲れた足をそれで癒すことができました\n",
      "===============\n",
      "7\n",
      "148\n",
      "0 チェックイン前から荷物も預かってもらい、悠々とTDRを満喫できました\n",
      "1 金曜日の夜に宿泊したのですが、昼間チェックイン前に預けておいた荷物が部屋に届けてくれていました\n",
      "2 チェックイン前に到着しましたが、先に声を掛けて頂き、荷物も預かって貰えて助かりました\n",
      "3  サロンに入っても挨拶ひとつなく　ご自分のお仕事に専念されていました\n",
      "4  あとサロンでチェックアウトができるというので立ち寄ったのですが 荷物の預かりは1Fか2Fへ行くよう言われ　結局二度手間だと思いました\n",
      "5   ディズニー閉園後ホテルに戻ると、２階フロントはチェックインの為のお客さんで混雑していましたが、朝到着した際に預けた荷物が１１階に送られていたので、直接１１階ママサロンまで行き、空いてる中、ドリンクを飲みながらゆったりとチェックイン手続きが出来、子連れで且つ疲れている時だったので、有難かったです\n",
      "6 実家に寄る予定があり、あまり早くチェックインできそうになかったので お手軽なこちらのプランを利用させていただきました\n",
      "7 21時チェックイン予定でしたが19時に変更してもらいました\n",
      "8    チェックイン時に朝食付きにもかかわらず朝食の案内がなく、フロントに電話したら部屋までチケットを持ってきてくださいました\n",
      "9  ただ夜10時頃になるとロビーが混雑で凄いです!! 私達は子供も居るので早目(7時位)にチェックインしたのですんなりお部屋に入れましたが大変だと思います\n",
      "10  セキュリティの関係でカードにルーム番号が書かれていないのはわかりますが 子供の宿泊が多いこのホテルでは何らかの対策をして欲しいと思いました\n",
      "11  子供のパジャマを依頼する電話をかけたとき、誕生日での宿泊のことを 伝えていたら チェックインのとき 子供の名前を呼び おめでとうございますと お言葉を頂き ありがとうございます\n",
      "12  ママサロンはジュースも無料で、おもちゃも本も沢山あってすごいなーと思いました\n",
      "13   チェックイン時に清算で、夜仕事のあと子連れで行ったのですが、ちょうどパーク帰りのバス到着と重なってしまい、早くチェックインして部屋で休みたいのにフロントに長蛇の列でチェックインにものすごく時間がかかりました\n",
      "14  ただ、利用者が多いから仕方が無いと思いますが、チェックインに時間がかかり、小さな 子供達が待ちくたびれてしまいました\n",
      "15 また、荷物をチェックイン前とチェックアウト後に預ってもらえるので身軽のままパークへ足を運ぶことができました\n",
      "16 １５：００チェックイン予定でしたが、２３：００頃チェックにでしたが、フロントスタッフのかたは気持ち良く迎えて頂き「ありがとうございました\n",
      "17  チェックインの際に勧められた「キディ スイート」という部屋を利用しました\n",
      "18  　（5月4日の朝7時に預けた荷物が、3日後の5月7日に届くとは\n",
      "19 （記入後、自分でフロントに持っていくようでしたが…）   \n",
      "2596\n"
     ]
    }
   ],
   "source": [
    "#dict_tmp = Filer.readdump('./files/rakuten/txt_evaluation/txt_sep_topic_1238_0.8.dump')\n",
    "\n",
    "counter = 0\n",
    "for i in range(8):\n",
    "    print \"===============\"\n",
    "    print i\n",
    "    print len(dict_tmp[i])\n",
    "    for j, row in enumerate(dict_tmp[i][0:20]):\n",
    "        print j, row['sentence'], row['']\n",
    "    counter += len(dict_tmp[i])\n",
    "print counter"
   ]
  },
  {
   "cell_type": "code",
   "execution_count": 69,
   "metadata": {
    "collapsed": true
   },
   "outputs": [],
   "source": []
  },
  {
   "cell_type": "code",
   "execution_count": 7,
   "metadata": {
    "collapsed": false
   },
   "outputs": [
    {
     "name": "stderr",
     "output_type": "stream",
     "text": [
      "library/prtm.py:251: FutureWarning: comparison to `None` will result in an elementwise object comparison in the future.\n",
      "  if self._list_topic_prob == None:\n"
     ]
    }
   ],
   "source": [
    "# 各ホテルごとにsentenceを分類\n",
    "list_master = []\n",
    "for list_sen_words in list_sepwords:\n",
    "    dict_tmp = {i:[] for i in range(12)}\n",
    "    for row in list_sen_words:\n",
    "        label = np.argmax(prtm.infer(row[1]))\n",
    "        dict_tmp[label].append(row[0])\n",
    "    list_master.append(dict_tmp)"
   ]
  },
  {
   "cell_type": "markdown",
   "metadata": {
    "collapsed": false
   },
   "source": [
    "### 語録表を使って表記ゆれの解消"
   ]
  },
  {
   "cell_type": "code",
   "execution_count": 360,
   "metadata": {
    "collapsed": true
   },
   "outputs": [],
   "source": [
    "list_word_text = Filer.readtsv('./files/dictionary/wnjpn-syn-database.1.0/jwn_synonyms.ver.1.0')"
   ]
  },
  {
   "cell_type": "code",
   "execution_count": 361,
   "metadata": {
    "collapsed": false
   },
   "outputs": [
    {
     "data": {
      "text/plain": [
       "['182472',\n",
       " '\\xe3\\x81\\x82\\xe3\\x81\\x84\\xe3\\x81\\x93',\n",
       " '181386',\n",
       " '\\xe7\\x9b\\xb8\\xe8\\xa8\\x8e\\xe3\\x81\\xa1']"
      ]
     },
     "execution_count": 361,
     "metadata": {},
     "output_type": "execute_result"
    }
   ],
   "source": [
    "list_word_text[0]"
   ]
  },
  {
   "cell_type": "code",
   "execution_count": 362,
   "metadata": {
    "collapsed": false
   },
   "outputs": [],
   "source": [
    "dict_word_words = collections.defaultdict(list)\n",
    "for row in list_word_text:\n",
    "    if row[1] != '足' and row[3] != '足':\n",
    "        dict_word_words[row[1]].append(row[3])\n",
    "        dict_word_words[row[3]].append(row[1])\n",
    "dict_word_words = {key: value for key, value in dict_word_words.items()}"
   ]
  },
  {
   "cell_type": "code",
   "execution_count": 363,
   "metadata": {
    "collapsed": true
   },
   "outputs": [],
   "source": [
    "Filer.writedump(dict_word_words, './files/dictionary/dict_word_words.dump')"
   ]
  },
  {
   "cell_type": "code",
   "execution_count": 119,
   "metadata": {
    "collapsed": false
   },
   "outputs": [],
   "source": [
    "# 単語のn-gramを使って表現をまとめる\n",
    "def maxBy(f, x, y):\n",
    "    if f(x) > f(y):\n",
    "        return x\n",
    "    else:\n",
    "        return y\n",
    "\n",
    "table = { (\"\",\"\") : \"\" }\n",
    "\n",
    "def lcs(xs,ys):\n",
    "    if (xs,ys) in table:\n",
    "        return table[(xs,ys)]\n",
    "\n",
    "    ret = \"\"\n",
    "    if xs == \"\" or ys == \"\":\n",
    "        ret = \"\"\n",
    "    elif xs[-1] == ys[-1]:\n",
    "        ret = lcs(xs[:-1],ys[:-1]) + xs[-1]\n",
    "    else:\n",
    "        ret = maxBy(len,\n",
    "                    lcs(xs[:-1],ys),\n",
    "                    lcs(xs,ys[:-1]))\n",
    "    table[(xs,ys)] = ret\n",
    "    return ret\n",
    "\n",
    "def sim_lcs(word, list_word):\n",
    "    dict_sim = {}\n",
    "    for w in list_word:\n",
    "        dict_sim[w] = float(2*len(lcs(word,w)))/(len(word)+len(w))\n",
    "    return dict_sim"
   ]
  },
  {
   "cell_type": "code",
   "execution_count": 387,
   "metadata": {
    "collapsed": false,
    "scrolled": true
   },
   "outputs": [],
   "source": [
    "### シソーラスとlcsを組み合わせる\n",
    "alpha = 1\n",
    "\n",
    "topic_num = 4\n",
    "\n",
    "dict_word_prob = copy.deepcopy(prtm.list_dict_word_prob[topic_num])\n",
    "\n",
    "dictionary = Filer.readdump('./files/dictionary/dict_word_words.dump')\n",
    "\n",
    "dict_id_word = {i: row[0] for i, row in enumerate(dict_word_prob.items())}\n",
    "sim_matrix = np.zeros((len(dict_id_word), len(dict_id_word)))\n",
    "for i, word in sorted(dict_id_word.items(), key=lambda x:x[0]):\n",
    "    for j in range(i+1, len(dict_id_word)):\n",
    "        word1 = dict_id_word[i]\n",
    "        word2 = dict_id_word[j]\n",
    "        score = float(2*len(lcs(word1.decode('utf-8'), word2.decode('utf-8'))))/(len(word1.decode('utf-8'))+len(word2.decode('utf-8')))\n",
    "        if word1 in dictionary and word2 in dictionary[word1]:\n",
    "            sim_matrix[i,j] = 1\n",
    "        else:\n",
    "            sim_matrix[i,j] = alpha*score\n",
    "            \n",
    "list_row , list_col = np.where(sim_matrix >= 0.83)\n",
    "list_edge = [tuple([dict_id_word[row], dict_id_word[col]]) for row, col in zip(list_row, list_col)]\n",
    "list_node = list(set([num for row in list_edge for num in row]))\n",
    "\n",
    "g = Graph(directed=False)\n",
    "g.add_vertices(list_node)\n",
    "g.add_edges(list_edge)\n",
    "\n",
    "list_cluster = g.clusters().membership\n",
    "dict_class_words = collections.defaultdict(list)\n",
    "for word, cluster in zip(list_node, list_cluster):\n",
    "    dict_class_words[cluster].append(word)\n",
    "\n",
    "list_simwords = [value for key, value in dict_class_words.items()]\n",
    "\n",
    "for row in list_simwords:\n",
    "    prob = 0\n",
    "    for word in row:\n",
    "        prob += dict_word_prob[word]\n",
    "        del dict_word_prob[word]\n",
    "    dict_word_prob['_'.join(row)] = prob"
   ]
  },
  {
   "cell_type": "code",
   "execution_count": 388,
   "metadata": {
    "collapsed": false,
    "scrolled": true
   },
   "outputs": [
    {
     "name": "stdout",
     "output_type": "stream",
     "text": [
      "良い 0.0722444230204\n",
      "よい 0.0447693321634\n",
      "空気_雰囲気_真ん中_気持ち_感覚_気分_印象_意味_センス_気_感じ_心 0.0441705901404\n",
      "対応 0.0343221773535\n",
      "フロント 0.034276239487\n",
      "スタッフ 0.0254963980867\n",
      "サービス_サービス業_割引 0.0244966485285\n",
      "いい 0.0185561739927\n",
      "綺麗 0.0125094264837\n",
      "すごい_すっごい 0.0116325345253\n",
      "悪い 0.0112125809902\n",
      "親切 0.00986214655557\n",
      "丁寧 0.00968634963397\n",
      "お子さん_子供_ベビー_お子様_子ども_子 0.00872510889295\n",
      "チェックイン 0.00808827279086\n",
      "付近_近隣_あたり_周辺_周り_辺り_近辺 0.00742849218477\n",
      "従業員 0.00691764530398\n",
      "素敵 0.00659804701029\n",
      "朝食 0.00596869367879\n",
      "大変 0.00553530143768\n",
      "===============\n",
      "良い 0.0722444230204\n",
      "よい 0.0447693321634\n",
      "対応 0.0343221773535\n",
      "フロント 0.034276239487\n",
      "スタッフ 0.0254963980867\n",
      "サービス 0.0238891501114\n",
      "いい 0.0185561739927\n",
      "感じ 0.0183488861312\n",
      "綺麗 0.0125094264837\n",
      "すごい 0.0113890652264\n",
      "悪い 0.0112125809902\n",
      "親切 0.00986214655557\n",
      "丁寧 0.00968634963397\n",
      "印象 0.00833423503567\n",
      "チェックイン 0.00808827279086\n",
      "気分 0.00786535777156\n",
      "従業員 0.00691764530398\n",
      "子供 0.00681583822406\n",
      "素敵 0.00659804701029\n",
      "朝食 0.00596869367879\n"
     ]
    }
   ],
   "source": [
    "for key, value in sorted(dict_word_prob.items(), key=lambda x:x[1], reverse=True)[0:20]:\n",
    "    if len(key.decode('utf-8')) > 1:\n",
    "        print key, value\n",
    "\n",
    "print \"===============\"\n",
    "for key, value in sorted(prtm.list_dict_word_prob[topic_num].items(), key=lambda x:x[1], reverse=True)[0:20]:\n",
    "    print key, value"
   ]
  },
  {
   "cell_type": "code",
   "execution_count": 366,
   "metadata": {
    "collapsed": false,
    "scrolled": true
   },
   "outputs": [
    {
     "name": "stdout",
     "output_type": "stream",
     "text": [
      "お子さん_子供_ベビー_お子様_子ども_子\n",
      "段階_グレード_ランク_評価_レベル_位\n",
      "コース_通路\n",
      "クレーム_文句\n",
      "結婚式場_結婚式\n",
      "付近_近隣_あたり_周辺_周り_辺り_近辺\n",
      "新浦安駅_浦安駅_新浦安\n",
      "浴室_浴槽_バス_湯船\n",
      "セット_設定\n",
      "ビジネス_営業_業務_仕事\n",
      "件_事\n",
      "本_基本\n",
      "一家_泊まり_素泊まり_家_宿_ファミリー_イン_家族\n",
      "コンビニ_コンビ\n",
      "店_飲食店_店屋_店舗_ショップ_レストラン\n",
      "エレベーター_エレベータ\n",
      "心配_配慮_心配り_心遣い_気遣い_気配り\n",
      "有難い_有り難い\n",
      "バリュー_価値\n",
      "ディズニーシー_ディズニー\n",
      "空気_雰囲気_真ん中_気持ち_感覚_気分_印象_意味_センス_気_感じ_心\n",
      "すごい_すっごい\n",
      "タイプ_種類\n",
      "ごはん_朝ごはん\n",
      "きれい_きれいな\n",
      "プラン_プログラム_計画_設計_予定\n",
      "施設_備え付け_設備\n",
      "様子_状況_状態_調子_具合_姿\n",
      "スタイル_方法_仕様_手\n",
      "ソファ_ソファー\n",
      "列_行列_ライン\n",
      "are_atre\n",
      "間_ルーム_お部屋\n",
      "乳児_赤ちゃん\n",
      "サービス_サービス業_割引\n",
      "コーナー_角\n",
      "旅_旅行\n",
      "場所_ポイント_バケーション_処_サイト_場_ロケーション\n",
      "マッサージ_マッサージャー\n",
      "キディスイート_キディスィート\n",
      "好感_好意\n",
      "請求_リクエスト\n",
      "最初_入口\n",
      "休憩_休み\n",
      "ビュッフェ_バイキング\n",
      "ブッフェ_ブュッフェ\n",
      "得_プラス_追加\n",
      "ディズニーランド_ディズニーランド・シー_東京ディズニーランド\n",
      "想像_イメージ\n",
      "アメニティー_アメニティ\n",
      "キレイ_キレイだ\n",
      "女_女性\n",
      "娘_ガール\n",
      "お盆_トレー\n",
      "バースデー_誕生日\n",
      "空間_空き\n",
      "カフェ_コーヒー\n",
      "要望_注文\n",
      "係り_関係\n"
     ]
    }
   ],
   "source": [
    "for row in list_simwords:\n",
    "    print '_'.join(row)"
   ]
  },
  {
   "cell_type": "code",
   "execution_count": 166,
   "metadata": {
    "collapsed": false
   },
   "outputs": [
    {
     "name": "stdout",
     "output_type": "stream",
     "text": [
      "少ない_少なめ 2.77777777778\n",
      "泊まり_素泊まり 2.71428571429\n",
      "浴室_洋室 2.66666666667\n",
      "夕食_夜食 2.66666666667\n",
      "強い_弱い 2.66666666667\n",
      "好感_好意 2.66666666667\n",
      "シャンプー_シャワー 2.62962962963\n",
      "かわいい_かわいらしい 2.6\n",
      "細かい_細か 2.6\n",
      "手荷物_荷物 2.6\n",
      "せまい_きつい 2.55555555556\n",
      "居心地_寝心地 2.55555555556\n",
      "チケット_チェック 2.5\n",
      "ケーキ_パンケーキ 2.5\n",
      "タオル_バスタオル 2.5\n",
      "エレベーター_ベビーカー 2.45454545455\n",
      "隣_隣室 2.33333333333\n",
      "店_店屋 2.33333333333\n",
      "早い_新しい 2.33333333333\n",
      "隣_近隣 2.33333333333\n",
      "スープ_サラダ 2.33333333333\n",
      "女_長女 2.33333333333\n",
      "清浄_清潔 2.33333333333\n",
      "入庫_入場 2.33333333333\n",
      "気配り_心配り 2.33333333333\n",
      "かわいい_にくい 2.33333333333\n",
      "初日_日 2.33333333333\n",
      "入庫_入室 2.33333333333\n",
      "満室_満員 2.33333333333\n",
      "騒音_音 2.33333333333\n",
      "息子_子 2.33333333333\n",
      "水_氷 2.33333333333\n",
      "通路_道路 2.33333333333\n",
      "お客_客 2.33333333333\n",
      "入場_入室 2.33333333333\n",
      "携帯電話_携帯 2.33333333333\n",
      "身体_身 2.33333333333\n",
      "夫_夫婦 2.33333333333\n",
      "スープ_デザート 2.33333333333\n",
      "方面_方 2.33333333333\n",
      "ガード_コース 2.33333333333\n",
      "電車_車 2.33333333333\n",
      "旅行_修学旅行 2.33333333333\n",
      "快い_寒い 2.33333333333\n",
      "二つ_一つ 2.33333333333\n",
      "ルーム_ロビー 2.33333333333\n",
      "旅行_旅 2.33333333333\n",
      "本_絵本 2.33333333333\n",
      "パスポート_パンフレット 2.33333333333\n",
      "土足_足 2.33333333333\n",
      "泊_一泊 2.33333333333\n",
      "周辺_近辺 2.33333333333\n",
      "朝食_昼食 2.33333333333\n",
      "大きい_小さい 2.33333333333\n",
      "館内_室内 2.33333333333\n",
      "リンス_スポンジ 2.33333333333\n",
      "子供_子 2.33333333333\n",
      "好意_厚意 2.33333333333\n",
      "欲しい_ほしい 2.33333333333\n",
      "双子_子 2.33333333333\n",
      "マイナス_プラス 2.33333333333\n",
      "乳児_幼児 2.33333333333\n",
      "づらい_よい 2.33333333333\n",
      "うまい_おいしい 2.33333333333\n",
      "サロン_クローク 2.33333333333\n",
      "ショップ_コンビニ 2.33333333333\n",
      "大幅_大変 2.33333333333\n",
      "リムジンバス_シャトルバス 2.33333333333\n",
      "レベル_グレード 2.33333333333\n",
      "身体_体 2.33333333333\n",
      "道路_道 2.33333333333\n",
      "プリン_ゼリー 2.33333333333\n",
      "エントランス_ユニットバス 2.33333333333\n",
      "状況_状態 2.33333333333\n",
      "恋人_友人 2.33333333333\n",
      "きつい_大きい 2.33333333333\n",
      "心遣い_気遣い 2.33333333333\n",
      "足音_音 2.33333333333\n",
      "電話_携帯電話 2.33333333333\n",
      "朝食_夜食 2.33333333333\n",
      "ユニットバス_ビュッフェ 2.33333333333\n",
      "快適_快い 2.33333333333\n",
      "店舗_店 2.33333333333\n",
      "両親_親 2.33333333333\n",
      "確約_予約 2.33333333333\n",
      "簡易_簡単 2.33333333333\n",
      "複数_数 2.33333333333\n",
      "客室_和室 2.33333333333\n",
      "カーテン_カバー 2.33333333333\n",
      "会場_場 2.33333333333\n",
      "ビジネスホテル_レストラン 2.22222222222\n",
      "エントランス_ビュッフェ 2.21212121212\n",
      "ランドリー_レストラン 2.2\n",
      "ドライヤー_シャンプー 2.2\n",
      "ショップ_ランドリー 2.18518518519\n",
      "スイッチ_コンセント 2.18518518519\n",
      "ランドリー_コンビニ 2.18518518519\n",
      "コンセント_エアコン 2.18518518519\n",
      "ドライヤー_シャワー 2.18518518519\n",
      "シャンプー_スポンジ 2.18518518519\n"
     ]
    }
   ],
   "source": [
    "# 2.0\n",
    "for key, value in sorted(dict_word_sim.items(), key=lambda x:x[1], reverse=True)[0:100]:\n",
    "    print key, value"
   ]
  },
  {
   "cell_type": "code",
   "execution_count": null,
   "metadata": {
    "collapsed": true
   },
   "outputs": [],
   "source": []
  },
  {
   "cell_type": "code",
   "execution_count": 148,
   "metadata": {
    "collapsed": false
   },
   "outputs": [
    {
     "data": {
      "text/plain": [
       "1454436"
      ]
     },
     "execution_count": 148,
     "metadata": {},
     "output_type": "execute_result"
    }
   ],
   "source": [
    "1206*1206"
   ]
  },
  {
   "cell_type": "markdown",
   "metadata": {},
   "source": [
    "### 楽天市場のレビューを分類"
   ]
  },
  {
   "cell_type": "code",
   "execution_count": 186,
   "metadata": {
    "collapsed": false
   },
   "outputs": [
    {
     "name": "stdout",
     "output_type": "stream",
     "text": [
      "酵素 3567\n",
      "やすい 3149\n",
      "購入 2922\n",
      "効果 2610\n",
      "味 2374\n",
      "良い 1955\n",
      "美味しい 1802\n",
      "コラーゲン 1443\n",
      "肌 1342\n",
      "いい 1238\n"
     ]
    }
   ],
   "source": [
    "# ファイルの読み込み\n",
    "\n",
    "review_num = 29\n",
    "\n",
    "inputpath = './files/rakuten_ichiba/processedfile/morphofile/%s.dump' % review_num\n",
    "\n",
    "list_dict = Filer.readdump(inputpath)\n",
    "list_sentence = []\n",
    "list_sep = []\n",
    "list_sepall = []\n",
    "for row in list_dict:\n",
    "    list_sentence.append(row['sentence'])\n",
    "    list_sep.append(row['word_nj'])\n",
    "    list_sepall.append(row['word_all'])\n",
    "list_all_word = [word for row in list_sep for word in row]\n",
    "dict_count = collections.Counter(list_all_word)\n",
    "for word, count in sorted(dict_count.items(), key=lambda x:x[1], reverse=True)[0:10]:\n",
    "    print word, count"
   ]
  },
  {
   "cell_type": "code",
   "execution_count": 187,
   "metadata": {
    "collapsed": true
   },
   "outputs": [],
   "source": [
    "# stopwordの設定\n",
    "list_stopword = [word for word, count in dict_count.items() if count <= 2]\n",
    "list_stopword.extend(['購入', 'やすい', '酵素'])\n",
    "# stopwordの除去\n",
    "list_sep = [[word for word in row if word not in list_stopword] for row in list_sep]\n",
    "# 2単語以下の文を削除\n",
    "list_sentence_rev = []\n",
    "list_sep_rev = []\n",
    "list_sepall_rev = []\n",
    "for sen, sep, sepall in zip(list_sentence, list_sep, list_sepall):\n",
    "    if len(sep) > 2:\n",
    "        list_sentence_rev.append(sen)\n",
    "        list_sep_rev.append(sep)\n",
    "        list_sepall_rev.append(sepall)"
   ]
  },
  {
   "cell_type": "code",
   "execution_count": 188,
   "metadata": {
    "collapsed": false
   },
   "outputs": [
    {
     "name": "stdout",
     "output_type": "stream",
     "text": [
      "12632\n",
      "想像以上に美味しい^_^ 効果が楽しみです\n",
      "想像 美味しい 効果 楽しみ\n",
      "想像 以上 に 美味しい ^_^ 効果 が 楽しみ です\n"
     ]
    }
   ],
   "source": [
    "# 確認\n",
    "num = 3000\n",
    "print len(list_sentence_rev)\n",
    "print list_sentence_rev[num]\n",
    "print ' '.join(list_sep_rev[num])\n",
    "print ' '.join(list_sepall_rev[num])"
   ]
  },
  {
   "cell_type": "code",
   "execution_count": 189,
   "metadata": {
    "collapsed": false
   },
   "outputs": [
    {
     "name": "stdout",
     "output_type": "stream",
     "text": [
      "クラスタ数:  6\n"
     ]
    }
   ],
   "source": [
    "# エッジリストの作成\n",
    "list_edge = []\n",
    "for row in list_sep_rev:\n",
    "    list_com = list(itertools.combinations(row,2))\n",
    "    list_edge.extend(list_com)\n",
    "list_edge = [list(row) for row in list_edge]\n",
    "\n",
    "# 学習\n",
    "prtm = PRTM(inputpath = list_edge, directed_flag=False)\n",
    "prtm.fit(n=0, flag_louvain=True)"
   ]
  },
  {
   "cell_type": "code",
   "execution_count": 190,
   "metadata": {
    "collapsed": false
   },
   "outputs": [
    {
     "name": "stdout",
     "output_type": "stream",
     "text": [
      "クラスタ 0 :  4035\n",
      "クラスタ 1 :  1216\n",
      "クラスタ 2 :  744\n",
      "クラスタ 3 :  3510\n",
      "クラスタ 4 :  2891\n",
      "クラスタ 5 :  236\n",
      "トピック:  0\n",
      "==============\n",
      "良い 0.0517902048481\n",
      "効果 0.0445930799967\n",
      "肌 0.0336212413192\n",
      "いい 0.0293752361469\n",
      "調子 0.0215658164482\n",
      "体 0.0186674590486\n",
      "期待 0.0142624690323\n",
      "ダイエット 0.0119525890746\n",
      "実感 0.0107356379234\n",
      "コラーゲン 0.00909567665319\n",
      "==============\n",
      "トピック:  1\n",
      "==============\n",
      "コラーゲン 0.109369935481\n",
      "こ 0.074710319705\n",
      "ゆき 0.0507464148423\n",
      "みらい 0.0475302471043\n",
      "一緒 0.0466305876465\n",
      "うそ 0.0301505231641\n",
      "一緒に 0.0234404723356\n",
      "摂取 0.0151774383753\n",
      "肌 0.011440338037\n",
      "良い 0.0107737760076\n",
      "==============\n",
      "トピック:  2\n",
      "==============\n",
      "ドリンク 0.0632415289758\n",
      "他 0.0464806522427\n",
      "粉末 0.0438070531705\n",
      "タイプ 0.0413247637461\n",
      "液体 0.0314592022967\n",
      "多い 0.0206836820069\n",
      "手軽 0.0138793038759\n",
      "味 0.0126085706796\n",
      "他社 0.0121550796913\n",
      "supli 0.0108381740656\n",
      "==============\n",
      "トピック:  3\n",
      "==============\n",
      "味 0.0570804290182\n",
      "美味しい 0.0350917955424\n",
      "ない 0.0296974047707\n",
      "感じ 0.0265677140752\n",
      "水 0.0193508446142\n",
      "甘い 0.0187963031386\n",
      "おいしい 0.0175445521283\n",
      "粉 0.0150551192527\n",
      "レモン 0.014741900671\n",
      "ジュース 0.0123352672962\n",
      "==============\n",
      "トピック:  4\n",
      "==============\n",
      "商品 0.0346682609013\n",
      "クーポン 0.0239445788929\n",
      "気 0.0211290102736\n",
      "レビュー 0.0202804854873\n",
      "注文 0.0201904466392\n",
      "値段 0.0200540318852\n",
      "安い 0.016587071082\n",
      "リピ 0.0145064572783\n",
      "よい 0.0141857848992\n",
      "良い 0.0134865848468\n",
      "==============\n",
      "トピック:  5\n",
      "==============\n",
      "スプーン 0.0942299533534\n",
      "家族 0.0321770429494\n",
      "付属 0.0276582666983\n",
      "長い 0.025346974107\n",
      "必要 0.023134135238\n",
      "づらい 0.0170170883391\n",
      "冊子 0.0139808427875\n",
      "袋 0.0136549504226\n",
      "大きい 0.0108927754201\n",
      "倍 0.0104013422253\n",
      "==============\n"
     ]
    }
   ],
   "source": [
    "# 文の分類\n",
    "num_cluster = 6\n",
    "\n",
    "list_cluster = [[] for i in range(num_cluster)]\n",
    "for sen, sep, sepall in zip(list_sentence_rev, list_sep_rev, list_sepall_rev):\n",
    "    label = np.argmax(prtm.infer(sep))\n",
    "    dict_sen_sepall = {'sentence': sen, 'word_all': sepall}\n",
    "    list_cluster[label].append(dict_sen_sepall)\n",
    "\n",
    "for i in range(num_cluster) :\n",
    "    Filer.writedump(list_cluster[i],\n",
    "                    './files/rakuten_ichiba/processedfile/classifiedfile/%s/cluster%s.dump'%(review_num, i))\n",
    "    \n",
    "# clusterの情報\n",
    "for i, row in enumerate(list_cluster):\n",
    "    print 'クラスタ', i, ': ', len(row)\n",
    "\n",
    "for i in range(num_cluster):\n",
    "    prtm.show_topic(n=i)"
   ]
  },
  {
   "cell_type": "code",
   "execution_count": null,
   "metadata": {
    "collapsed": true
   },
   "outputs": [],
   "source": []
  }
 ],
 "metadata": {
  "kernelspec": {
   "display_name": "Python 2",
   "language": "python",
   "name": "python2"
  },
  "language_info": {
   "codemirror_mode": {
    "name": "ipython",
    "version": 2
   },
   "file_extension": ".py",
   "mimetype": "text/x-python",
   "name": "python",
   "nbconvert_exporter": "python",
   "pygments_lexer": "ipython2",
   "version": "2.7.10"
  }
 },
 "nbformat": 4,
 "nbformat_minor": 0
}
