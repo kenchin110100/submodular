{
 "cells": [
  {
   "cell_type": "code",
   "execution_count": 1,
   "metadata": {
    "collapsed": true
   },
   "outputs": [],
   "source": [
    "# coding: utf-8\n",
    "\"\"\"\n",
    "Vectorを実験するためのコード\n",
    "\"\"\"\n",
    "from filer2.filer2 import Filer\n",
    "from library.submodular import Vector, Rouge_N\n",
    "import numpy as np\n",
    "import glob"
   ]
  },
  {
   "cell_type": "code",
   "execution_count": 2,
   "metadata": {
    "collapsed": true
   },
   "outputs": [],
   "source": [
    "list_test_path = glob.glob('./files/OpinosisDataset1.0/preprocessed/test/*')\n",
    "list_ans_path = glob.glob('./files/OpinosisDataset1.0/preprocessed/ans/*')\n",
    "\n",
    "list_test_path.sort()\n",
    "list_ans_path.sort()"
   ]
  },
  {
   "cell_type": "code",
   "execution_count": 3,
   "metadata": {
    "collapsed": false
   },
   "outputs": [
    {
     "name": "stdout",
     "output_type": "stream",
     "text": [
      "num word:  601\n",
      "num vocabulary:  254\n",
      "Non dictionalized word:  0\n"
     ]
    },
    {
     "ename": "KeyboardInterrupt",
     "evalue": "",
     "output_type": "error",
     "traceback": [
      "\u001b[1;31m---------------------------------------------------------------------------\u001b[0m",
      "\u001b[1;31mKeyboardInterrupt\u001b[0m                         Traceback (most recent call last)",
      "\u001b[1;32m<ipython-input-3-e2a9279d4606>\u001b[0m in \u001b[0;36m<module>\u001b[1;34m()\u001b[0m\n\u001b[0;32m     29\u001b[0m \u001b[1;33m\u001b[0m\u001b[0m\n\u001b[0;32m     30\u001b[0m             \u001b[1;31m# 学習\u001b[0m\u001b[1;33m\u001b[0m\u001b[1;33m\u001b[0m\u001b[0m\n\u001b[1;32m---> 31\u001b[1;33m             \u001b[0mV\u001b[0m\u001b[1;33m.\u001b[0m\u001b[0mm_greedy\u001b[0m\u001b[1;33m(\u001b[0m\u001b[0mnum_w\u001b[0m\u001b[1;33m=\u001b[0m\u001b[1;36m100\u001b[0m\u001b[1;33m,\u001b[0m \u001b[0mr\u001b[0m\u001b[1;33m=\u001b[0m\u001b[0mr\u001b[0m\u001b[1;33m,\u001b[0m \u001b[0mscale\u001b[0m\u001b[1;33m=\u001b[0m\u001b[0mscale\u001b[0m\u001b[1;33m)\u001b[0m\u001b[1;33m\u001b[0m\u001b[0m\n\u001b[0m\u001b[0;32m     32\u001b[0m             \u001b[1;31m# Rougeを計算するようにbag_of_wordsを作成する\u001b[0m\u001b[1;33m\u001b[0m\u001b[1;33m\u001b[0m\u001b[0m\n\u001b[0;32m     33\u001b[0m             \u001b[0mlist_v_test\u001b[0m \u001b[1;33m=\u001b[0m \u001b[1;33m[\u001b[0m\u001b[0mrow\u001b[0m\u001b[1;33m[\u001b[0m\u001b[1;36m2\u001b[0m\u001b[1;33m]\u001b[0m \u001b[1;32mfor\u001b[0m \u001b[0mrow\u001b[0m \u001b[1;32min\u001b[0m \u001b[0mV\u001b[0m\u001b[1;33m.\u001b[0m\u001b[0mlist_C\u001b[0m\u001b[1;33m]\u001b[0m\u001b[1;33m\u001b[0m\u001b[0m\n",
      "\u001b[1;32m/home/ikegami/documents/submodular/library/submodular.pyc\u001b[0m in \u001b[0;36mm_greedy\u001b[1;34m(self, num_w, r, scale)\u001b[0m\n\u001b[0;32m    529\u001b[0m             doc_id, sep, sepall = self._m_greedy_1(list_C=list_C,\n\u001b[0;32m    530\u001b[0m                                                    \u001b[0mlist_id_sep_sepall\u001b[0m\u001b[1;33m=\u001b[0m\u001b[0mlist_id_sep_sepall\u001b[0m\u001b[1;33m,\u001b[0m\u001b[1;33m\u001b[0m\u001b[0m\n\u001b[1;32m--> 531\u001b[1;33m                                                    r=r, scale=scale)\n\u001b[0m\u001b[0;32m    532\u001b[0m             \u001b[1;32mif\u001b[0m \u001b[0mC_word\u001b[0m \u001b[1;33m+\u001b[0m \u001b[0mlen\u001b[0m\u001b[1;33m(\u001b[0m\u001b[0msepall\u001b[0m\u001b[1;33m)\u001b[0m \u001b[1;33m<=\u001b[0m \u001b[0mnum_w\u001b[0m\u001b[1;33m:\u001b[0m\u001b[1;33m\u001b[0m\u001b[0m\n\u001b[0;32m    533\u001b[0m                 \u001b[1;31m# 採用したリストをappend\u001b[0m\u001b[1;33m\u001b[0m\u001b[1;33m\u001b[0m\u001b[0m\n",
      "\u001b[1;32m/home/ikegami/documents/submodular/library/submodular.pyc\u001b[0m in \u001b[0;36m_m_greedy_1\u001b[1;34m(self, list_C, list_id_sep_sepall, r, scale)\u001b[0m\n\u001b[0;32m    501\u001b[0m                 \u001b[1;31m# コストの計算\u001b[0m\u001b[1;33m\u001b[0m\u001b[1;33m\u001b[0m\u001b[0m\n\u001b[0;32m    502\u001b[0m                 f_C_s = self._cal_cost(list_c_word=list_c_word_s,\n\u001b[1;32m--> 503\u001b[1;33m                                        scale=scale)\n\u001b[0m\u001b[0;32m    504\u001b[0m                 \u001b[1;31m# スコアの増分を計算\u001b[0m\u001b[1;33m\u001b[0m\u001b[1;33m\u001b[0m\u001b[0m\n\u001b[0;32m    505\u001b[0m                 \u001b[0mdelta\u001b[0m \u001b[1;33m=\u001b[0m \u001b[1;33m(\u001b[0m\u001b[0mf_C_s\u001b[0m \u001b[1;33m-\u001b[0m \u001b[0mf_C\u001b[0m\u001b[1;33m)\u001b[0m \u001b[1;33m/\u001b[0m \u001b[0mnp\u001b[0m\u001b[1;33m.\u001b[0m\u001b[0mpower\u001b[0m\u001b[1;33m(\u001b[0m\u001b[0mlen\u001b[0m\u001b[1;33m(\u001b[0m\u001b[0msepall\u001b[0m\u001b[1;33m)\u001b[0m\u001b[1;33m,\u001b[0m \u001b[0mr\u001b[0m\u001b[1;33m)\u001b[0m\u001b[1;33m\u001b[0m\u001b[0m\n",
      "\u001b[1;32m/home/ikegami/documents/submodular/library/submodular.pyc\u001b[0m in \u001b[0;36m_cal_cost\u001b[1;34m(self, list_c_word, scale)\u001b[0m\n\u001b[0;32m    452\u001b[0m             \u001b[1;31m# スケーリング関数: e^x\u001b[0m\u001b[1;33m\u001b[0m\u001b[1;33m\u001b[0m\u001b[0m\n\u001b[0;32m    453\u001b[0m             \u001b[1;32mif\u001b[0m \u001b[0mscale\u001b[0m \u001b[1;33m==\u001b[0m \u001b[1;36m0\u001b[0m\u001b[1;33m:\u001b[0m\u001b[1;33m\u001b[0m\u001b[0m\n\u001b[1;32m--> 454\u001b[1;33m                 \u001b[0mf_C\u001b[0m \u001b[1;33m-=\u001b[0m \u001b[0mnp\u001b[0m\u001b[1;33m.\u001b[0m\u001b[0mexp\u001b[0m\u001b[1;33m(\u001b[0m\u001b[0mnp\u001b[0m\u001b[1;33m.\u001b[0m\u001b[0mamin\u001b[0m\u001b[1;33m(\u001b[0m\u001b[0mrow\u001b[0m\u001b[1;33m)\u001b[0m\u001b[1;33m)\u001b[0m\u001b[1;33m\u001b[0m\u001b[0m\n\u001b[0m\u001b[0;32m    455\u001b[0m             \u001b[1;31m# スケーリング関数: x\u001b[0m\u001b[1;33m\u001b[0m\u001b[1;33m\u001b[0m\u001b[0m\n\u001b[0;32m    456\u001b[0m             \u001b[1;32melif\u001b[0m \u001b[0mscale\u001b[0m \u001b[1;33m==\u001b[0m \u001b[1;36m1\u001b[0m\u001b[1;33m:\u001b[0m\u001b[1;33m\u001b[0m\u001b[0m\n",
      "\u001b[1;31mKeyboardInterrupt\u001b[0m: "
     ]
    }
   ],
   "source": [
    "for test_path, ans_path in zip(list_test_path, list_ans_path):\n",
    "    dict_test = Filer.readdump(test_path)\n",
    "    dict_ans = Filer.readdump(ans_path)\n",
    "    filename = ans_path.replace('./files/OpinosisDataset1.0/preprocessed/ans/', '')\n",
    "    filename = filename.replace('.dump', '')\n",
    "    # テスト用ファイルの作成\n",
    "    # １００単語以上ある文は除く\n",
    "    list_sentence = []\n",
    "    list_sep = []\n",
    "    list_sep_all = []\n",
    "    list_edgelist = []\n",
    "    for sen, sep, sepall, edge in zip(dict_test['sentence'],\n",
    "                                      dict_test['sep_njv'],\n",
    "                                      dict_test['sep_all'],\n",
    "                                      dict_test['edge_njv']):\n",
    "        if len(sepall) <= 100 and len(sep) != 0:\n",
    "            list_sentence.append(sen)\n",
    "            list_sep.append(sep)\n",
    "            list_sep_all.append(sepall)\n",
    "            list_edgelist.append(edge)\n",
    "\n",
    "    list_edgelist = [[row1[0], row1[1]] for row in list_edgelist for row1 in row]\n",
    "    # インスタンス化\n",
    "    V = Vector(list_sep_all=list_sep_all,\n",
    "               list_sep=list_sep,\n",
    "               dict_path = './files/OpinosisDataset1.0/w2v/model/model_cbow_s300_w5_m0/dict_word_vec_3')\n",
    "    for scale in [0, 1, 2]:\n",
    "        for r in [0.1, 0.5, 1, 2]:\n",
    "    \n",
    "            # 学習\n",
    "            V.m_greedy(num_w=100, r=r, scale=scale)\n",
    "            # Rougeを計算するようにbag_of_wordsを作成する\n",
    "            list_v_test = [row[2] for row in V.list_C]\n",
    "            for row in dict_ans['sep_all']:\n",
    "                try:\n",
    "                    R1 = Rouge_N.rouge(list_v_test, row, N=1)\n",
    "                except:\n",
    "                    R1 = 0\n",
    "                try:\n",
    "                    R2 = Rouge_N.rouge(list_v_test, row, N=2)\n",
    "                except:\n",
    "                    R2 = 0\n",
    "                try:\n",
    "                    R3 = Rouge_N.rouge(list_v_test, row, N=3)\n",
    "                except:\n",
    "                    R3 = 0\n",
    "                try:\n",
    "                    R4 = Rouge_N.rouge(list_v_test, row, N=4)\n",
    "                except:\n",
    "                    R4 = 0\n",
    "                list_result = [[filename, scale, r, R1, R2, R3, R4]]\n",
    "                Filer.writecsv(list_result, './files/OpinosisDataset1.0/result/V/njv/njv_%s_%s.csv'%(scale, r))"
   ]
  },
  {
   "cell_type": "code",
   "execution_count": null,
   "metadata": {
    "collapsed": true
   },
   "outputs": [],
   "source": []
  }
 ],
 "metadata": {
  "kernelspec": {
   "display_name": "Python 2",
   "language": "python",
   "name": "python2"
  },
  "language_info": {
   "codemirror_mode": {
    "name": "ipython",
    "version": 2
   },
   "file_extension": ".py",
   "mimetype": "text/x-python",
   "name": "python",
   "nbconvert_exporter": "python",
   "pygments_lexer": "ipython2",
   "version": "2.7.10"
  }
 },
 "nbformat": 4,
 "nbformat_minor": 0
}
