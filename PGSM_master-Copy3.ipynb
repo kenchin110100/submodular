{
 "cells": [
  {
   "cell_type": "code",
   "execution_count": 1,
   "metadata": {
    "collapsed": true
   },
   "outputs": [],
   "source": [
    "# coding: utf-8\n",
    "\"\"\"\n",
    "simrankを用いた劣モジュラ最適化の検証\n",
    "\"\"\"\n",
    "from filer2.filer2 import Filer\n",
    "from library.graphsubmodular import Partition_GraphSubModular\n",
    "from library.rouge import Rouge_N\n",
    "import numpy as np\n",
    "import glob"
   ]
  },
  {
   "cell_type": "code",
   "execution_count": 2,
   "metadata": {
    "collapsed": false
   },
   "outputs": [
    {
     "name": "stdout",
     "output_type": "stream",
     "text": [
      "10\n",
      "10\n"
     ]
    }
   ],
   "source": [
    "start = 30\n",
    "end = 40\n",
    "\n",
    "list_test_path = glob.glob('./files/OpinosisDataset1.0/preprocessed3/*')\n",
    "list_ans_path = glob.glob('./files/OpinosisDataset1.0/preprocessed1/ans/*')\n",
    "\n",
    "list_test_path.sort()\n",
    "list_ans_path.sort()\n",
    "\n",
    "list_test_path = list_test_path[start:end]\n",
    "list_ans_path = list_ans_path[start:end]\n",
    "\n",
    "print len(list_test_path)\n",
    "print len(list_ans_path)"
   ]
  },
  {
   "cell_type": "code",
   "execution_count": null,
   "metadata": {
    "collapsed": false
   },
   "outputs": [],
   "source": [
    "directed = False\n",
    "\n",
    "counter = 1\n",
    "\n",
    "for test_path, ans_path in zip(list_test_path, list_ans_path):\n",
    "    dict_test = Filer.readdump(test_path)\n",
    "    dict_ans = Filer.readdump(ans_path)\n",
    "    filename = ans_path.replace('./files/OpinosisDataset1.0/preprocessed1/ans/', '')\n",
    "    filename = filename.replace('.dump', '')\n",
    "    print counter\n",
    "    counter += 1\n",
    "    # テスト用ファイルの作成\n",
    "    # １００単語以上ある文は除く\n",
    "    list_sentence = []\n",
    "    list_sep = []\n",
    "    list_sep_all = []\n",
    "    list_pos = []\n",
    "    list_edgelist = []\n",
    "    for sen, sep, sepall, pos, edge in zip(dict_test['sentence'],\n",
    "                                           dict_test['sep_all'],\n",
    "                                           dict_test['sep_all'],\n",
    "                                           dict_test['pos_all'],\n",
    "                                           dict_test['edge_all']):\n",
    "        if len(sepall) <= 100 and len(sep) != 0:\n",
    "            list_sentence.append(sen)\n",
    "            list_sep.append(sep)\n",
    "            list_sep_all.append(sepall)\n",
    "            list_pos.append(pos)\n",
    "            list_edgelist.append(edge)\n",
    "\n",
    "    list_edgelist = [[row1[0], row1[1]] for row in list_edgelist for row1 in row]\n",
    "    # インスタンス化\n",
    "    PGSM = Partition_GraphSubModular(list_sep_all=list_sep_all,\n",
    "                                     list_sep=list_sep,\n",
    "                                     list_pos=list_pos,\n",
    "                                     list_edgelist=list_edgelist,\n",
    "                                     directed=False,\n",
    "                                     simrank_flag=True,\n",
    "                                     weighted=False,\n",
    "                                     log_flag=True)\n",
    "    for n in [0, 1, 2, 3, 4, 5, 6, 7, 8, 9, 10]:\n",
    "        n1 = float(n)/10\n",
    "        for j in range(11-n):\n",
    "            j1 = float(j)/10\n",
    "            v = 10-n-j\n",
    "            v1 = float(v)/10\n",
    "            # 学習\n",
    "            PGSM.m_greedy(num_w = 100,\n",
    "                          r=1,\n",
    "                          scale=0,\n",
    "                          n=n1,\n",
    "                          j=j1,\n",
    "                          v=v1,\n",
    "                          o=1.0/3)\n",
    "            # Rougeを計算するようにbag_of_wordsを作成する\n",
    "            list_C = PGSM.list_C\n",
    "            list_gm_test = [list_sentence[row[0]].replace(',', '').replace('.', '').lower().split(' ') for row in list_C]\n",
    "            list_gm_ans = [[sen.replace(',', '').replace('.', '').lower().split(' ') for sen in row] for row in dict_ans['sentence']]\n",
    "            try:\n",
    "                R1 = Rouge_N.rouge(list_gm_test, list_gm_ans, N=1)\n",
    "            except:\n",
    "                R1 = 0\n",
    "            try:\n",
    "                R2 = Rouge_N.rouge(list_gm_test, list_gm_ans, N=2)\n",
    "            except:\n",
    "                R2 = 0\n",
    "            try:\n",
    "                R3 = Rouge_N.rouge(list_gm_test, list_gm_ans, N=3)\n",
    "            except:\n",
    "                R3 = 0\n",
    "            try:\n",
    "                R4 = Rouge_N.rouge(list_gm_test, list_gm_ans, N=4)\n",
    "            except:\n",
    "                R4 = 0\n",
    "            list_result = [[filename, 0, 1, n, v, j, R1, R2, R3, R4]]\n",
    "            Filer.writecsv(list_result, './files/OpinosisDataset1.0/result/PGSM/all_rev2/all_%s_%s_%s.csv'%(n, j, v))"
   ]
  },
  {
   "cell_type": "code",
   "execution_count": null,
   "metadata": {
    "collapsed": true
   },
   "outputs": [],
   "source": []
  }
 ],
 "metadata": {
  "kernelspec": {
   "display_name": "Python 2",
   "language": "python",
   "name": "python2"
  },
  "language_info": {
   "codemirror_mode": {
    "name": "ipython",
    "version": 2
   },
   "file_extension": ".py",
   "mimetype": "text/x-python",
   "name": "python",
   "nbconvert_exporter": "python",
   "pygments_lexer": "ipython2",
   "version": "2.7.10"
  }
 },
 "nbformat": 4,
 "nbformat_minor": 0
}
