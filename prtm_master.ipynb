{
 "cells": [
  {
   "cell_type": "code",
   "execution_count": 3,
   "metadata": {
    "collapsed": false
   },
   "outputs": [],
   "source": [
    "# coding: utf-8\n",
    "\"\"\"\n",
    "サンプルの各文をPRTMで分類\n",
    "\"\"\"\n",
    "from library.prtm import PRTM\n",
    "from filer2.filer2 import Filer\n",
    "import glob\n",
    "import numpy as np\n",
    "import collections"
   ]
  },
  {
   "cell_type": "code",
   "execution_count": 4,
   "metadata": {
    "collapsed": false
   },
   "outputs": [
    {
     "data": {
      "text/plain": [
       "['./files/preprocessedfile/type11/wordlist/preprocessed-19191.dump',\n",
       " './files/preprocessedfile/type11/wordlist/preprocessed-76887.dump',\n",
       " './files/preprocessedfile/type11/wordlist/preprocessed-1238.dump',\n",
       " './files/preprocessedfile/type11/wordlist/preprocessed-51637.dump',\n",
       " './files/preprocessedfile/type11/wordlist/preprocessed-53171.dump']"
      ]
     },
     "execution_count": 4,
     "metadata": {},
     "output_type": "execute_result"
    }
   ],
   "source": [
    "# ファイルの読み込み\n",
    "list_filepath = glob.glob('./files/preprocessedfile/type11/bigram/*')\n",
    "list_edge = [Filer.readtsv(path) for path in list_filepath]\n",
    "list_edge = [edge for row in list_edge for edge in row]\n",
    "list_filepath = glob.glob('./files/preprocessedfile/type11/wordlist/*')\n",
    "list_sepwords = [Filer.readdump(path) for path in list_filepath]\n",
    "list_filepath"
   ]
  },
  {
   "cell_type": "code",
   "execution_count": 10,
   "metadata": {
    "collapsed": false
   },
   "outputs": [
    {
     "name": "stdout",
     "output_type": "stream",
     "text": [
      "クラスタ数:  12\n"
     ]
    }
   ],
   "source": [
    "# 学習、bigramをつかって、directed_trueで学習\n",
    "prtm = PRTM(inputpath = list_edge, directed_flag=False)\n",
    "prtm.fit(n=0, flag_louvain=True)"
   ]
  },
  {
   "cell_type": "code",
   "execution_count": 7,
   "metadata": {
    "collapsed": false
   },
   "outputs": [
    {
     "name": "stderr",
     "output_type": "stream",
     "text": [
      "library/prtm.py:251: FutureWarning: comparison to `None` will result in an elementwise object comparison in the future.\n",
      "  if self._list_topic_prob == None:\n"
     ]
    }
   ],
   "source": [
    "# 各ホテルごとにsentenceを分類\n",
    "list_master = []\n",
    "for list_sen_words in list_sepwords:\n",
    "    dict_tmp = {i:[] for i in range(12)}\n",
    "    for row in list_sen_words:\n",
    "        label = np.argmax(prtm.infer(row[1]))\n",
    "        dict_tmp[label].append(row[0])\n",
    "    list_master.append(dict_tmp)"
   ]
  },
  {
   "cell_type": "code",
   "execution_count": 8,
   "metadata": {
    "collapsed": false
   },
   "outputs": [
    {
     "name": "stdout",
     "output_type": "stream",
     "text": [
      "0 539\n",
      "1 207\n",
      "2 248\n",
      "3 428\n",
      "4 12\n",
      "5 0\n",
      "6 423\n",
      "7 904\n",
      "8 0\n",
      "9 91\n",
      "10 314\n",
      "11 379\n",
      "===================\n",
      "0 426\n",
      "1 143\n",
      "2 141\n",
      "3 330\n",
      "4 36\n",
      "5 0\n",
      "6 504\n",
      "7 976\n",
      "8 0\n",
      "9 92\n",
      "10 330\n",
      "11 239\n",
      "===================\n",
      "0 676\n",
      "1 446\n",
      "2 276\n",
      "3 455\n",
      "4 106\n",
      "5 0\n",
      "6 513\n",
      "7 804\n",
      "8 3\n",
      "9 319\n",
      "10 890\n",
      "11 282\n",
      "===================\n",
      "0 480\n",
      "1 268\n",
      "2 181\n",
      "3 280\n",
      "4 13\n",
      "5 3\n",
      "6 376\n",
      "7 1146\n",
      "8 0\n",
      "9 85\n",
      "10 333\n",
      "11 341\n",
      "===================\n",
      "0 512\n",
      "1 488\n",
      "2 114\n",
      "3 355\n",
      "4 6\n",
      "5 0\n",
      "6 303\n",
      "7 1198\n",
      "8 0\n",
      "9 130\n",
      "10 468\n",
      "11 320\n",
      "===================\n"
     ]
    }
   ],
   "source": [
    "for i in range(5):\n",
    "    for j in range(12):\n",
    "        print j, len(list_master[i][j])\n",
    "    print '==================='"
   ]
  },
  {
   "cell_type": "code",
   "execution_count": 80,
   "metadata": {
    "collapsed": false
   },
   "outputs": [],
   "source": [
    "for i, path in enumerate(['-19191', '-76887', '-1238', '-51637', '-53171']):\n",
    "    for j in range(12):\n",
    "        Filer.writetxt(list_master[i][j],\n",
    "                      './files/classifiedfile/type11/bigram/classified'+path+'_%s'%j+'.txt')"
   ]
  },
  {
   "cell_type": "code",
   "execution_count": 11,
   "metadata": {
    "collapsed": false
   },
   "outputs": [
    {
     "name": "stdout",
     "output_type": "stream",
     "text": [
      "トピック:  0\n",
      "==============\n",
      "フロント 0.0317438761555\n",
      "対応 0.0316370008767\n",
      "チェックイン 0.0292942948679\n",
      "スタッフ 0.0124238888228\n",
      "人 0.012012991992\n",
      "チェックアウト 0.01191877581\n",
      "荷物 0.0116053283325\n",
      "案内 0.0102525935931\n",
      "エレベーター 0.0100823814296\n",
      "遅い 0.00831562662606\n",
      "==============\n"
     ]
    }
   ],
   "source": [
    "prtm.show_topic(n=0)"
   ]
  },
  {
   "cell_type": "code",
   "execution_count": null,
   "metadata": {
    "collapsed": true
   },
   "outputs": [],
   "source": []
  }
 ],
 "metadata": {
  "kernelspec": {
   "display_name": "Python 2",
   "language": "python",
   "name": "python2"
  },
  "language_info": {
   "codemirror_mode": {
    "name": "ipython",
    "version": 2
   },
   "file_extension": ".py",
   "mimetype": "text/x-python",
   "name": "python",
   "nbconvert_exporter": "python",
   "pygments_lexer": "ipython2",
   "version": "2.7.10"
  }
 },
 "nbformat": 4,
 "nbformat_minor": 0
}
