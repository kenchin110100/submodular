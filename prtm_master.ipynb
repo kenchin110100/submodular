{
 "cells": [
  {
   "cell_type": "code",
   "execution_count": 2,
   "metadata": {
    "collapsed": false
   },
   "outputs": [],
   "source": [
    "# coding: utf-8\n",
    "\"\"\"\n",
    "サンプルの各文をPRTMで分類\n",
    "\"\"\"\n",
    "from library.prtm import PRTM\n",
    "from filer2.filer2 import Filer\n",
    "import glob\n",
    "import numpy as np\n",
    "import collections\n",
    "import itertools"
   ]
  },
  {
   "cell_type": "code",
   "execution_count": 4,
   "metadata": {
    "collapsed": false
   },
   "outputs": [
    {
     "data": {
      "text/plain": [
       "['./files/preprocessedfile/type11/wordlist/preprocessed-19191.dump',\n",
       " './files/preprocessedfile/type11/wordlist/preprocessed-76887.dump',\n",
       " './files/preprocessedfile/type11/wordlist/preprocessed-1238.dump',\n",
       " './files/preprocessedfile/type11/wordlist/preprocessed-51637.dump',\n",
       " './files/preprocessedfile/type11/wordlist/preprocessed-53171.dump']"
      ]
     },
     "execution_count": 4,
     "metadata": {},
     "output_type": "execute_result"
    }
   ],
   "source": [
    "# ファイルの読み込み\n",
    "list_filepath = glob.glob('./files/preprocessedfile/type11/bigram/*')\n",
    "list_edge = [Filer.readtsv(path) for path in list_filepath]\n",
    "list_edge = [edge for row in list_edge for edge in row]\n",
    "list_filepath = glob.glob('./files/preprocessedfile/type11/wordlist/*')\n",
    "list_sepwords = [Filer.readdump(path) for path in list_filepath]\n",
    "list_filepath"
   ]
  },
  {
   "cell_type": "code",
   "execution_count": 10,
   "metadata": {
    "collapsed": false
   },
   "outputs": [
    {
     "name": "stdout",
     "output_type": "stream",
     "text": [
      "クラスタ数:  12\n"
     ]
    }
   ],
   "source": [
    "# 学習、bigramをつかって、directed_trueで学習\n",
    "prtm = PRTM(inputpath = list_edge, directed_flag=False)\n",
    "prtm.fit(n=0, flag_louvain=True)"
   ]
  },
  {
   "cell_type": "code",
   "execution_count": 7,
   "metadata": {
    "collapsed": false
   },
   "outputs": [
    {
     "name": "stderr",
     "output_type": "stream",
     "text": [
      "library/prtm.py:251: FutureWarning: comparison to `None` will result in an elementwise object comparison in the future.\n",
      "  if self._list_topic_prob == None:\n"
     ]
    }
   ],
   "source": [
    "# 各ホテルごとにsentenceを分類\n",
    "list_master = []\n",
    "for list_sen_words in list_sepwords:\n",
    "    dict_tmp = {i:[] for i in range(12)}\n",
    "    for row in list_sen_words:\n",
    "        label = np.argmax(prtm.infer(row[1]))\n",
    "        dict_tmp[label].append(row[0])\n",
    "    list_master.append(dict_tmp)"
   ]
  },
  {
   "cell_type": "code",
   "execution_count": 8,
   "metadata": {
    "collapsed": false
   },
   "outputs": [
    {
     "name": "stdout",
     "output_type": "stream",
     "text": [
      "0 539\n",
      "1 207\n",
      "2 248\n",
      "3 428\n",
      "4 12\n",
      "5 0\n",
      "6 423\n",
      "7 904\n",
      "8 0\n",
      "9 91\n",
      "10 314\n",
      "11 379\n",
      "===================\n",
      "0 426\n",
      "1 143\n",
      "2 141\n",
      "3 330\n",
      "4 36\n",
      "5 0\n",
      "6 504\n",
      "7 976\n",
      "8 0\n",
      "9 92\n",
      "10 330\n",
      "11 239\n",
      "===================\n",
      "0 676\n",
      "1 446\n",
      "2 276\n",
      "3 455\n",
      "4 106\n",
      "5 0\n",
      "6 513\n",
      "7 804\n",
      "8 3\n",
      "9 319\n",
      "10 890\n",
      "11 282\n",
      "===================\n",
      "0 480\n",
      "1 268\n",
      "2 181\n",
      "3 280\n",
      "4 13\n",
      "5 3\n",
      "6 376\n",
      "7 1146\n",
      "8 0\n",
      "9 85\n",
      "10 333\n",
      "11 341\n",
      "===================\n",
      "0 512\n",
      "1 488\n",
      "2 114\n",
      "3 355\n",
      "4 6\n",
      "5 0\n",
      "6 303\n",
      "7 1198\n",
      "8 0\n",
      "9 130\n",
      "10 468\n",
      "11 320\n",
      "===================\n"
     ]
    }
   ],
   "source": [
    "for i in range(5):\n",
    "    for j in range(12):\n",
    "        print j, len(list_master[i][j])\n",
    "    print '==================='"
   ]
  },
  {
   "cell_type": "code",
   "execution_count": 80,
   "metadata": {
    "collapsed": false
   },
   "outputs": [],
   "source": [
    "for i, path in enumerate(['-19191', '-76887', '-1238', '-51637', '-53171']):\n",
    "    for j in range(12):\n",
    "        Filer.writetxt(list_master[i][j],\n",
    "                      './files/classifiedfile/type11/bigram/classified'+path+'_%s'%j+'.txt')"
   ]
  },
  {
   "cell_type": "code",
   "execution_count": 11,
   "metadata": {
    "collapsed": false
   },
   "outputs": [
    {
     "name": "stdout",
     "output_type": "stream",
     "text": [
      "トピック:  0\n",
      "==============\n",
      "フロント 0.0317438761555\n",
      "対応 0.0316370008767\n",
      "チェックイン 0.0292942948679\n",
      "スタッフ 0.0124238888228\n",
      "人 0.012012991992\n",
      "チェックアウト 0.01191877581\n",
      "荷物 0.0116053283325\n",
      "案内 0.0102525935931\n",
      "エレベーター 0.0100823814296\n",
      "遅い 0.00831562662606\n",
      "==============\n"
     ]
    }
   ],
   "source": [
    "prtm.show_topic(n=0)"
   ]
  },
  {
   "cell_type": "markdown",
   "metadata": {},
   "source": [
    "### 楽天市場のレビューを分類"
   ]
  },
  {
   "cell_type": "code",
   "execution_count": 186,
   "metadata": {
    "collapsed": false
   },
   "outputs": [
    {
     "name": "stdout",
     "output_type": "stream",
     "text": [
      "酵素 3567\n",
      "やすい 3149\n",
      "購入 2922\n",
      "効果 2610\n",
      "味 2374\n",
      "良い 1955\n",
      "美味しい 1802\n",
      "コラーゲン 1443\n",
      "肌 1342\n",
      "いい 1238\n"
     ]
    }
   ],
   "source": [
    "# ファイルの読み込み\n",
    "\n",
    "review_num = 29\n",
    "\n",
    "inputpath = './files/rakuten_ichiba/processedfile/morphofile/%s.dump' % review_num\n",
    "\n",
    "list_dict = Filer.readdump(inputpath)\n",
    "list_sentence = []\n",
    "list_sep = []\n",
    "list_sepall = []\n",
    "for row in list_dict:\n",
    "    list_sentence.append(row['sentence'])\n",
    "    list_sep.append(row['word_nj'])\n",
    "    list_sepall.append(row['word_all'])\n",
    "list_all_word = [word for row in list_sep for word in row]\n",
    "dict_count = collections.Counter(list_all_word)\n",
    "for word, count in sorted(dict_count.items(), key=lambda x:x[1], reverse=True)[0:10]:\n",
    "    print word, count"
   ]
  },
  {
   "cell_type": "code",
   "execution_count": 187,
   "metadata": {
    "collapsed": true
   },
   "outputs": [],
   "source": [
    "# stopwordの設定\n",
    "list_stopword = [word for word, count in dict_count.items() if count <= 2]\n",
    "list_stopword.extend(['購入', 'やすい', '酵素'])\n",
    "# stopwordの除去\n",
    "list_sep = [[word for word in row if word not in list_stopword] for row in list_sep]\n",
    "# 2単語以下の文を削除\n",
    "list_sentence_rev = []\n",
    "list_sep_rev = []\n",
    "list_sepall_rev = []\n",
    "for sen, sep, sepall in zip(list_sentence, list_sep, list_sepall):\n",
    "    if len(sep) > 2:\n",
    "        list_sentence_rev.append(sen)\n",
    "        list_sep_rev.append(sep)\n",
    "        list_sepall_rev.append(sepall)"
   ]
  },
  {
   "cell_type": "code",
   "execution_count": 188,
   "metadata": {
    "collapsed": false
   },
   "outputs": [
    {
     "name": "stdout",
     "output_type": "stream",
     "text": [
      "12632\n",
      "想像以上に美味しい^_^ 効果が楽しみです\n",
      "想像 美味しい 効果 楽しみ\n",
      "想像 以上 に 美味しい ^_^ 効果 が 楽しみ です\n"
     ]
    }
   ],
   "source": [
    "# 確認\n",
    "num = 3000\n",
    "print len(list_sentence_rev)\n",
    "print list_sentence_rev[num]\n",
    "print ' '.join(list_sep_rev[num])\n",
    "print ' '.join(list_sepall_rev[num])"
   ]
  },
  {
   "cell_type": "code",
   "execution_count": 189,
   "metadata": {
    "collapsed": false
   },
   "outputs": [
    {
     "name": "stdout",
     "output_type": "stream",
     "text": [
      "クラスタ数:  6\n"
     ]
    }
   ],
   "source": [
    "# エッジリストの作成\n",
    "list_edge = []\n",
    "for row in list_sep_rev:\n",
    "    list_com = list(itertools.combinations(row,2))\n",
    "    list_edge.extend(list_com)\n",
    "list_edge = [list(row) for row in list_edge]\n",
    "\n",
    "# 学習\n",
    "prtm = PRTM(inputpath = list_edge, directed_flag=False)\n",
    "prtm.fit(n=0, flag_louvain=True)"
   ]
  },
  {
   "cell_type": "code",
   "execution_count": 190,
   "metadata": {
    "collapsed": false
   },
   "outputs": [
    {
     "name": "stdout",
     "output_type": "stream",
     "text": [
      "クラスタ 0 :  4035\n",
      "クラスタ 1 :  1216\n",
      "クラスタ 2 :  744\n",
      "クラスタ 3 :  3510\n",
      "クラスタ 4 :  2891\n",
      "クラスタ 5 :  236\n",
      "トピック:  0\n",
      "==============\n",
      "良い 0.0517902048481\n",
      "効果 0.0445930799967\n",
      "肌 0.0336212413192\n",
      "いい 0.0293752361469\n",
      "調子 0.0215658164482\n",
      "体 0.0186674590486\n",
      "期待 0.0142624690323\n",
      "ダイエット 0.0119525890746\n",
      "実感 0.0107356379234\n",
      "コラーゲン 0.00909567665319\n",
      "==============\n",
      "トピック:  1\n",
      "==============\n",
      "コラーゲン 0.109369935481\n",
      "こ 0.074710319705\n",
      "ゆき 0.0507464148423\n",
      "みらい 0.0475302471043\n",
      "一緒 0.0466305876465\n",
      "うそ 0.0301505231641\n",
      "一緒に 0.0234404723356\n",
      "摂取 0.0151774383753\n",
      "肌 0.011440338037\n",
      "良い 0.0107737760076\n",
      "==============\n",
      "トピック:  2\n",
      "==============\n",
      "ドリンク 0.0632415289758\n",
      "他 0.0464806522427\n",
      "粉末 0.0438070531705\n",
      "タイプ 0.0413247637461\n",
      "液体 0.0314592022967\n",
      "多い 0.0206836820069\n",
      "手軽 0.0138793038759\n",
      "味 0.0126085706796\n",
      "他社 0.0121550796913\n",
      "supli 0.0108381740656\n",
      "==============\n",
      "トピック:  3\n",
      "==============\n",
      "味 0.0570804290182\n",
      "美味しい 0.0350917955424\n",
      "ない 0.0296974047707\n",
      "感じ 0.0265677140752\n",
      "水 0.0193508446142\n",
      "甘い 0.0187963031386\n",
      "おいしい 0.0175445521283\n",
      "粉 0.0150551192527\n",
      "レモン 0.014741900671\n",
      "ジュース 0.0123352672962\n",
      "==============\n",
      "トピック:  4\n",
      "==============\n",
      "商品 0.0346682609013\n",
      "クーポン 0.0239445788929\n",
      "気 0.0211290102736\n",
      "レビュー 0.0202804854873\n",
      "注文 0.0201904466392\n",
      "値段 0.0200540318852\n",
      "安い 0.016587071082\n",
      "リピ 0.0145064572783\n",
      "よい 0.0141857848992\n",
      "良い 0.0134865848468\n",
      "==============\n",
      "トピック:  5\n",
      "==============\n",
      "スプーン 0.0942299533534\n",
      "家族 0.0321770429494\n",
      "付属 0.0276582666983\n",
      "長い 0.025346974107\n",
      "必要 0.023134135238\n",
      "づらい 0.0170170883391\n",
      "冊子 0.0139808427875\n",
      "袋 0.0136549504226\n",
      "大きい 0.0108927754201\n",
      "倍 0.0104013422253\n",
      "==============\n"
     ]
    }
   ],
   "source": [
    "# 文の分類\n",
    "num_cluster = 6\n",
    "\n",
    "list_cluster = [[] for i in range(num_cluster)]\n",
    "for sen, sep, sepall in zip(list_sentence_rev, list_sep_rev, list_sepall_rev):\n",
    "    label = np.argmax(prtm.infer(sep))\n",
    "    dict_sen_sepall = {'sentence': sen, 'word_all': sepall}\n",
    "    list_cluster[label].append(dict_sen_sepall)\n",
    "\n",
    "for i in range(num_cluster) :\n",
    "    Filer.writedump(list_cluster[i],\n",
    "                    './files/rakuten_ichiba/processedfile/classifiedfile/%s/cluster%s.dump'%(review_num, i))\n",
    "    \n",
    "# clusterの情報\n",
    "for i, row in enumerate(list_cluster):\n",
    "    print 'クラスタ', i, ': ', len(row)\n",
    "\n",
    "for i in range(num_cluster):\n",
    "    prtm.show_topic(n=i)"
   ]
  },
  {
   "cell_type": "code",
   "execution_count": null,
   "metadata": {
    "collapsed": true
   },
   "outputs": [],
   "source": []
  }
 ],
 "metadata": {
  "kernelspec": {
   "display_name": "Python 2",
   "language": "python",
   "name": "python2"
  },
  "language_info": {
   "codemirror_mode": {
    "name": "ipython",
    "version": 2
   },
   "file_extension": ".py",
   "mimetype": "text/x-python",
   "name": "python",
   "nbconvert_exporter": "python",
   "pygments_lexer": "ipython2",
   "version": "2.7.10"
  }
 },
 "nbformat": 4,
 "nbformat_minor": 0
}
