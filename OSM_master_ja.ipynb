{
 "cells": [
  {
   "cell_type": "code",
   "execution_count": 1,
   "metadata": {
    "collapsed": true
   },
   "outputs": [],
   "source": [
    "# coding: utf-8\n",
    "\"\"\"\n",
    "SubModularを実験するためのコード\n",
    "\"\"\"\n",
    "from filer2.filer2 import Filer\n",
    "from library.submodular import OpinionSubModular\n",
    "from library.rouge import Rouge_N\n",
    "import numpy as np\n",
    "import glob"
   ]
  },
  {
   "cell_type": "code",
   "execution_count": 2,
   "metadata": {
    "collapsed": false
   },
   "outputs": [
    {
     "name": "stdout",
     "output_type": "stream",
     "text": [
      "18\n"
     ]
    }
   ],
   "source": [
    "start = 0\n",
    "end = 18\n",
    "\n",
    "list_test_path = glob.glob('./files/rakuten_ichiba/dumpfile/test/*')\n",
    "list_ans_path = glob.glob('./files/rakuten_ichiba/dumpfile/ans/*')\n",
    "\n",
    "list_test_path.sort()\n",
    "list_ans_path.sort()\n",
    "\n",
    "list_test_path = list_test_path[start:end]\n",
    "list_ans_path = list_ans_path[start:end]\n",
    "\n",
    "print len(list_test_path)"
   ]
  },
  {
   "cell_type": "code",
   "execution_count": null,
   "metadata": {
    "collapsed": false,
    "scrolled": false
   },
   "outputs": [
    {
     "name": "stdout",
     "output_type": "stream",
     "text": [
      "1\n",
      "num_sentence:  102\n",
      "num word:  1861\n",
      "num vocabulary:  399\n",
      "計算が終了しました\n",
      "property: list_C\n",
      "計算が終了しました\n",
      "property: list_C\n",
      "計算が終了しました"
     ]
    }
   ],
   "source": [
    "counter = 1\n",
    "for test_path, ans_path in zip(list_test_path, list_ans_path):\n",
    "    dict_test = Filer.readdump(test_path)\n",
    "    dict_ans = Filer.readdump(ans_path)\n",
    "    filename = ans_path.replace('./files/rakuten_ichiba/dumpfile/ans/', '')\n",
    "    filename = filename.replace('.dump', '')\n",
    "    print counter\n",
    "    counter += 1\n",
    "    # テスト用ファイルの作成\n",
    "    # １００単語以上ある文は除く\n",
    "    list_sentence = []\n",
    "    list_sep = []\n",
    "    list_sep_lemmas = []\n",
    "    for row in dict_test:\n",
    "        sepall = row['sep_all']\n",
    "        lemmas = row['sep_all_lemmas']\n",
    "        sen = row['sentence']\n",
    "        if len(sepall) <= 100 and len(sepall) != 0:\n",
    "            list_sentence.append(sen)\n",
    "            list_sep.append(sepall)\n",
    "            list_sep_lemmas.append(lemmas)\n",
    "    \n",
    "    # インスタンス化\n",
    "    OSM = OpinionSubModular(list_sep=list_sep,\n",
    "                            list_sep_lemmas=list_sep_lemmas,\n",
    "                            dict_path='./files/dictionary/dict_word_pol_japanese.dump')\n",
    "    for alpha in [0.5]:\n",
    "        for lamda in [0.1, 0.2, 0.3, 0.4, 0.5, 0.6, 0.7, 0.8, 0.9]:\n",
    "            for r in [0.1, 0.5, 1, 2]:\n",
    "                # 学習\n",
    "                n_cluster = len(list_sep)/5\n",
    "                OSM.m_greedy(num_w=100,\n",
    "                             alpha=alpha,\n",
    "                             lamda=lamda,\n",
    "                             r=r,\n",
    "                             n_cluster=n_cluster)\n",
    "                list_C = OSM.list_C\n",
    "                # Rougeを計算するようにbag_of_wordsを作成する\n",
    "                list_sm_test = [list_sep[row[0]] for row in list_C]\n",
    "                list_sm_ans = dict_ans['sep_all']\n",
    "                try:\n",
    "                    R1 = Rouge_N.rouge(list_sm_test, list_sm_ans, N=1)\n",
    "                except:\n",
    "                    R1 = 0\n",
    "                try:\n",
    "                    R2 = Rouge_N.rouge(list_sm_test, list_sm_ans, N=2)\n",
    "                except:\n",
    "                    R2 = 0\n",
    "                try:\n",
    "                    R3 = Rouge_N.rouge(list_sm_test, list_sm_ans, N=3)\n",
    "                except:\n",
    "                    R3 = 0\n",
    "                try:\n",
    "                    R4 = Rouge_N.rouge(list_sm_test, list_sm_ans, N=4)\n",
    "                except:\n",
    "                    R4 = 0\n",
    "                list_result = [[filename, alpha, lamda, r, R1, R2, R3, R4]]\n",
    "                Filer.writecsv(list_result, './files/rakuten_ichiba/result/OSM/all_%s_%s_%s.csv'%(alpha, lamda, r))"
   ]
  },
  {
   "cell_type": "code",
   "execution_count": null,
   "metadata": {
    "collapsed": true
   },
   "outputs": [],
   "source": []
  }
 ],
 "metadata": {
  "kernelspec": {
   "display_name": "Python 2",
   "language": "python",
   "name": "python2"
  },
  "language_info": {
   "codemirror_mode": {
    "name": "ipython",
    "version": 2
   },
   "file_extension": ".py",
   "mimetype": "text/x-python",
   "name": "python",
   "nbconvert_exporter": "python",
   "pygments_lexer": "ipython2",
   "version": "2.7.10"
  }
 },
 "nbformat": 4,
 "nbformat_minor": 0
}
