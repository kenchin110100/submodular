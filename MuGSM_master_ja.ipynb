{
 "cells": [
  {
   "cell_type": "code",
   "execution_count": 1,
   "metadata": {
    "collapsed": true
   },
   "outputs": [],
   "source": [
    "# coding: utf-8\n",
    "\"\"\"\n",
    "simrankを用いた劣モジュラ最適化の検証\n",
    "\"\"\"\n",
    "from filer2.filer2 import Filer\n",
    "from library.graphsubmodular import Multiplex_GraphSubModular\n",
    "from library.rouge import Rouge_N\n",
    "from library.slackbot import SlackBot\n",
    "import numpy as np\n",
    "import glob"
   ]
  },
  {
   "cell_type": "code",
   "execution_count": 2,
   "metadata": {
    "collapsed": false
   },
   "outputs": [
    {
     "name": "stdout",
     "output_type": "stream",
     "text": [
      "18\n",
      "18\n"
     ]
    }
   ],
   "source": [
    "start = 0\n",
    "end = 18\n",
    "\n",
    "list_test_path = glob.glob('./files/rakuten_ichiba/dumpfile/test/*')\n",
    "list_ans_path = glob.glob('./files/rakuten_ichiba/dumpfile/ans/*')\n",
    "\n",
    "list_test_path.sort()\n",
    "list_ans_path.sort()\n",
    "\n",
    "list_test_path = list_test_path[start:end]\n",
    "list_ans_path = list_ans_path[start:end]\n",
    "\n",
    "print len(list_test_path)\n",
    "print len(list_ans_path)"
   ]
  },
  {
   "cell_type": "code",
   "execution_count": null,
   "metadata": {
    "collapsed": false
   },
   "outputs": [
    {
     "name": "stdout",
     "output_type": "stream",
     "text": [
      "1\n"
     ]
    }
   ],
   "source": [
    "username='プログラムMuGSM1'\n",
    "\n",
    "counter = 1\n",
    "try:\n",
    "    for test_path, ans_path in zip(list_test_path, list_ans_path):\n",
    "        list_test = Filer.readdump(test_path)\n",
    "        dict_ans = Filer.readdump(ans_path)\n",
    "        filename = ans_path.replace('./files/rakuten_ichiba/dumpfile/ans/', '')\n",
    "        filename = filename.replace('.dump', '')\n",
    "        print counter\n",
    "        counter += 1\n",
    "        # テスト用ファイルの作成\n",
    "        # １００単語以上ある文は除く\n",
    "        list_sentence = []\n",
    "        list_sep = []\n",
    "        list_sep_all = []\n",
    "        for row in list_test:\n",
    "            list_sentence.append(row['sentence'])\n",
    "            list_sep.append(row['sep_nj'])\n",
    "            list_sep_all.append(row['sep_all'])\n",
    "\n",
    "        # インスタンス化\n",
    "        MGSM = Multiplex_GraphSubModular(list_sep_all=list_sep_all,\n",
    "                                         list_sep=list_sep_all,\n",
    "                                         weighted=False)\n",
    "        for a, b in [[1.0, 0.0], [0.9, 0.1], [0.8, 0.2],\n",
    "                     [0.7, 0.3], [0.6, 0.4], [0.5, 0.5],\n",
    "                     [0.4, 0.6], [0.3, 0.7], [0.2, 0.8],\n",
    "                     [0.1, 0.9], [0.0, 1.0]]:\n",
    "            # 学習\n",
    "            MGSM.m_greedy(num_w=100,\n",
    "                          r=1,\n",
    "                          scale=0,\n",
    "                          a=a,\n",
    "                          b=b)\n",
    "            # Rougeを計算するようにbag_of_wordsを作成する\n",
    "            list_C = MGSM.list_C\n",
    "            list_gm_test = [list_sep_all[row[0]] for row in list_C]\n",
    "            list_gm_ans = dict_ans['sep_all']\n",
    "            try:\n",
    "                R1 = Rouge_N.rouge(list_gm_test, list_gm_ans, N=1)\n",
    "            except:\n",
    "                R1 = 0\n",
    "            try:\n",
    "                R2 = Rouge_N.rouge(list_gm_test, list_gm_ans, N=2)\n",
    "            except:\n",
    "                R2 = 0\n",
    "            try:\n",
    "                R3 = Rouge_N.rouge(list_gm_test, list_gm_ans, N=3)\n",
    "            except:\n",
    "                R3 = 0\n",
    "            try:\n",
    "                R4 = Rouge_N.rouge(list_gm_test, list_gm_ans, N=4)\n",
    "            except:\n",
    "                R4 = 0\n",
    "            list_result = [[filename, 0, 1, a, b, R1, R2, R3, R4]]\n",
    "            Filer.writecsv(list_result, './files/rakuten_ichiba/result/MuGSM/all_unweighted/all_%s_%s.csv'%(a, b))\n",
    "    SlackBot.post_message(username=username,\n",
    "                          text='%s号機、無事帰還しました！！' % username,\n",
    "                          icon_emoji=':thumbsup:')\n",
    "except:\n",
    "    SlackBot.post_message(username=username,\n",
    "                          text='エラー、下手くそ！！',\n",
    "                          icon_emoji=':troll:')\n",
    "    raise"
   ]
  },
  {
   "cell_type": "code",
   "execution_count": null,
   "metadata": {
    "collapsed": true
   },
   "outputs": [],
   "source": []
  }
 ],
 "metadata": {
  "kernelspec": {
   "display_name": "Python 2",
   "language": "python",
   "name": "python2"
  },
  "language_info": {
   "codemirror_mode": {
    "name": "ipython",
    "version": 2
   },
   "file_extension": ".py",
   "mimetype": "text/x-python",
   "name": "python",
   "nbconvert_exporter": "python",
   "pygments_lexer": "ipython2",
   "version": "2.7.9"
  }
 },
 "nbformat": 4,
 "nbformat_minor": 0
}
