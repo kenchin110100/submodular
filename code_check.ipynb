{
 "cells": [
  {
   "cell_type": "code",
   "execution_count": 1,
   "metadata": {
    "collapsed": false
   },
   "outputs": [],
   "source": [
    "# coding: utf-8\n",
    "\"\"\"\n",
    "作ったライブラリの評価\n",
    "\"\"\"\n",
    "from filer2.filer2 import Filer\n",
    "from library.submodular import *\n",
    "from library.graphsubmodular import *\n",
    "from library.vector import *\n",
    "from library.rouge import *\n",
    "import numpy as np"
   ]
  },
  {
   "cell_type": "markdown",
   "metadata": {
    "collapsed": true
   },
   "source": [
    "### 英語版(Opinosis)"
   ]
  },
  {
   "cell_type": "code",
   "execution_count": 2,
   "metadata": {
    "collapsed": true
   },
   "outputs": [],
   "source": [
    "# ファイルの読み込み\n",
    "dict_test = Filer.readdump('./files/OpinosisDataset1.0/preprocessed/test/battery-life_amazon_kindle.dump')\n",
    "dict_ans = Filer.readdump('./files/OpinosisDataset1.0/preprocessed/ans/battery-life_amazon_kindle.dump')"
   ]
  },
  {
   "cell_type": "code",
   "execution_count": 3,
   "metadata": {
    "collapsed": false
   },
   "outputs": [],
   "source": [
    "# テスト用ファイルの作成\n",
    "# １００単語以上ある文は除く\n",
    "list_sentence = []\n",
    "list_sep = []\n",
    "list_sep_all = []\n",
    "list_edgelist = []\n",
    "for sen, sep, sepall, edge in zip(dict_test['sentence'],\n",
    "                                  dict_test['sep_njv'],\n",
    "                                  dict_test['sep_all'],\n",
    "                                  dict_test['edge_njv']):\n",
    "    if len(sepall) <= 100:\n",
    "        list_sentence.append(sen)\n",
    "        list_sep.append(sep)\n",
    "        list_sep_all.append(sepall)\n",
    "        list_edgelist.append(edge)\n",
    "        \n",
    "list_edgelist = [[row1[0], row1[1]] for row in list_edgelist for row1 in row]"
   ]
  },
  {
   "cell_type": "code",
   "execution_count": 4,
   "metadata": {
    "collapsed": false
   },
   "outputs": [
    {
     "name": "stdout",
     "output_type": "stream",
     "text": [
      "num word:  869\n",
      "num vocabulary:  336\n",
      "Non dictionalized word: "
     ]
    },
    {
     "name": "stderr",
     "output_type": "stream",
     "text": [
      "library/graphsubmodular.py:160: RuntimeWarning: Couldn't reach some vertices at structural_properties.c:4482\n",
      "  output='epath')\n",
      "library/graphsubmodular.py:637: RuntimeWarning: invalid value encountered in divide\n",
      "  G = G / np.sum(G, axis=1, dtype=float)[:,np.newaxis]\n"
     ]
    },
    {
     "name": "stdout",
     "output_type": "stream",
     "text": [
      " 0\n",
      "num_sentence:  89\n",
      "num word:  869\n",
      "num vocabulary:  336\n",
      "num word:  869\n",
      "num vocabulary:  336\n",
      "Non dictionalized word:  0\n"
     ]
    }
   ],
   "source": [
    "# インスタンス化\n",
    "GM = GraphSubModular(list_sep_all=list_sep_all,\n",
    "                     list_sep=list_sep,\n",
    "                     list_edgelist=list_edgelist,\n",
    "                     directed=True,\n",
    "                     inverse_flag=True)\n",
    "V = Vector(list_sep_all=list_sep_all,\n",
    "           list_sep=list_sep,\n",
    "           dict_path = './files/OpinosisDataset1.0/w2v/model_lemmas/model_cbow_s300_w5_m0/dict_word_vec_3')\n",
    "\n",
    "SM = SubModular(list_sep_all=list_sep_all,\n",
    "                list_sep=list_sep)\n",
    "\n",
    "MGSM = Modified_GraphSubModular(list_sep_all=list_sep_all,\n",
    "                                list_sep=list_sep,\n",
    "                                list_edgelist=list_edgelist,\n",
    "                                directed=False,\n",
    "                                simrank_flag=True,\n",
    "                                weighted=False,\n",
    "                                log_flag=True)\n",
    "\n",
    "MV = Modified_Vector(list_sep_all=list_sep_all,\n",
    "           list_sep=list_sep,\n",
    "           dict_path = './files/OpinosisDataset1.0/w2v/model_lemmas/model_cbow_s300_w5_m0/dict_word_vec_3')"
   ]
  },
  {
   "cell_type": "code",
   "execution_count": 5,
   "metadata": {
    "collapsed": false,
    "scrolled": true
   },
   "outputs": [
    {
     "name": "stdout",
     "output_type": "stream",
     "text": [
      "計算が終了しました\n",
      "計算が終了しました\n"
     ]
    }
   ],
   "source": [
    "# 学習\n",
    "GM.m_greedy(num_w=100, r=1, scale=0)\n",
    "V.m_greedy(num_w=100, r=1, scale=0)"
   ]
  },
  {
   "cell_type": "code",
   "execution_count": 6,
   "metadata": {
    "collapsed": false,
    "scrolled": true
   },
   "outputs": [
    {
     "name": "stdout",
     "output_type": "stream",
     "text": [
      "計算が終了しました\n"
     ]
    }
   ],
   "source": [
    "SM.m_greedy(num_w=100, alpha=0.1, lamda=6, n_cluster=10)"
   ]
  },
  {
   "cell_type": "code",
   "execution_count": 7,
   "metadata": {
    "collapsed": false
   },
   "outputs": [
    {
     "name": "stdout",
     "output_type": "stream",
     "text": [
      "計算が終了しました\n",
      "計算が終了しました\n"
     ]
    }
   ],
   "source": [
    "MGSM.m_greedy(num_w=100, r=1, scale=0)\n",
    "MV.m_greedy(num_w=100, r=1, scale=0)"
   ]
  },
  {
   "cell_type": "code",
   "execution_count": 8,
   "metadata": {
    "collapsed": false,
    "scrolled": true
   },
   "outputs": [
    {
     "name": "stdout",
     "output_type": "stream",
     "text": [
      "GM:\n",
      "sentence:  property: list_C\n",
      "5\n",
      "property: list_C\n",
      "52\n",
      "7\n",
      "9\n",
      "22\n",
      "8\n",
      "V:\n",
      "sentence:  property: list_C\n",
      "9\n",
      "property: list_C\n",
      "30\n",
      "5\n",
      "7\n",
      "10\n",
      "15\n",
      "9\n",
      "7\n",
      "11\n",
      "5\n",
      "SM:\n",
      "sentence:  property: list_C\n",
      "12\n",
      "property: list_C\n",
      "6\n",
      "6\n",
      "5\n",
      "5\n",
      "8\n",
      "5\n",
      "10\n",
      "11\n",
      "9\n",
      "12\n",
      "9\n",
      "9\n",
      "MGSM:\n",
      "sentence:  property: list_C\n",
      "9\n",
      "property: list_C\n",
      "5\n",
      "6\n",
      "10\n",
      "9\n",
      "12\n",
      "7\n",
      "11\n",
      "22\n",
      "16\n",
      "MV:\n",
      "sentence:  property: list_C\n",
      "8\n",
      "property: list_C\n",
      "52\n",
      "5\n",
      "5\n",
      "5\n",
      "6\n",
      "11\n",
      "9\n",
      "7\n"
     ]
    }
   ],
   "source": [
    "# 文書数のチェック\n",
    "print 'GM:'\n",
    "print 'sentence: ', len(GM.list_C)\n",
    "for row in GM.list_C:\n",
    "    print len(row[2])\n",
    "print 'V:'\n",
    "print 'sentence: ', len(V.list_C)\n",
    "for row in V.list_C:\n",
    "    print len(row[2])\n",
    "print 'SM:'\n",
    "print 'sentence: ', len(SM.list_C)\n",
    "for row in SM.list_C:\n",
    "    print len(row[2])\n",
    "print 'MGSM:'\n",
    "print 'sentence: ', len(MGSM.list_C)\n",
    "for row in MGSM.list_C:\n",
    "    print len(row[2])\n",
    "print 'MV:'\n",
    "print 'sentence: ', len(MV.list_C)\n",
    "for row in MV.list_C:\n",
    "    print len(row[2])"
   ]
  },
  {
   "cell_type": "code",
   "execution_count": 9,
   "metadata": {
    "collapsed": false
   },
   "outputs": [
    {
     "name": "stdout",
     "output_type": "stream",
     "text": [
      "property: list_C\n",
      "11\n",
      "66\n",
      "88\n",
      "18\n",
      "85\n",
      "property: list_C\n",
      "87\n",
      "86\n",
      "66\n",
      "57\n",
      "30\n",
      "45\n",
      "36\n",
      "24\n",
      "21\n",
      "property: list_C\n",
      "76\n",
      "34\n",
      "86\n",
      "21\n",
      "85\n",
      "15\n",
      "57\n",
      "61\n",
      "45\n",
      "41\n",
      "55\n",
      "88\n",
      "property: list_C\n",
      "86\n",
      "34\n",
      "57\n",
      "45\n",
      "26\n",
      "36\n",
      "29\n",
      "18\n",
      "56\n",
      "property: list_C\n",
      "5\n",
      "86\n",
      "15\n",
      "21\n",
      "34\n",
      "29\n",
      "45\n",
      "36\n"
     ]
    }
   ],
   "source": [
    "for row in GM.list_C:\n",
    "    print row[0]\n",
    "for row in V.list_C:\n",
    "    print row[0]\n",
    "for row in SM.list_C:\n",
    "    print row[0]\n",
    "for row in MGSM.list_C:\n",
    "    print row[0]\n",
    "for row in MV.list_C:\n",
    "    print row[0]"
   ]
  },
  {
   "cell_type": "code",
   "execution_count": 36,
   "metadata": {
    "collapsed": false
   },
   "outputs": [
    {
     "name": "stdout",
     "output_type": "stream",
     "text": [
      "property: list_C\n",
      "100\n"
     ]
    }
   ],
   "source": [
    "# 単語数のチェック\n",
    "counter = 0\n",
    "for row in SM.list_C:\n",
    "    counter += len(row[2])\n",
    "print counter"
   ]
  },
  {
   "cell_type": "code",
   "execution_count": 13,
   "metadata": {
    "collapsed": false
   },
   "outputs": [
    {
     "name": "stdout",
     "output_type": "stream",
     "text": [
      "property: list_C\n",
      "property: list_C\n",
      "property: list_C\n",
      "property: list_C\n",
      "property: list_C\n"
     ]
    }
   ],
   "source": [
    "# Rougeを計算するようにbag_of_wordsを作成する\n",
    "list_gm_test = [row[2] for row in GM.list_C]\n",
    "list_v_test = [row[2] for row in V.list_C]\n",
    "list_sm_test = [row[2] for row in SM.list_C]\n",
    "list_mgm_test = [row[2] for row in MGM.list_C]\n",
    "list_mv_test = [row[2] for row in GM.list_C]"
   ]
  },
  {
   "cell_type": "code",
   "execution_count": 19,
   "metadata": {
    "collapsed": false
   },
   "outputs": [
    {
     "name": "stdout",
     "output_type": "stream",
     "text": [
      "0.68\n",
      "0.64\n",
      "0.6\n",
      "0.68\n",
      "0.68\n"
     ]
    }
   ],
   "source": [
    "num=4\n",
    "print Rouge_N.rouge(list_gm_test, dict_ans['sep_all'][num], N=1)\n",
    "print Rouge_N.rouge(list_v_test, dict_ans['sep_all'][num], N=1)\n",
    "print Rouge_N.rouge(list_sm_test, dict_ans['sep_all'][num], N=1)\n",
    "print Rouge_N.rouge(list_mgm_test, dict_ans['sep_all'][num], N=1)\n",
    "print Rouge_N.rouge(list_mv_test, dict_ans['sep_all'][num], N=1)"
   ]
  },
  {
   "cell_type": "code",
   "execution_count": 41,
   "metadata": {
    "collapsed": false
   },
   "outputs": [
    {
     "name": "stdout",
     "output_type": "stream",
     "text": [
      "[[2 1 1 1 1 1 1 1]\n",
      " [3 2 2 2 2 2 2 2]\n",
      " [4 3 3 3 3 3 3 3]\n",
      " [5 4 4 4 4 4 4 4]]\n"
     ]
    }
   ],
   "source": [
    "b = np.array([1,2,3,4])\n",
    "#a = np.array([2,3,4,5])\n",
    "a = np.c_[a,b]\n",
    "print a"
   ]
  },
  {
   "cell_type": "code",
   "execution_count": 7,
   "metadata": {
    "collapsed": false
   },
   "outputs": [
    {
     "data": {
      "text/plain": [
       "array([], dtype=float64)"
      ]
     },
     "execution_count": 7,
     "metadata": {},
     "output_type": "execute_result"
    }
   ],
   "source": [
    "a"
   ]
  },
  {
   "cell_type": "code",
   "execution_count": null,
   "metadata": {
    "collapsed": true
   },
   "outputs": [],
   "source": []
  }
 ],
 "metadata": {
  "kernelspec": {
   "display_name": "Python 2",
   "language": "python",
   "name": "python2"
  },
  "language_info": {
   "codemirror_mode": {
    "name": "ipython",
    "version": 2
   },
   "file_extension": ".py",
   "mimetype": "text/x-python",
   "name": "python",
   "nbconvert_exporter": "python",
   "pygments_lexer": "ipython2",
   "version": "2.7.10"
  }
 },
 "nbformat": 4,
 "nbformat_minor": 0
}
