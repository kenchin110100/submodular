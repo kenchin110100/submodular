{
 "cells": [
  {
   "cell_type": "code",
   "execution_count": 1,
   "metadata": {
    "collapsed": false
   },
   "outputs": [],
   "source": [
    "# coding: utf-8\n",
    "\"\"\"\n",
    "作ったライブラリの評価\n",
    "\"\"\"\n",
    "from filer2.filer2 import Filer\n",
    "from library.submodular import SubModular, GraphSubModular, Vector"
   ]
  },
  {
   "cell_type": "code",
   "execution_count": 24,
   "metadata": {
    "collapsed": true
   },
   "outputs": [],
   "source": [
    "# コーパスの読み込み\n",
    "list_corpus = Filer.readtsv('./files/classifiedfile/type11/bigram/morpho/n_adj/classified-1238_0.tsv')\n",
    "list_text = Filer.readtxt('./files/classifiedfile/type11/bigram/sentence/classified-1238_0.txt')\n",
    "list_edgelist = Filer.readtsv('./files/classifiedfile/type11/bigram/syntax/non_verb/classified-1238_0.tsv')"
   ]
  },
  {
   "cell_type": "code",
   "execution_count": 25,
   "metadata": {
    "collapsed": false
   },
   "outputs": [
    {
     "name": "stdout",
     "output_type": "stream",
     "text": [
      "num_sentence:  676\n",
      "num word:  4150\n",
      "num vocabulary:  1126\n",
      "num word:  4150\n",
      "num vocabulary:  1126\n",
      "Non dictionalized word:  0\n"
     ]
    }
   ],
   "source": [
    "# インスタンス化\n",
    "SM = SubModular(list_corpus)\n",
    "V = Vector(list_corpus, './files/wordvectorfile/list_word_vec_s300_w5_m0_neologd_proto.tsv')\n",
    "GSM = GraphSubModular(list_bag=list_corpus, list_edgelist=list_edgelist, directed=True, inverse_flag=True)"
   ]
  },
  {
   "cell_type": "code",
   "execution_count": 26,
   "metadata": {
    "collapsed": false
   },
   "outputs": [
    {
     "name": "stdout",
     "output_type": "stream",
     "text": [
      "計算が終了しました\n",
      "-4.29035862495e+25\n",
      "-3.51029344467e+25\n",
      "-3.12026085854e+25\n",
      "-2.73022825134e+25\n",
      "-50789036.5215\n",
      "-49771034.63\n",
      "-48812836.1412\n",
      "-48213791.2126\n"
     ]
    }
   ],
   "source": [
    "SM.greedy(alpha=float(6)/446, lamda=6, n_cluster=40)\n",
    "V.m_greedy()\n",
    "GSM.m_greedy()"
   ]
  },
  {
   "cell_type": "code",
   "execution_count": 27,
   "metadata": {
    "collapsed": false
   },
   "outputs": [
    {
     "name": "stdout",
     "output_type": "stream",
     "text": [
      "property: list_C_id\n",
      "[248, 423, 323, 371, 132]\n",
      "property: list_C\n",
      "[[527, ['1\\xe6\\x9c\\x88', '25\\xe6\\x97\\xa5', '\\xe9\\xa7\\x85', '\\xe7\\x9b\\xb4\\xe7\\xb5\\x90', '\\xe3\\x81\\xaa\\xe3\\x81\\x84', '\\xe5\\x88\\xb0\\xe7\\x9d\\x80', '\\xe3\\x83\\xbc', '\\xe4\\xba\\x88\\xe5\\xae\\x9a', '\\xe3\\x83\\x81\\xe3\\x82\\xa7\\xe3\\x83\\x83\\xe3\\x82\\xaf\\xe3\\x82\\xa4\\xe3\\x83\\xb3', '\\xe6\\x97\\xa9\\xe3\\x81\\x84', '\\xe3\\x81\\xaa\\xe3\\x81\\x84', '\\xe3\\x83\\x81\\xe3\\x82\\xa7\\xe3\\x83\\x83\\xe3\\x82\\xaf\\xe3\\x82\\xa4\\xe3\\x83\\xb3', '\\xe8\\x89\\xaf\\xe3\\x81\\x84', '\\xe9\\x83\\xa8\\xe5\\xb1\\x8b', '\\xe3\\x82\\xa2\\xe3\\x83\\x83\\xe3\\x83\\x97\\xe3\\x82\\xb0\\xe3\\x83\\xac\\xe3\\x83\\xbc\\xe3\\x83\\x89', '\\xe5\\xac\\x89\\xe3\\x81\\x97\\xe3\\x81\\x84', '\\xe9\\x83\\xa8\\xe5\\xb1\\x8b', '\\xe6\\xa1\\x88\\xe5\\x86\\x85', '\\xe5\\xa7\\x89\\xe3\\x81\\x95\\xe3\\x82\\x93', '\\xe4\\xb8\\x81\\xe5\\xaf\\xa7', '\\xe8\\xb3\\xaa\\xe5\\x95\\x8f', '\\xe7\\xac\\x91\\xe9\\xa1\\x94', '\\xe3\\x82\\x84\\xe3\\x81\\x99\\xe3\\x81\\x84', '\\xe3\\x83\\xad\\xe3\\x83\\xbc\\xe3\\x82\\xbd\\xe3\\x83\\xb3', '\\xe3\\x83\\x87\\xe3\\x82\\xa3\\xe3\\x82\\xba\\xe3\\x83\\x8b\\xe3\\x83\\xbc\\xe3\\x82\\xb7\\xe3\\x83\\xbc', '\\xe9\\x80\\x81\\xe8\\xbf\\x8e', '\\xe5\\xae\\x89\\xe3\\x81\\x84', '\\xe6\\x9c\\x9f\\xe5\\xbe\\x85', '\\xe3\\x81\\xaa\\xe3\\x81\\x8b\\xe3\\x81\\xa3\\xe3\\x81\\x9f', '\\xe3\\x81\\x99\\xe3\\x81\\x94\\xe3\\x81\\x84', '\\xe6\\xba\\x80\\xe8\\xb6\\xb3', '\\xe5\\x88\\xa9\\xe7\\x94\\xa8', '\\xe3\\x81\\x97\\xe3\\x81\\xbe', '\\xe3\\x83\\xbc']], [301, ['\\xe3\\x82\\xa8\\xe3\\x83\\xb3\\xe3\\x83\\x88\\xe3\\x83\\xa9\\xe3\\x83\\xb3\\xe3\\x82\\xb9', '\\xe8\\xad\\xa6\\xe5\\x82\\x99\\xe5\\x93\\xa1', '\\xe5\\xad\\x90\\xe9\\x80\\xa3\\xe3\\x82\\x8c', '\\xe8\\x8d\\xb7\\xe7\\x89\\xa9', '\\xe5\\xa4\\x9a\\xe3\\x81\\x84']], [342, ['\\xe3\\x82\\xa8\\xe3\\x83\\xac\\xe3\\x83\\x99\\xe3\\x83\\xbc\\xe3\\x82\\xbf\\xe3\\x83\\xbc', '\\xef\\xbc\\x94\\xe3\\x81\\xa4', '\\xe9\\x9a\\x8e\\xe6\\xae\\xb5', '\\xe6\\xb0\\x97']], [35, ['\\xe3\\x82\\xa2\\xe3\\x82\\xb8\\xe3\\x82\\xa2\\xe7\\xb3\\xbb', '\\xe5\\xbe\\x93\\xe6\\xa5\\xad\\xe5\\x93\\xa1', '\\xe6\\x95\\x99\\xe8\\x82\\xb2', '\\xe5\\xbf\\x85\\xe8\\xa6\\x81', '\\xe3\\x81\\xaa\\xe3\\x81\\x84', '\\xe3\\x81\\xa7\\xe3\\x81\\x99\\xe3\\x81\\x8b']], [275, ['\\xe3\\x83\\x81\\xe3\\x83\\x83\\xe3\\x82\\xaf', '\\xe3\\x82\\xa4\\xe3\\x83\\xb3', '\\xe6\\x98\\xbc\\xe5\\xaf\\x9d', '\\xe7\\x8c\\x9b\\xe6\\x9a\\x91', '\\xe8\\xa5\\xbf\\xe6\\x97\\xa5', '\\xe6\\x9a\\x91\\xe3\\x81\\x8b\\xe3\\x81\\xa3\\xe3\\x81\\x9f']]]\n",
      "property: list_C\n",
      "[[527, ['1\\xe6\\x9c\\x88', '25\\xe6\\x97\\xa5', '\\xe9\\xa7\\x85', '\\xe7\\x9b\\xb4\\xe7\\xb5\\x90', '\\xe3\\x81\\xaa\\xe3\\x81\\x84', '\\xe5\\x88\\xb0\\xe7\\x9d\\x80', '\\xe3\\x83\\xbc', '\\xe4\\xba\\x88\\xe5\\xae\\x9a', '\\xe3\\x83\\x81\\xe3\\x82\\xa7\\xe3\\x83\\x83\\xe3\\x82\\xaf\\xe3\\x82\\xa4\\xe3\\x83\\xb3', '\\xe6\\x97\\xa9\\xe3\\x81\\x84', '\\xe3\\x81\\xaa\\xe3\\x81\\x84', '\\xe3\\x83\\x81\\xe3\\x82\\xa7\\xe3\\x83\\x83\\xe3\\x82\\xaf\\xe3\\x82\\xa4\\xe3\\x83\\xb3', '\\xe8\\x89\\xaf\\xe3\\x81\\x84', '\\xe9\\x83\\xa8\\xe5\\xb1\\x8b', '\\xe3\\x82\\xa2\\xe3\\x83\\x83\\xe3\\x83\\x97\\xe3\\x82\\xb0\\xe3\\x83\\xac\\xe3\\x83\\xbc\\xe3\\x83\\x89', '\\xe5\\xac\\x89\\xe3\\x81\\x97\\xe3\\x81\\x84', '\\xe9\\x83\\xa8\\xe5\\xb1\\x8b', '\\xe6\\xa1\\x88\\xe5\\x86\\x85', '\\xe5\\xa7\\x89\\xe3\\x81\\x95\\xe3\\x82\\x93', '\\xe4\\xb8\\x81\\xe5\\xaf\\xa7', '\\xe8\\xb3\\xaa\\xe5\\x95\\x8f', '\\xe7\\xac\\x91\\xe9\\xa1\\x94', '\\xe3\\x82\\x84\\xe3\\x81\\x99\\xe3\\x81\\x84', '\\xe3\\x83\\xad\\xe3\\x83\\xbc\\xe3\\x82\\xbd\\xe3\\x83\\xb3', '\\xe3\\x83\\x87\\xe3\\x82\\xa3\\xe3\\x82\\xba\\xe3\\x83\\x8b\\xe3\\x83\\xbc\\xe3\\x82\\xb7\\xe3\\x83\\xbc', '\\xe9\\x80\\x81\\xe8\\xbf\\x8e', '\\xe5\\xae\\x89\\xe3\\x81\\x84', '\\xe6\\x9c\\x9f\\xe5\\xbe\\x85', '\\xe3\\x81\\xaa\\xe3\\x81\\x8b\\xe3\\x81\\xa3\\xe3\\x81\\x9f', '\\xe3\\x81\\x99\\xe3\\x81\\x94\\xe3\\x81\\x84', '\\xe6\\xba\\x80\\xe8\\xb6\\xb3', '\\xe5\\x88\\xa9\\xe7\\x94\\xa8', '\\xe3\\x81\\x97\\xe3\\x81\\xbe', '\\xe3\\x83\\xbc']], [360, ['\\xe8\\xaa\\xac\\xe6\\x98\\x8e', '\\xe6\\xac\\xb2\\xe3\\x81\\x97\\xe3\\x81\\x84']], [201, ['\\xe3\\x83\\x95\\xe3\\x83\\xad\\xe3\\x83\\xb3\\xe3\\x83\\x88', '\\xe6\\x89\\x8b\\xe7\\xb6\\x9a\\xe3\\x81\\x8d', '\\xe5\\x88\\x97']], [584, ['\\xe8\\xbb\\x8a', '\\xe6\\xb3\\xa8\\xe6\\x84\\x8f']], [602, ['\\xe9\\xab\\xaa', '\\xe3\\x81\\xb3\\xe3\\x81\\xa3\\xe3\\x81\\x8f\\xe3\\x82\\x8a']]]\n"
     ]
    }
   ],
   "source": [
    "print SM.list_C_id\n",
    "print V.list_C\n",
    "print GSM.list_C"
   ]
  },
  {
   "cell_type": "code",
   "execution_count": 29,
   "metadata": {
    "collapsed": false
   },
   "outputs": [
    {
     "name": "stdout",
     "output_type": "stream",
     "text": [
      "property: list_C_id\n",
      "248 大人2人、子供1人で部屋の予約をしていたのですが、チェックインをして案内された部屋に入ったらベッドが2台、タオルなどの備品も2人分しかなく、フロントに電話をしたら「すぐにお持ちします」と言ってたわりにはなかなか来ずで、遅いなぁーと思っていたらフロントから電話があり、案内する部屋を間違えたとの事で部屋を移動したんですが、チェックイン時にフロントの方がもう少し、きちんと対応してくれていれば良かったと思います\n",
      "423 ディズニーリゾートで遊ぶために利用させていただきましたフロントの方の丁寧で対応もよく、気持ちよくチェックインできました部屋もランクアップしてくださって、良かったです\n",
      "323 荷物を部屋に運んでくださったスタッフさんもとても親切に話を聞いてくださったり、フロントや荷物を預かってくださるスタッフさんたちも皆さんとても親切です\n",
      "371 残念だったのは、チェックインの際のフロントの方の対応でした\n",
      "132 その後の対応も悪く、従業員全体が知らんぷりな感じがして、チェックアウトの際にも一言もフロントスタッフからは謝りなく、一応副主任からの謝罪ありましたが普通のホテルならフロントスタッフからもあると思います\n"
     ]
    }
   ],
   "source": [
    "for i in SM.list_C_id:\n",
    "    print i, list_text[i]"
   ]
  },
  {
   "cell_type": "code",
   "execution_count": 30,
   "metadata": {
    "collapsed": false
   },
   "outputs": [
    {
     "name": "stdout",
     "output_type": "stream",
     "text": [
      "property: list_C\n",
      "527 1月24〜25日で1泊しました♪駅直結で迷うことなく到着ー予定のチェックイン時間よりだいぶ早く着いてしまったんですがなんの問題もなくチェックインできたので良かった★部屋もアップグレードしていただいて嬉しかったです(^∀^)部屋まで案内してくれたお姉さんがとても丁寧で私達の質問にも笑顔でわかりやすく答えてくれました☆ローソンもあるしディズニーシーまでの送迎もあったので助かりました!!安いので全然期待してなかったですがすごく満足です!!また利用しまーす(∀)\n",
      "301 エントランスなのに警備員始め誰もおられず子連れで荷物多い中困りました\n",
      "342 エレベーターが４つもありながらなかなか来ず、階段で下りることもできないのも気になりました\n",
      "35 アジア系の従業員でしたが、きちんとした教育が必要ではないですか\n",
      "275 　チックインして　お昼寝をしましたが　この猛暑で　西日が暑かった\n"
     ]
    }
   ],
   "source": [
    "for i, _ in V.list_C:\n",
    "    print i, list_text[i]"
   ]
  },
  {
   "cell_type": "code",
   "execution_count": 31,
   "metadata": {
    "collapsed": false
   },
   "outputs": [
    {
     "name": "stdout",
     "output_type": "stream",
     "text": [
      "property: list_C\n",
      "527 1月24〜25日で1泊しました♪駅直結で迷うことなく到着ー予定のチェックイン時間よりだいぶ早く着いてしまったんですがなんの問題もなくチェックインできたので良かった★部屋もアップグレードしていただいて嬉しかったです(^∀^)部屋まで案内してくれたお姉さんがとても丁寧で私達の質問にも笑顔でわかりやすく答えてくれました☆ローソンもあるしディズニーシーまでの送迎もあったので助かりました!!安いので全然期待してなかったですがすごく満足です!!また利用しまーす(∀)\n",
      "360 しっかり説明して欲しかったです\n",
      "201 フロントの手続きに、列も出来ていました\n",
      "584 車の方はご注意を\n",
      "602 知らずに髪に当ててびっくりしました\n"
     ]
    }
   ],
   "source": [
    "for i, _ in GSM.list_C:\n",
    "    print i, list_text[i]"
   ]
  },
  {
   "cell_type": "code",
   "execution_count": null,
   "metadata": {
    "collapsed": true
   },
   "outputs": [],
   "source": []
  }
 ],
 "metadata": {
  "kernelspec": {
   "display_name": "Python 2",
   "language": "python",
   "name": "python2"
  },
  "language_info": {
   "codemirror_mode": {
    "name": "ipython",
    "version": 2
   },
   "file_extension": ".py",
   "mimetype": "text/x-python",
   "name": "python",
   "nbconvert_exporter": "python",
   "pygments_lexer": "ipython2",
   "version": "2.7.10"
  }
 },
 "nbformat": 4,
 "nbformat_minor": 0
}
